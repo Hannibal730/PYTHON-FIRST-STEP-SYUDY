{
 "cells": [
  {
   "cell_type": "code",
   "execution_count": null,
   "metadata": {},
   "outputs": [],
   "source": [
    "# 셀레니움이 웹드라이버를 써서 모든 정보를 다 가져옴. 그걸 뷰티풀 스프로 정제해서 가져와야 함.\n",
    "# 웹드라이버는 셀레니움이 쓰는 '전용' 크롬, 파이어폭스, 엣지과 같은 것들이다.\n",
    "# 따라서 우리가 평소애 쓰는 크롬과 셀레니움이 쓸 전용 크롬이 둘 다 깔려있어야 한다."
   ]
  },
  {
   "cell_type": "code",
   "execution_count": 11,
   "metadata": {},
   "outputs": [
    {
     "name": "stdout",
     "output_type": "stream",
     "text": [
      "====================================================================================================\n",
      " 이 크롤러는 RISS 사이트의 논문 및 학술자료 수집용 웹크롤러입니다.\n",
      "====================================================================================================\n",
      "\n",
      "\n"
     ]
    }
   ],
   "source": [
    "# Step 1. 필요한 모듈을 로딩합니다\n",
    "from selenium import webdriver\n",
    "from selenium.webdriver.common.by import By\n",
    "from selenium.webdriver.chrome.service import Service\n",
    "import time\n",
    "\n",
    "# 사용자에게 검색 관련 정보들을 입력 받습니다.\n",
    "print(\"=\" * 100)\n",
    "print(\" 이 크롤러는 RISS 사이트의 논문 및 학술자료 수집용 웹크롤러입니다.\")\n",
    "print(\"=\" * 100)\n",
    "query_txt = input('1.수집할 자료의 키워드는 무엇입니까?(여러개일 경우 , 로 구분하여 입력): ')\n",
    "print(\"\\n\")\n",
    "\n",
    "# 크롬 드라이버 설정 및 웹 페이지 열기\n",
    "chrome_path = \"C:/temp/chromedriver.exe\"\n",
    "service = Service(chrome_path)\n",
    "driver = webdriver.Chrome(service=service)\n",
    "\n",
    "url = 'http://www.riss.kr/'\n",
    "driver.get(url)  # 사이트에 접속하라는 의미\n",
    "time.sleep(5)    # 5초 동안 기다리라는 의미. 페이지가 열리는 5초 동안 기다리라는 의미.\n",
    "\n",
    "\n",
    "\n",
    "#Step 4. 자동으로 검색어 입력 후 조회하기\n",
    "\n",
    "#웹드라이버로 들어간다음, F12, 좌측상단 파란 화살표로 '검색창'을 눌러서 id, name, xpath 셋 중 하나를 찾아야 함.\n",
    "#riss.kr에서 위 과정을 해본 결과, 검색창의 id와 name은 'query'였다.\n",
    "\n",
    "element = driver.find_element(By.ID, \"query\")  \n",
    "element.click()  # .click()은 검색창을 한 번 눌러서 활성화시키라는 의미이다.\n",
    "element.send_keys(query_txt)  # send_keys()는 타자치라는 의미이다.\n",
    "element.send_keys(\"\\n\")  # \\n는 엔터를 치라는 의미이다.\n"
   ]
  },
  {
   "cell_type": "code",
   "execution_count": null,
   "metadata": {},
   "outputs": [],
   "source": []
  }
 ],
 "metadata": {
  "kernelspec": {
   "display_name": "base",
   "language": "python",
   "name": "python3"
  },
  "language_info": {
   "codemirror_mode": {
    "name": "ipython",
    "version": 3
   },
   "file_extension": ".py",
   "mimetype": "text/x-python",
   "name": "python",
   "nbconvert_exporter": "python",
   "pygments_lexer": "ipython3",
   "version": "3.11.7"
  }
 },
 "nbformat": 4,
 "nbformat_minor": 2
}
