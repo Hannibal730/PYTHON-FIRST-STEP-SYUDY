{
 "cells": [
  {
   "cell_type": "code",
   "execution_count": null,
   "id": "704c247e",
   "metadata": {},
   "outputs": [],
   "source": [
    "#사용자 정의함수\n",
    "# def:와 return의 조합으로 함수 만들어보기"
   ]
  },
  {
   "cell_type": "code",
   "execution_count": 17,
   "id": "18e1ed7d",
   "metadata": {},
   "outputs": [
    {
     "name": "stdout",
     "output_type": "stream",
     "text": [
      "3 과(와) 4 의 더한 값은 7입니다\n"
     ]
    }
   ],
   "source": [
    "#예제 1\n",
    "\n",
    "def p(x,y) :\n",
    "    result = print('%s 과(와) %s 의 더한 값은 %s입니다' %(x,y,x+y))\n",
    "    return result\n",
    "\n",
    "p(3,4)"
   ]
  },
  {
   "cell_type": "code",
   "execution_count": 18,
   "id": "3e75d58e",
   "metadata": {},
   "outputs": [
    {
     "name": "stdout",
     "output_type": "stream",
     "text": [
      "4와 11의 합은 15입니다\n"
     ]
    }
   ],
   "source": [
    "# 직접 해보기\n",
    "\n",
    "def Q(x,y):\n",
    "    result=print('%s와 %s의 합은 %s입니다'%(x,y,x+y))\n",
    "    return result\n",
    "\n",
    "Q(4,11)"
   ]
  },
  {
   "cell_type": "code",
   "execution_count": 13,
   "id": "725d68c1",
   "metadata": {},
   "outputs": [
    {
     "name": "stdout",
     "output_type": "stream",
     "text": [
      "입력하신 숫자의 합은 9입니다\n",
      "입력하신 숫자의 합은 20입니다\n"
     ]
    }
   ],
   "source": [
    "#예제 2\n",
    "\n",
    "def p(*x) :\n",
    "    hap = 0\n",
    "    for i in x :\n",
    "        hap += i\n",
    "    return('입력하신 숫자의 합은 %s입니다' %hap)\n",
    "\n",
    "print( p(1,3,5) )\n",
    "print( p(2,4,6,8))"
   ]
  },
  {
   "cell_type": "code",
   "execution_count": 25,
   "id": "a35ff0ac",
   "metadata": {},
   "outputs": [
    {
     "name": "stdout",
     "output_type": "stream",
     "text": [
      "입력한 숫자들의 합은 15입니다\n",
      "입력한 숫자들의 합은 30입니다\n"
     ]
    }
   ],
   "source": [
    "#직접 해보기\n",
    "# 변수X앞에 *를 붙인 의미: 사용자가 변수를 몇 개나 입력할지 모르겠으니까, x에 입력된 값은 파이썬 너가 알아서 판단해줘\n",
    "# 만약 사용자가 *x의 x에 1,2,3,4를 입력했다면, for i in x를 썼을 때 컴퓨터가 *x를 [1,2,3,4]로 인식하고서 1,2,3,4를 하나씩 꺼내줌\n",
    "def p(*x) :\n",
    "    hap=0\n",
    "    for i in x :\n",
    "        hap=hap+i\n",
    "        #hap+=i 과 같은 말이다.\n",
    "    return('입력한 숫자들의 합은 %s입니다'%hap)\n",
    "#함수 제작 완성\n",
    "#직접 값을 넣어보며 실행할 차례\n",
    "\n",
    "print(p(1,2,3,4,5,))\n",
    "print(p(10,20))"
   ]
  },
  {
   "cell_type": "code",
   "execution_count": 1,
   "id": "4a8b8b15",
   "metadata": {},
   "outputs": [
    {
     "name": "stdout",
     "output_type": "stream",
     "text": [
      "4\n"
     ]
    }
   ],
   "source": [
    "#사용자 정의함수 예시\n",
    "# 두 숫자를 입력 받아서 큰 수에서 작은 수 뺀 결과 값 출력하기\n",
    "def data1(a,b) :\n",
    "    if a > b :\n",
    "        print(a - b)\n",
    "    else :\n",
    "        print(b - a )\n",
    "        \n",
    "data1(6,2)"
   ]
  },
  {
   "cell_type": "code",
   "execution_count": 37,
   "id": "99c04c51",
   "metadata": {},
   "outputs": [
    {
     "name": "stdout",
     "output_type": "stream",
     "text": [
      "17\n",
      "96\n"
     ]
    }
   ],
   "source": [
    "#풀이 안 보고 직접 해보기\n",
    "# 두 숫자를 입력 받아서 큰 수에서 작은 수 뺀 결과 값 출력하기\n",
    "\n",
    "def p(x,y):\n",
    "    return max(x,y)-min(x,y)\n",
    "\n",
    "print(p(20,3))\n",
    "print(p(4,100))\n"
   ]
  },
  {
   "cell_type": "code",
   "execution_count": 38,
   "id": "85d579ef",
   "metadata": {},
   "outputs": [
    {
     "data": {
      "text/plain": [
       "9"
      ]
     },
     "execution_count": 38,
     "metadata": {},
     "output_type": "execute_result"
    }
   ],
   "source": [
    "#사용자 정의함수 예시\n",
    "# 여러개의 숫자를 입력 받아서 가장 큰 값 출력하기\n",
    "def maxprint( *a ) :\n",
    "    max = 0\n",
    "    for i in a :\n",
    "        if i > max :\n",
    "            max = i\n",
    "            #이때 i가 max인 것이 아니라, max가 i값이 되는 것이다.\n",
    "    return max\n",
    "\n",
    "maxprint(3,2,5,9,4)"
   ]
  },
  {
   "cell_type": "code",
   "execution_count": 42,
   "id": "3934c5e8",
   "metadata": {},
   "outputs": [
    {
     "data": {
      "text/plain": [
       "10"
      ]
     },
     "execution_count": 42,
     "metadata": {},
     "output_type": "execute_result"
    }
   ],
   "source": [
    "#직접 해보기\n",
    "#여러개의 숫자를 입력 받아서 가장 큰 값 출력하기\n",
    "\n",
    "#idea: 버블 정렬\n",
    "#여러 값들을 받았을 때, 앞의 두 개를 대소 비교하여 대소 순서로 정렬, 그 다음 두 개에서도 반복,\n",
    "#그 다음에서도 반복,,,, 이렇게 해서 대소 순서로 정렬하는 알고리즘\n",
    "\n",
    "def maxprint(*a):\n",
    "    max=0\n",
    "    for i in a:\n",
    "        if i>max:\n",
    "            max=i\n",
    "    return max\n",
    "\n",
    "maxprint(4,5,2,1,10,8)\n"
   ]
  },
  {
   "cell_type": "code",
   "execution_count": 4,
   "id": "905602c9",
   "metadata": {},
   "outputs": [
    {
     "data": {
      "text/plain": [
       "6"
      ]
     },
     "execution_count": 4,
     "metadata": {},
     "output_type": "execute_result"
    }
   ],
   "source": [
    "#사용자 정의함수 예시\n",
    "# 임의의 갯수의 숫자를 입력받아서 총 합을 출력하는 함수\n",
    "def total_add( *a ) :\n",
    "    total = 0\n",
    "    for i in a :\n",
    "        total += i\n",
    "    return total\n",
    "\n",
    "total_add(1,2,3)"
   ]
  },
  {
   "cell_type": "code",
   "execution_count": 44,
   "id": "262d7177",
   "metadata": {},
   "outputs": [
    {
     "data": {
      "text/plain": [
       "115"
      ]
     },
     "execution_count": 44,
     "metadata": {},
     "output_type": "execute_result"
    }
   ],
   "source": [
    "#직접해보기\n",
    "# 임의의 갯수의 숫자를 입력받아서 총 합을 출력하는 함수\n",
    "\n",
    "def p(*a):\n",
    "    hap=0\n",
    "    for i in a:\n",
    "        hap+=i\n",
    "    return hap\n",
    "\n",
    "p(1,2,3,4,5,100)\n"
   ]
  },
  {
   "cell_type": "code",
   "execution_count": 6,
   "id": "0b6fbfaa",
   "metadata": {},
   "outputs": [
    {
     "data": {
      "text/plain": [
       "6"
      ]
     },
     "execution_count": 6,
     "metadata": {},
     "output_type": "execute_result"
    }
   ],
   "source": [
    "#사용자 정의함수 예시\n",
    "# 임의의 갯수 숫자를 입력받아서 가장 큰 값에서 가장 작은 값을 뺀 결과 출력하기\n",
    "def maxminus( *a ) :\n",
    "    m = 0\n",
    "    for i in a :\n",
    "        if i > m :\n",
    "            m = i\n",
    "\n",
    "\n",
    "    n=999999\n",
    "    for i in a :\n",
    "        if i < n :\n",
    "            n = i\n",
    "    return m - n\n",
    "\n",
    "maxminus(3,5,9)"
   ]
  },
  {
   "cell_type": "code",
   "execution_count": 45,
   "id": "d4c10538",
   "metadata": {},
   "outputs": [
    {
     "data": {
      "text/plain": [
       "499"
      ]
     },
     "execution_count": 45,
     "metadata": {},
     "output_type": "execute_result"
    }
   ],
   "source": [
    "#직접 해보기\n",
    "# 임의의 갯수 숫자를 입력받아서 가장 큰 값에서 가장 작은 값을 뺀 결과 출력하기\n",
    "def p(*a):\n",
    "    max=0\n",
    "    for i in a:\n",
    "        if i>max:\n",
    "            max=i\n",
    "    min=max\n",
    "    for i in a:\n",
    "        if i<min:\n",
    "            min=i\n",
    "    return(max-min)\n",
    "\n",
    "p(1,44,3,223,55,500,300)\n"
   ]
  }
 ],
 "metadata": {
  "kernelspec": {
   "display_name": "Python 3 (ipykernel)",
   "language": "python",
   "name": "python3"
  },
  "language_info": {
   "codemirror_mode": {
    "name": "ipython",
    "version": 3
   },
   "file_extension": ".py",
   "mimetype": "text/x-python",
   "name": "python",
   "nbconvert_exporter": "python",
   "pygments_lexer": "ipython3",
   "version": "3.11.7"
  }
 },
 "nbformat": 4,
 "nbformat_minor": 5
}
