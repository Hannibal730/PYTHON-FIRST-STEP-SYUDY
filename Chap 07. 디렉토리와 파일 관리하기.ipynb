{
 "cells": [
  {
   "cell_type": "code",
   "execution_count": null,
   "id": "1a2218f0",
   "metadata": {},
   "outputs": [],
   "source": [
    "# 작업한 내용들을 저장하는 방법 배우기\n",
    "#디렉토리: 폴더를 의미\n"
   ]
  },
  {
   "cell_type": "code",
   "execution_count": 5,
   "id": "4d925e54",
   "metadata": {},
   "outputs": [
    {
     "name": "stdout",
     "output_type": "stream",
     "text": [
      "현재 디렉토리(폴더): c:\\temp\n",
      "이동 후 디렉토리(폴더): c:\\temp\n",
      "이동 후 디렉토리(폴더): C:\\Users\\DAE SEUNG\\Desktop\\jupyter-lecture-note\n"
     ]
    }
   ],
   "source": [
    "#getcwd( ) 와 chdir( )\n",
    "\n",
    "import os #os는 디렉토리 관리모듈. 명령순서: 사용자->파이썬->os->윈도우\n",
    "\n",
    "print('현재 디렉토리(폴더):' , os.getcwd() )\n",
    "#getcwd: get current working directory. 지금쓰는 파이썬 코드를 저장하면 나오는 폴더를 알려줌\n",
    "#근데 파이썬이 저장되는 폴더를 바꾸고 싶다면 chdir: change directory를 사용.\n",
    "\n",
    "os.chdir('c:\\\\temp') #현재 구동되는, 저장되는 폴더를 ()안의 위치로 변경함\n",
    "print('이동 후 디렉토리(폴더):' , os.getcwd() )\n",
    "\n",
    "\n",
    "\n",
    "os.chdir('C:\\\\Users\\\\DAE SEUNG\\\\Desktop\\\\jupyter-lecture-note')\n",
    "# 폴더 주소를 복사하고 역슬래쉬를 하나씩 더 추가해야 하구나.\n",
    "print('이동 후 디렉토리(폴더):' , os.getcwd() )"
   ]
  },
  {
   "cell_type": "code",
   "execution_count": 11,
   "id": "d69a97a8",
   "metadata": {},
   "outputs": [
    {
     "name": "stdout",
     "output_type": "stream",
     "text": [
      "jupyter-lecture-note\n",
      "정회령 바보 폴더\n",
      "테스트\n",
      "테스트용 추가파일\n"
     ]
    }
   ],
   "source": [
    "#listdir( ) 함수: 디렉토리 안의 리스트를 보여달라.\n",
    "\n",
    "\n",
    "for i in os.listdir('C:\\\\Users\\\\DAE SEUNG\\\\Desktop\\\\jupyter-lecture-note'):\n",
    "    print(i)\n",
    "    "
   ]
  },
  {
   "cell_type": "code",
   "execution_count": 13,
   "id": "6e5812c5",
   "metadata": {},
   "outputs": [
    {
     "name": "stdout",
     "output_type": "stream",
     "text": [
      "정회령 핵바보\n",
      "회령이 안뇽\n",
      "회령이 하이요\n"
     ]
    }
   ],
   "source": [
    "for i in os.listdir('C:\\\\Users\\\\DAE SEUNG\\\\Desktop\\jupyter-lecture-note\\\\정회령 바보 폴더'):\n",
    "    print(i)"
   ]
  },
  {
   "cell_type": "code",
   "execution_count": 21,
   "id": "3382c4d2",
   "metadata": {},
   "outputs": [
    {
     "name": "stdout",
     "output_type": "stream",
     "text": [
      "True\n",
      "True\n",
      "False\n"
     ]
    }
   ],
   "source": [
    "#os.path.exist( ) 함수 - 특정 폴더의 존재여부 확인하는 명령어. \"이 경로가 존재하는가?\"\n",
    "print( os.path.exists('c:\\\\py_temp'))\n",
    "print( os.path.exists('c:\\\\users\\\\DAE SEUNG'))\n",
    "print( os.path.exists('c:\\\\DAE SEUNG'))\n",
    "\n",
    "#이때 exists 대신에 isdir을 입력해도 결과가 같다."
   ]
  },
  {
   "cell_type": "code",
   "execution_count": 23,
   "id": "a4f427c1",
   "metadata": {},
   "outputs": [
    {
     "ename": "FileNotFoundError",
     "evalue": "[WinError 3] 지정된 경로를 찾을 수 없습니다: 'c:\\\\temp1\\\\temp2'",
     "output_type": "error",
     "traceback": [
      "\u001b[1;31m---------------------------------------------------------------------------\u001b[0m",
      "\u001b[1;31mFileNotFoundError\u001b[0m                         Traceback (most recent call last)",
      "Cell \u001b[1;32mIn[23], line 5\u001b[0m\n\u001b[0;32m      1\u001b[0m \u001b[38;5;66;03m# mkdir( ) 함수와 makedirs() 함수\u001b[39;00m\n\u001b[0;32m      2\u001b[0m \u001b[38;5;66;03m# 디렉토리를 만드는 함수\u001b[39;00m\n\u001b[0;32m      3\u001b[0m \n\u001b[0;32m      4\u001b[0m \u001b[38;5;66;03m# mkdir은 한 번에 하나씩만 만들 수 있음.\u001b[39;00m\n\u001b[1;32m----> 5\u001b[0m \u001b[43mos\u001b[49m\u001b[38;5;241;43m.\u001b[39;49m\u001b[43mmkdir\u001b[49m\u001b[43m(\u001b[49m\u001b[38;5;124;43m'\u001b[39;49m\u001b[38;5;124;43mc:\u001b[39;49m\u001b[38;5;130;43;01m\\\\\u001b[39;49;00m\u001b[38;5;124;43mtemp1\u001b[39;49m\u001b[38;5;130;43;01m\\\\\u001b[39;49;00m\u001b[38;5;124;43mtemp2\u001b[39;49m\u001b[38;5;124;43m'\u001b[39;49m\u001b[43m)\u001b[49m\n\u001b[0;32m      6\u001b[0m \u001b[38;5;66;03m# 그래서 이렇게 한 번에 두개씩은 못 만듦\u001b[39;00m\n",
      "\u001b[1;31mFileNotFoundError\u001b[0m: [WinError 3] 지정된 경로를 찾을 수 없습니다: 'c:\\\\temp1\\\\temp2'"
     ]
    }
   ],
   "source": [
    "# mkdir( ) 함수와 makedirs() 함수\n",
    "# 디렉토리를 만드는 함수\n",
    "\n",
    "# mkdir은 한 번에 한 단계만 제작가능\n",
    "os.mkdir('c:\\\\temp1\\\\temp2')\n",
    "# 그래서 이렇게 한 번에 두개는 제작불가"
   ]
  },
  {
   "cell_type": "code",
   "execution_count": 24,
   "id": "ba20e26d",
   "metadata": {},
   "outputs": [],
   "source": [
    "# makedirs는 mkdir과 달리 한 번에 여러개 제작가능\n",
    "\n",
    "os.makedirs('c:\\\\temp1\\\\temp2')\n",
    "\n",
    "#됨. 따라서 makedirs를 훨~~~씬 많이 쓰는 함수"
   ]
  },
  {
   "cell_type": "code",
   "execution_count": 27,
   "id": "e3ee15fb",
   "metadata": {},
   "outputs": [],
   "source": [
    "# 하지만 nakedirs도 단점이 있다.\n",
    "# 없는 파일이름으로 오타를 냈을 경우, 오타 그대로 폴더를 만들어버림.\n",
    "# 반면에 mkdir는 없는 파알아름으로 오타를 냈을 경우, 에러가 뜸\n",
    "os.makedirs('c:\\\\temp11\\\\temp3')\n",
    "# temp1 안에 temp3을 만들려고 했는데, 오타로 temp11을 입력함.\n",
    "# 오타 그대로 temp11이 만들어져 버린 상황...."
   ]
  },
  {
   "cell_type": "code",
   "execution_count": 28,
   "id": "04a2ffd7",
   "metadata": {},
   "outputs": [
    {
     "ename": "FileNotFoundError",
     "evalue": "[WinError 3] 지정된 경로를 찾을 수 없습니다: 'c:\\\\temp12\\\\temp4'",
     "output_type": "error",
     "traceback": [
      "\u001b[1;31m---------------------------------------------------------------------------\u001b[0m",
      "\u001b[1;31mFileNotFoundError\u001b[0m                         Traceback (most recent call last)",
      "Cell \u001b[1;32mIn[28], line 3\u001b[0m\n\u001b[0;32m      1\u001b[0m \u001b[38;5;66;03m# 만약 mkdir였다면?\u001b[39;00m\n\u001b[0;32m      2\u001b[0m \u001b[38;5;66;03m# temp1안에 temp4를 만드려는 상황\u001b[39;00m\n\u001b[1;32m----> 3\u001b[0m \u001b[43mos\u001b[49m\u001b[38;5;241;43m.\u001b[39;49m\u001b[43mmkdir\u001b[49m\u001b[43m(\u001b[49m\u001b[38;5;124;43m'\u001b[39;49m\u001b[38;5;124;43mc:\u001b[39;49m\u001b[38;5;130;43;01m\\\\\u001b[39;49;00m\u001b[38;5;124;43mtemp12\u001b[39;49m\u001b[38;5;130;43;01m\\\\\u001b[39;49;00m\u001b[38;5;124;43mtemp4\u001b[39;49m\u001b[38;5;124;43m'\u001b[39;49m\u001b[43m)\u001b[49m\n",
      "\u001b[1;31mFileNotFoundError\u001b[0m: [WinError 3] 지정된 경로를 찾을 수 없습니다: 'c:\\\\temp12\\\\temp4'"
     ]
    }
   ],
   "source": [
    "# 만약 mkdir였다면?\n",
    "# temp1안에 temp4를 만드려는 상황\n",
    "os.mkdir('c:\\\\temp12\\\\temp4')\n",
    "#아래의 에러처럼 temp12가 없다며 실행 안됨\n",
    "# 휴 다행"
   ]
  },
  {
   "cell_type": "code",
   "execution_count": 29,
   "id": "57854730",
   "metadata": {},
   "outputs": [],
   "source": [
    "#rmdir( ) 함수와 removedirs( ) 함수\n",
    "#삭제하는 함수 ㅋㅋ 엄청 위험\n",
    "\n",
    "#rmdir()은 한 번에 하나씩 삭제\n",
    "#removedirs()는 한 번에 여러개씩 삭제\n",
    "\n",
    "os.rmdir('c:\\\\temp1\\\\temp2')\n",
    "os.rmdir('c:\\\\temp1')\n",
    "\n",
    "os.makedirs('c:\\\\temp1\\\\temp2')\n",
    "os.removedirs('c:\\\\temp1\\\\temp2')"
   ]
  },
  {
   "cell_type": "code",
   "execution_count": 36,
   "id": "52c0bf16",
   "metadata": {},
   "outputs": [],
   "source": [
    "import os\n",
    "os. makedirs('C:\\\\Users\\\\DAE SEUNG\\\\Desktop\\\\정회령 하이요ㅋ')"
   ]
  },
  {
   "cell_type": "code",
   "execution_count": 37,
   "id": "ede45d31",
   "metadata": {},
   "outputs": [],
   "source": [
    "import os\n",
    "os.removedirs('C:\\\\Users\\\\DAE SEUNG\\\\Desktop\\\\정회령 하이요ㅋ')"
   ]
  },
  {
   "cell_type": "code",
   "execution_count": 44,
   "id": "864416e4",
   "metadata": {},
   "outputs": [
    {
     "name": "stdout",
     "output_type": "stream",
     "text": [
      "입력하신 c:\\temp4 경로의 폴더를 생성했습니다\n"
     ]
    }
   ],
   "source": [
    "# 디렉토리 관리 예시\n",
    "# 사용자에게 폴더 이름을 입력받고 폴더제작.\n",
    "# 단, 이미 있다면 폴더 이름 뒤에 _2를 붙여서 폴더제작.\n",
    "\n",
    "\n",
    "import os\n",
    "\n",
    "dir1 = input(\"폴더 이름을 입력하세요(예:c:\\\\temp) :  \")\n",
    "\n",
    "os.chdir(dir1[0:3]) #dir1[0:3]은 dir1의 0부터2까지의 요소를 가져옴. 즉 c:\\까지만 가져옴.\n",
    "#파이썬에서의 [0:3]는 시작이 0이고, 종료가 3이라는 뜻이라서 0부터 2까지의 요소만 가져옴. \n",
    "#그리고 os.chdir 함수 때문에 현재 디렉토리의 위치가 c:\\가 된 상황임.\n",
    "\n",
    "dir_list = os.listdir()\n",
    "#현재 디렉토리인 c:\\의 리스트를 가져와서 dir_lsit에 집어넣음.\n",
    "\n",
    "if  os.path.isdir(dir1) :  #isdir이 exists와 같은 말임. c:\\에 dir1이라는 이름의 폴더가 있나?\n",
    "    dir_name=dir1+'_2' # 이미 있다면 dir_name은 dir1에 _2을 붙인 이름이 됨\n",
    "    os.makedirs(dir_name) #c:\\에 dir_name으로 폴더 생성\n",
    "    print('입력하신 경로가 존재하여 %s 로 폴더를 생성했습니다' %dir_name)\n",
    "    \n",
    "else : #c:\\dp dir1이라는 이름의 폴더가 없다면\n",
    "    os.mkdir(dir1) # c:\\에 dir1이라는 이름의 폴더 생성\n",
    "    print('입력하신 %s 경로의 폴더를 생성했습니다' %dir1)\n"
   ]
  },
  {
   "cell_type": "code",
   "execution_count": 67,
   "id": "dae60ee0",
   "metadata": {},
   "outputs": [
    {
     "ename": "FileExistsError",
     "evalue": "[WinError 183] 파일이 이미 있으므로 만들 수 없습니다: 'c:\\\\py_temp2'",
     "output_type": "error",
     "traceback": [
      "\u001b[1;31m---------------------------------------------------------------------------\u001b[0m",
      "\u001b[1;31mFileExistsError\u001b[0m                           Traceback (most recent call last)",
      "Cell \u001b[1;32mIn[67], line 3\u001b[0m\n\u001b[0;32m      1\u001b[0m \u001b[38;5;66;03m#txt 파일에 내용을 저장하기\u001b[39;00m\n\u001b[1;32m----> 3\u001b[0m \u001b[43mos\u001b[49m\u001b[38;5;241;43m.\u001b[39;49m\u001b[43mmakedirs\u001b[49m\u001b[43m(\u001b[49m\u001b[38;5;124;43m'\u001b[39;49m\u001b[38;5;124;43mc:\u001b[39;49m\u001b[38;5;130;43;01m\\\\\u001b[39;49;00m\u001b[38;5;124;43mpy_temp2\u001b[39;49m\u001b[38;5;124;43m'\u001b[39;49m\u001b[43m)\u001b[49m \u001b[38;5;66;03m# 이런 폴더 만들어서\u001b[39;00m\n\u001b[0;32m      4\u001b[0m os\u001b[38;5;241m.\u001b[39mchdir(\u001b[38;5;124m'\u001b[39m\u001b[38;5;124mc:\u001b[39m\u001b[38;5;130;01m\\\\\u001b[39;00m\u001b[38;5;124mpy_temp2\u001b[39m\u001b[38;5;124m'\u001b[39m) \u001b[38;5;66;03m# 그 폴더로 가라\u001b[39;00m\n\u001b[0;32m      5\u001b[0m \u001b[38;5;28mprint\u001b[39m( os\u001b[38;5;241m.\u001b[39mgetcwd() ) \u001b[38;5;66;03m# 잘 됐나보자\u001b[39;00m\n",
      "File \u001b[1;32m<frozen os>:225\u001b[0m, in \u001b[0;36mmakedirs\u001b[1;34m(name, mode, exist_ok)\u001b[0m\n",
      "\u001b[1;31mFileExistsError\u001b[0m: [WinError 183] 파일이 이미 있으므로 만들 수 없습니다: 'c:\\\\py_temp2'"
     ]
    }
   ],
   "source": [
    "#txt 파일에 내용을 저장하기\n",
    "\n",
    "os.makedirs('c:\\\\py_temp2') # 이런 폴더 만들어서\n",
    "os.chdir('c:\\\\py_temp2') # 그 폴더로 가라\n",
    "print( os.getcwd() ) # 잘 됐나보자\n",
    "\n",
    "file=open('test12.txt' , 'w')\n",
    "# opem이라는 명령어로 현재 디렉토리 안의 text1.txt라는 텍스트 파일을 가져옴.\n",
    "#이때 만약 해당 이름의 텍스트 파일이 없다면, 새로 만듦.\n",
    "# 그 뒤의 w는 '덮어쓰기'를 의미한다.\n",
    "# 해당 텍스트 파일 안에 다른 내용이 있었더라도, 그 위에 그냥 덮어써서 새로 쓴다는 의미이다.\n",
    "\n",
    "file.write('텍스트 파일에 처음 쓴 글입니다') # 쓰기\n",
    "file.close( ) #저장하는 명령어\n",
    "\n"
   ]
  },
  {
   "cell_type": "code",
   "execution_count": null,
   "id": "7b8f3d48",
   "metadata": {},
   "outputs": [],
   "source": [
    "# \"r\" (읽기 모드): 파일을 읽기 위해 엽니다. 파일이 존재하지 않으면 오류가 발생합니다.\n",
    "# \"w\" (쓰기 모드): 파일을 쓰기 위해 엽니다. 파일이 이미 존재하는 경우, 기존 내용이 삭제됩니다. 파일이 존재하지 않으면 새로운 파일이 생성됩니다.\n",
    "# \"a\" (추가 모드): 파일에 내용을 추가하기 위해 엽니다. 파일이 이미 존재하는 경우, 파일의 끝에 추가됩니다. 파일이 존재하지 않으면 새로운 파일이 생성됩니다.\n",
    "# \"r+\" (읽기 및 쓰기 모드): 파일을 읽고 쓰기 위해 엽니다. 파일의 내용을 읽고 수정할 수 있습니다.\n",
    "# \"w+\" (쓰기 및 읽기 모드): 파일을 쓰기 및 읽기 위해 엽니다. 파일이 이미 존재하는 경우, 기존 내용이 삭제됩니다. 파일이 존재하지 않으면 새로운 파일이 생성됩니다.\n",
    "# \"a+\" (추가 및 읽기 모드): 파일에 내용을 추가하고 읽기 위해 엽니다. 파일이 이미 존재하는 경우, 파일의 끝에 추가됩니다. 파일이 존재하지 않으면 새로운 파일이 생성됩니다."
   ]
  },
  {
   "cell_type": "code",
   "execution_count": 46,
   "id": "c0d30b2a",
   "metadata": {},
   "outputs": [],
   "source": [
    "file2=open('test1.txt' , 'w') #덮어쓰기\n",
    "file2.write('텍스트 파일에 두번째 쓴 글입니다') \n",
    "file2.close( )"
   ]
  },
  {
   "cell_type": "code",
   "execution_count": 47,
   "id": "991c3380",
   "metadata": {},
   "outputs": [],
   "source": [
    "file3=open('test1.txt' , 'a') # a는 기존의 내용 바로 뒤에 추가 (append를 의미)\n",
    "file3.write('텍스트 파일에 세번째 쓴 글입니다')\n",
    "file3.close( )"
   ]
  },
  {
   "cell_type": "code",
   "execution_count": 68,
   "id": "cff437b1",
   "metadata": {},
   "outputs": [],
   "source": [
    "file4=open('test1.txt' , 'a')\n",
    "file4.write('\\n' + '텍스트 파일에 네번째 쓴 글입니다') # '\\n'는 줄 새로고침을 의미\n",
    "#문자열들을 하나로 합쳐야 해서 +를 사용함\n",
    "\n",
    "file3.close( )"
   ]
  },
  {
   "cell_type": "code",
   "execution_count": 79,
   "id": "119b082a",
   "metadata": {},
   "outputs": [],
   "source": [
    "#txt 형식의 파일 내용 생성하기\n",
    "\n",
    "f=open('c:\\\\py_temp2\\\\readme1.txt','w')\n",
    "f.write('1. 새우깡'+'\\n'+'2.맛맛동산'+'\\n'+'3.감자깡'+'\\n'+'4.고구마깡'+'\\n'+'5.꼬깔콘')\n",
    "f.close()\n"
   ]
  },
  {
   "cell_type": "code",
   "execution_count": 86,
   "id": "5528de2a",
   "metadata": {},
   "outputs": [
    {
     "name": "stdout",
     "output_type": "stream",
     "text": [
      "['1. 새우깡\\n', '2.맛맛동산\\n', '3.감자깡\\n', '4.고구마깡\\n', '5.꼬깔콘']\n"
     ]
    }
   ],
   "source": [
    "#txt 형식의 파일 내용 읽기\n",
    "\n",
    "f1=open('c:\\\\py_temp2\\\\readme1.txt','r') #r은 뭐 다른 수정없이 그냥 가져오는 걸 의미한다\n",
    "snack=f1.readlines()\n",
    "print(snack)"
   ]
  },
  {
   "cell_type": "code",
   "execution_count": 90,
   "id": "b111208a",
   "metadata": {},
   "outputs": [
    {
     "name": "stdout",
     "output_type": "stream",
     "text": [
      "1. 새우깡\n",
      "\n",
      "3.감자깡\n",
      "\n"
     ]
    }
   ],
   "source": [
    "# index 방법으로 특정 항만 가져오기\n",
    "\n",
    "print(snack[0])\n",
    "print(snack[2])"
   ]
  },
  {
   "cell_type": "code",
   "execution_count": 87,
   "id": "30b2074d",
   "metadata": {},
   "outputs": [
    {
     "name": "stdout",
     "output_type": "stream",
     "text": [
      "1. 새우깡\n",
      "\n",
      "2.맛맛동산\n",
      "\n",
      "3.감자깡\n",
      "\n",
      "4.고구마깡\n",
      "\n",
      "5.꼬깔콘\n"
     ]
    }
   ],
   "source": [
    "# for 반복문으로 가져오기\n",
    "\n",
    "for i in snack:\n",
    "    print(i)"
   ]
  },
  {
   "cell_type": "code",
   "execution_count": 19,
   "id": "7a98ad4f",
   "metadata": {},
   "outputs": [
    {
     "data": {
      "text/html": [
       "<div>\n",
       "<style scoped>\n",
       "    .dataframe tbody tr th:only-of-type {\n",
       "        vertical-align: middle;\n",
       "    }\n",
       "\n",
       "    .dataframe tbody tr th {\n",
       "        vertical-align: top;\n",
       "    }\n",
       "\n",
       "    .dataframe thead th {\n",
       "        text-align: right;\n",
       "    }\n",
       "</style>\n",
       "<table border=\"1\" class=\"dataframe\">\n",
       "  <thead>\n",
       "    <tr style=\"text-align: right;\">\n",
       "      <th></th>\n",
       "      <th>과목번호</th>\n",
       "      <th>과목명</th>\n",
       "    </tr>\n",
       "  </thead>\n",
       "  <tbody>\n",
       "    <tr>\n",
       "      <th>0</th>\n",
       "      <td>1</td>\n",
       "      <td>수학</td>\n",
       "    </tr>\n",
       "    <tr>\n",
       "      <th>1</th>\n",
       "      <td>2</td>\n",
       "      <td>과학</td>\n",
       "    </tr>\n",
       "    <tr>\n",
       "      <th>2</th>\n",
       "      <td>3</td>\n",
       "      <td>빅데이터</td>\n",
       "    </tr>\n",
       "  </tbody>\n",
       "</table>\n",
       "</div>"
      ],
      "text/plain": [
       "   과목번호   과목명\n",
       "0     1    수학\n",
       "1     2    과학\n",
       "2     3  빅데이터"
      ]
     },
     "execution_count": 19,
     "metadata": {},
     "output_type": "execute_result"
    }
   ],
   "source": [
    "import pandas as pd\n",
    "\n",
    "#표(데이터프레임) 만들기\n",
    "no=[ ]\n",
    "s_name = [ ]\n",
    "\n",
    "no.append(1)\n",
    "no.append(2)\n",
    "no.append(3)\n",
    "\n",
    "s_name.append('수학')\n",
    "s_name.append('과학')\n",
    "s_name.append('빅데이터')\n",
    "\n",
    "subject = pd.DataFrame( )\n",
    "subject['과목번호'] = no\n",
    "subject['과목명'] = s_name\n",
    "subject"
   ]
  },
  {
   "cell_type": "code",
   "execution_count": 22,
   "id": "94dceb9f",
   "metadata": {},
   "outputs": [
    {
     "name": "stderr",
     "output_type": "stream",
     "text": [
      "c:\\program files\\python37\\lib\\site-packages\\ipykernel_launcher.py:6: FutureWarning: As the xlwt package is no longer maintained, the xlwt engine will be removed in a future version of pandas. This is the only engine in pandas that supports writing in the xls format. Install openpyxl and write to an xlsx file instead. You can set the option io.excel.xls.writer to 'xlwt' to silence this warning. While this option is deprecated and will also raise a warning, it can be globally set and the warning suppressed.\n",
      "  \n"
     ]
    }
   ],
   "source": [
    "#csv 형식으로 저장하기\n",
    "subject.to_csv('c:\\\\py_temp2\\\\subject.csv', encoding='utf-8-sig',index=False)\n",
    "\n",
    "#xls 형식으로 저장하기\n",
    "# pip install xlwt 를 먼저 수행하세요\n",
    "subject.to_excel('c:\\\\py_temp2\\\\subjcet.xls',index=False)"
   ]
  },
  {
   "cell_type": "code",
   "execution_count": 25,
   "id": "4312eed7",
   "metadata": {},
   "outputs": [
    {
     "data": {
      "text/plain": [
       "{'전우치': 'aaa@gmail.com', '일지매': 'bbb@daum.net', '홍길동': 'ccc@naver.com'}"
      ]
     },
     "execution_count": 25,
     "metadata": {},
     "output_type": "execute_result"
    }
   ],
   "source": [
    "# xlsx 형식의 파일 내용 불러오기 - openpyxl 패키지 사용하기\n",
    "\n",
    "import openpyxl\n",
    "wb=openpyxl.load_workbook('c:\\\\temp\\\\email.xlsx')\n",
    "sheet = wb['Sheet1']\n",
    "\n",
    "contents={ }\n",
    "for i in range(2,sheet.max_row + 1) :\n",
    "    name=sheet.cell(row=i , column=1).value\n",
    "    email=sheet.cell(row=i, column=2).value\n",
    "    contents[name]=email\n",
    "    \n",
    "contents    "
   ]
  },
  {
   "cell_type": "code",
   "execution_count": 26,
   "id": "04ea55b6",
   "metadata": {},
   "outputs": [
    {
     "data": {
      "text/html": [
       "<div>\n",
       "<style scoped>\n",
       "    .dataframe tbody tr th:only-of-type {\n",
       "        vertical-align: middle;\n",
       "    }\n",
       "\n",
       "    .dataframe tbody tr th {\n",
       "        vertical-align: top;\n",
       "    }\n",
       "\n",
       "    .dataframe thead th {\n",
       "        text-align: right;\n",
       "    }\n",
       "</style>\n",
       "<table border=\"1\" class=\"dataframe\">\n",
       "  <thead>\n",
       "    <tr style=\"text-align: right;\">\n",
       "      <th></th>\n",
       "      <th>name</th>\n",
       "      <th>email</th>\n",
       "    </tr>\n",
       "  </thead>\n",
       "  <tbody>\n",
       "    <tr>\n",
       "      <th>0</th>\n",
       "      <td>전우치</td>\n",
       "      <td>aaa@gmail.com</td>\n",
       "    </tr>\n",
       "    <tr>\n",
       "      <th>1</th>\n",
       "      <td>일지매</td>\n",
       "      <td>bbb@daum.net</td>\n",
       "    </tr>\n",
       "    <tr>\n",
       "      <th>2</th>\n",
       "      <td>홍길동</td>\n",
       "      <td>ccc@naver.com</td>\n",
       "    </tr>\n",
       "  </tbody>\n",
       "</table>\n",
       "</div>"
      ],
      "text/plain": [
       "  name          email\n",
       "0  전우치  aaa@gmail.com\n",
       "1  일지매   bbb@daum.net\n",
       "2  홍길동  ccc@naver.com"
      ]
     },
     "execution_count": 26,
     "metadata": {},
     "output_type": "execute_result"
    }
   ],
   "source": [
    "#xlsx 형식의 파일 내용 불러오기 -pandas 사용\n",
    "import pandas as pd\n",
    "data = pd.read_excel('c:\\\\temp\\\\email.xlsx',sheet_name='Sheet1')\n",
    "data"
   ]
  },
  {
   "cell_type": "code",
   "execution_count": 5,
   "id": "777f831e",
   "metadata": {},
   "outputs": [
    {
     "data": {
      "text/html": [
       "<div>\n",
       "<style scoped>\n",
       "    .dataframe tbody tr th:only-of-type {\n",
       "        vertical-align: middle;\n",
       "    }\n",
       "\n",
       "    .dataframe tbody tr th {\n",
       "        vertical-align: top;\n",
       "    }\n",
       "\n",
       "    .dataframe thead th {\n",
       "        text-align: right;\n",
       "    }\n",
       "</style>\n",
       "<table border=\"1\" class=\"dataframe\">\n",
       "  <thead>\n",
       "    <tr style=\"text-align: right;\">\n",
       "      <th></th>\n",
       "      <th>name</th>\n",
       "      <th>email</th>\n",
       "    </tr>\n",
       "  </thead>\n",
       "  <tbody>\n",
       "    <tr>\n",
       "      <th>0</th>\n",
       "      <td>전우치</td>\n",
       "      <td>aaa@gmail.com</td>\n",
       "    </tr>\n",
       "    <tr>\n",
       "      <th>1</th>\n",
       "      <td>일지매</td>\n",
       "      <td>bbb@daum.net</td>\n",
       "    </tr>\n",
       "    <tr>\n",
       "      <th>2</th>\n",
       "      <td>홍길동</td>\n",
       "      <td>ccc@naver.com</td>\n",
       "    </tr>\n",
       "  </tbody>\n",
       "</table>\n",
       "</div>"
      ],
      "text/plain": [
       "  name          email\n",
       "0  전우치  aaa@gmail.com\n",
       "1  일지매   bbb@daum.net\n",
       "2  홍길동  ccc@naver.com"
      ]
     },
     "execution_count": 5,
     "metadata": {},
     "output_type": "execute_result"
    }
   ],
   "source": [
    "#xlsx 형식의 파일 내용 불러오기 -pandas 사용\n",
    "import pandas as pd\n",
    "data2 = pd.read_csv('c:\\\\temp\\\\email.csv',encoding='cp949')\n",
    "data2"
   ]
  }
 ],
 "metadata": {
  "kernelspec": {
   "display_name": "Python 3 (ipykernel)",
   "language": "python",
   "name": "python3"
  },
  "language_info": {
   "codemirror_mode": {
    "name": "ipython",
    "version": 3
   },
   "file_extension": ".py",
   "mimetype": "text/x-python",
   "name": "python",
   "nbconvert_exporter": "python",
   "pygments_lexer": "ipython3",
   "version": "3.7.5"
  }
 },
 "nbformat": 4,
 "nbformat_minor": 5
}
