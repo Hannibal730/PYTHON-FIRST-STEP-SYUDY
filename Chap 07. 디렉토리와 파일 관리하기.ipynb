{
 "cells": [
  {
   "cell_type": "code",
   "execution_count": null,
   "id": "1a2218f0",
   "metadata": {},
   "outputs": [],
   "source": [
    "# 작업한 내용들을 저장하는 방법 배우기\n",
    "#디렉토리: 폴더를 의미\n"
   ]
  },
  {
   "cell_type": "code",
   "execution_count": 5,
   "id": "4d925e54",
   "metadata": {},
   "outputs": [
    {
     "name": "stdout",
     "output_type": "stream",
     "text": [
      "현재 디렉토리(폴더): c:\\temp\n",
      "이동 후 디렉토리(폴더): c:\\temp\n",
      "이동 후 디렉토리(폴더): C:\\Users\\DAE SEUNG\\Desktop\\jupyter-lecture-note\n"
     ]
    }
   ],
   "source": [
    "#getcwd( ) 와 chdir( )\n",
    "\n",
    "import os #os는 디렉토리 관리모듈. 명령순서: 사용자->파이썬->os->윈도우\n",
    "\n",
    "print('현재 디렉토리(폴더):' , os.getcwd() )\n",
    "#getcwd: get current working directory. 지금쓰는 파이썬 코드를 저장하면 나오는 폴더를 알려줌\n",
    "#근데 파이썬이 저장되는 폴더를 바꾸고 싶다면 chdir: change directory를 사용.\n",
    "\n",
    "os.chdir('c:\\\\temp') #현재 구동되는, 저장되는 폴더를 ()안의 위치로 변경함\n",
    "print('이동 후 디렉토리(폴더):' , os.getcwd() )\n",
    "\n",
    "\n",
    "\n",
    "os.chdir('C:\\\\Users\\\\DAE SEUNG\\\\Desktop\\\\jupyter-lecture-note')\n",
    "# 폴더 주소를 복사하고 역슬래쉬를 하나씩 더 추가해야 하구나.\n",
    "print('이동 후 디렉토리(폴더):' , os.getcwd() )"
   ]
  },
  {
   "cell_type": "code",
   "execution_count": 11,
   "id": "d69a97a8",
   "metadata": {},
   "outputs": [
    {
     "name": "stdout",
     "output_type": "stream",
     "text": [
      "jupyter-lecture-note\n",
      "정회령 바보 폴더\n",
      "테스트\n",
      "테스트용 추가파일\n"
     ]
    }
   ],
   "source": [
    "#listdir( ) 함수: 디렉토리 안의 리스트를 보여달라.\n",
    "\n",
    "\n",
    "for i in os.listdir('C:\\\\Users\\\\DAE SEUNG\\\\Desktop\\\\jupyter-lecture-note'):\n",
    "    print(i)\n",
    "    "
   ]
  },
  {
   "cell_type": "code",
   "execution_count": 13,
   "id": "6e5812c5",
   "metadata": {},
   "outputs": [
    {
     "name": "stdout",
     "output_type": "stream",
     "text": [
      "정회령 핵바보\n",
      "회령이 안뇽\n",
      "회령이 하이요\n"
     ]
    }
   ],
   "source": [
    "for i in os.listdir('C:\\\\Users\\\\DAE SEUNG\\\\Desktop\\jupyter-lecture-note\\\\정회령 바보 폴더'):\n",
    "    print(i)"
   ]
  },
  {
   "cell_type": "code",
   "execution_count": 21,
   "id": "3382c4d2",
   "metadata": {},
   "outputs": [
    {
     "name": "stdout",
     "output_type": "stream",
     "text": [
      "True\n",
      "True\n",
      "False\n"
     ]
    }
   ],
   "source": [
    "#os.path.exist( ) 함수 - 특정 폴더의 존재여부 확인하는 명령어. \"이 경로가 존재하는가?\"\n",
    "print( os.path.exists('c:\\\\py_temp'))\n",
    "print( os.path.exists('c:\\\\users\\\\DAE SEUNG'))\n",
    "print( os.path.exists('c:\\\\DAE SEUNG'))\n",
    "\n",
    "#이때 exists 대신에 isdir을 입력해도 결과가 같다."
   ]
  },
  {
   "cell_type": "code",
   "execution_count": 23,
   "id": "a4f427c1",
   "metadata": {},
   "outputs": [
    {
     "ename": "FileNotFoundError",
     "evalue": "[WinError 3] 지정된 경로를 찾을 수 없습니다: 'c:\\\\temp1\\\\temp2'",
     "output_type": "error",
     "traceback": [
      "\u001b[1;31m---------------------------------------------------------------------------\u001b[0m",
      "\u001b[1;31mFileNotFoundError\u001b[0m                         Traceback (most recent call last)",
      "Cell \u001b[1;32mIn[23], line 5\u001b[0m\n\u001b[0;32m      1\u001b[0m \u001b[38;5;66;03m# mkdir( ) 함수와 makedirs() 함수\u001b[39;00m\n\u001b[0;32m      2\u001b[0m \u001b[38;5;66;03m# 디렉토리를 만드는 함수\u001b[39;00m\n\u001b[0;32m      3\u001b[0m \n\u001b[0;32m      4\u001b[0m \u001b[38;5;66;03m# mkdir은 한 번에 하나씩만 만들 수 있음.\u001b[39;00m\n\u001b[1;32m----> 5\u001b[0m \u001b[43mos\u001b[49m\u001b[38;5;241;43m.\u001b[39;49m\u001b[43mmkdir\u001b[49m\u001b[43m(\u001b[49m\u001b[38;5;124;43m'\u001b[39;49m\u001b[38;5;124;43mc:\u001b[39;49m\u001b[38;5;130;43;01m\\\\\u001b[39;49;00m\u001b[38;5;124;43mtemp1\u001b[39;49m\u001b[38;5;130;43;01m\\\\\u001b[39;49;00m\u001b[38;5;124;43mtemp2\u001b[39;49m\u001b[38;5;124;43m'\u001b[39;49m\u001b[43m)\u001b[49m\n\u001b[0;32m      6\u001b[0m \u001b[38;5;66;03m# 그래서 이렇게 한 번에 두개씩은 못 만듦\u001b[39;00m\n",
      "\u001b[1;31mFileNotFoundError\u001b[0m: [WinError 3] 지정된 경로를 찾을 수 없습니다: 'c:\\\\temp1\\\\temp2'"
     ]
    }
   ],
   "source": [
    "# mkdir( ) 함수와 makedirs() 함수\n",
    "# 디렉토리를 만드는 함수\n",
    "\n",
    "# mkdir은 한 번에 한 단계만 제작가능\n",
    "os.mkdir('c:\\\\temp1\\\\temp2')\n",
    "# 그래서 이렇게 한 번에 두개는 제작불가"
   ]
  },
  {
   "cell_type": "code",
   "execution_count": 24,
   "id": "ba20e26d",
   "metadata": {},
   "outputs": [],
   "source": [
    "# makedirs는 mkdir과 달리 한 번에 여러개 제작가능\n",
    "\n",
    "os.makedirs('c:\\\\temp1\\\\temp2')\n",
    "\n",
    "#됨. 따라서 makedirs를 훨~~~씬 많이 쓰는 함수"
   ]
  },
  {
   "cell_type": "code",
   "execution_count": 27,
   "id": "e3ee15fb",
   "metadata": {},
   "outputs": [],
   "source": [
    "# 하지만 nakedirs도 단점이 있다.\n",
    "# 없는 파일이름으로 오타를 냈을 경우, 오타 그대로 폴더를 만들어버림.\n",
    "# 반면에 mkdir는 없는 파알아름으로 오타를 냈을 경우, 에러가 뜸\n",
    "os.makedirs('c:\\\\temp11\\\\temp3')\n",
    "# temp1 안에 temp3을 만들려고 했는데, 오타로 temp11을 입력함.\n",
    "# 오타 그대로 temp11이 만들어져 버린 상황...."
   ]
  },
  {
   "cell_type": "code",
   "execution_count": 28,
   "id": "04a2ffd7",
   "metadata": {},
   "outputs": [
    {
     "ename": "FileNotFoundError",
     "evalue": "[WinError 3] 지정된 경로를 찾을 수 없습니다: 'c:\\\\temp12\\\\temp4'",
     "output_type": "error",
     "traceback": [
      "\u001b[1;31m---------------------------------------------------------------------------\u001b[0m",
      "\u001b[1;31mFileNotFoundError\u001b[0m                         Traceback (most recent call last)",
      "Cell \u001b[1;32mIn[28], line 3\u001b[0m\n\u001b[0;32m      1\u001b[0m \u001b[38;5;66;03m# 만약 mkdir였다면?\u001b[39;00m\n\u001b[0;32m      2\u001b[0m \u001b[38;5;66;03m# temp1안에 temp4를 만드려는 상황\u001b[39;00m\n\u001b[1;32m----> 3\u001b[0m \u001b[43mos\u001b[49m\u001b[38;5;241;43m.\u001b[39;49m\u001b[43mmkdir\u001b[49m\u001b[43m(\u001b[49m\u001b[38;5;124;43m'\u001b[39;49m\u001b[38;5;124;43mc:\u001b[39;49m\u001b[38;5;130;43;01m\\\\\u001b[39;49;00m\u001b[38;5;124;43mtemp12\u001b[39;49m\u001b[38;5;130;43;01m\\\\\u001b[39;49;00m\u001b[38;5;124;43mtemp4\u001b[39;49m\u001b[38;5;124;43m'\u001b[39;49m\u001b[43m)\u001b[49m\n",
      "\u001b[1;31mFileNotFoundError\u001b[0m: [WinError 3] 지정된 경로를 찾을 수 없습니다: 'c:\\\\temp12\\\\temp4'"
     ]
    }
   ],
   "source": [
    "# 만약 mkdir였다면?\n",
    "# temp1안에 temp4를 만드려는 상황\n",
    "os.mkdir('c:\\\\temp12\\\\temp4')\n",
    "#아래의 에러처럼 temp12가 없다며 실행 안됨\n",
    "# 휴 다행"
   ]
  },
  {
   "cell_type": "code",
   "execution_count": 29,
   "id": "57854730",
   "metadata": {},
   "outputs": [],
   "source": [
    "#rmdir( ) 함수와 removedirs( ) 함수\n",
    "#삭제하는 함수 ㅋㅋ 엄청 위험\n",
    "\n",
    "#rmdir()은 한 번에 하나씩 삭제\n",
    "#removedirs()는 한 번에 여러개씩 삭제\n",
    "\n",
    "os.rmdir('c:\\\\temp1\\\\temp2')\n",
    "os.rmdir('c:\\\\temp1')\n",
    "\n",
    "os.makedirs('c:\\\\temp1\\\\temp2')\n",
    "os.removedirs('c:\\\\temp1\\\\temp2')"
   ]
  },
  {
   "cell_type": "code",
   "execution_count": 36,
   "id": "52c0bf16",
   "metadata": {},
   "outputs": [],
   "source": [
    "import os\n",
    "os. makedirs('C:\\\\Users\\\\DAE SEUNG\\\\Desktop\\\\정회령 하이요ㅋ')"
   ]
  },
  {
   "cell_type": "code",
   "execution_count": 37,
   "id": "ede45d31",
   "metadata": {},
   "outputs": [],
   "source": [
    "import os\n",
    "os.removedirs('C:\\\\Users\\\\DAE SEUNG\\\\Desktop\\\\정회령 하이요ㅋ')"
   ]
  },
  {
   "cell_type": "code",
   "execution_count": 44,
   "id": "864416e4",
   "metadata": {},
   "outputs": [
    {
     "name": "stdout",
     "output_type": "stream",
     "text": [
      "입력하신 c:\\temp4 경로의 폴더를 생성했습니다\n"
     ]
    }
   ],
   "source": [
    "# 디렉토리 관리 예시\n",
    "# 사용자에게 폴더 이름을 입력받고 폴더제작.\n",
    "# 단, 이미 있다면 폴더 이름 뒤에 _2를 붙여서 폴더제작.\n",
    "\n",
    "\n",
    "import os\n",
    "\n",
    "dir1 = input(\"폴더 이름을 입력하세요(예:c:\\\\temp) :  \")\n",
    "\n",
    "os.chdir(dir1[0:3]) #dir1[0:3]은 dir1의 0부터2까지의 요소를 가져옴. 즉 c:\\까지만 가져옴.\n",
    "#파이썬에서의 [0:3]는 시작이 0이고, 종료가 3이라는 뜻이라서 0부터 2까지의 요소만 가져옴. \n",
    "#그리고 os.chdir 함수 때문에 현재 디렉토리의 위치가 c:\\가 된 상황임.\n",
    "\n",
    "dir_list = os.listdir()\n",
    "#현재 디렉토리인 c:\\의 리스트를 가져와서 dir_lsit에 집어넣음.\n",
    "\n",
    "if  os.path.isdir(dir1) :  #isdir이 exists와 같은 말임. c:\\에 dir1이라는 이름의 폴더가 있나?\n",
    "    dir_name=dir1+'_2' # 이미 있다면 dir_name은 dir1에 _2을 붙인 이름이 됨\n",
    "    os.makedirs(dir_name) #c:\\에 dir_name으로 폴더 생성\n",
    "    print('입력하신 경로가 존재하여 %s 로 폴더를 생성했습니다' %dir_name)\n",
    "    \n",
    "else : #c:\\dp dir1이라는 이름의 폴더가 없다면\n",
    "    os.mkdir(dir1) # c:\\에 dir1이라는 이름의 폴더 생성\n",
    "    print('입력하신 %s 경로의 폴더를 생성했습니다' %dir1)\n"
   ]
  },
  {
   "cell_type": "code",
   "execution_count": 67,
   "id": "dae60ee0",
   "metadata": {},
   "outputs": [
    {
     "ename": "FileExistsError",
     "evalue": "[WinError 183] 파일이 이미 있으므로 만들 수 없습니다: 'c:\\\\py_temp2'",
     "output_type": "error",
     "traceback": [
      "\u001b[1;31m---------------------------------------------------------------------------\u001b[0m",
      "\u001b[1;31mFileExistsError\u001b[0m                           Traceback (most recent call last)",
      "Cell \u001b[1;32mIn[67], line 3\u001b[0m\n\u001b[0;32m      1\u001b[0m \u001b[38;5;66;03m#txt 파일에 내용을 저장하기\u001b[39;00m\n\u001b[1;32m----> 3\u001b[0m \u001b[43mos\u001b[49m\u001b[38;5;241;43m.\u001b[39;49m\u001b[43mmakedirs\u001b[49m\u001b[43m(\u001b[49m\u001b[38;5;124;43m'\u001b[39;49m\u001b[38;5;124;43mc:\u001b[39;49m\u001b[38;5;130;43;01m\\\\\u001b[39;49;00m\u001b[38;5;124;43mpy_temp2\u001b[39;49m\u001b[38;5;124;43m'\u001b[39;49m\u001b[43m)\u001b[49m \u001b[38;5;66;03m# 이런 폴더 만들어서\u001b[39;00m\n\u001b[0;32m      4\u001b[0m os\u001b[38;5;241m.\u001b[39mchdir(\u001b[38;5;124m'\u001b[39m\u001b[38;5;124mc:\u001b[39m\u001b[38;5;130;01m\\\\\u001b[39;00m\u001b[38;5;124mpy_temp2\u001b[39m\u001b[38;5;124m'\u001b[39m) \u001b[38;5;66;03m# 그 폴더로 가라\u001b[39;00m\n\u001b[0;32m      5\u001b[0m \u001b[38;5;28mprint\u001b[39m( os\u001b[38;5;241m.\u001b[39mgetcwd() ) \u001b[38;5;66;03m# 잘 됐나보자\u001b[39;00m\n",
      "File \u001b[1;32m<frozen os>:225\u001b[0m, in \u001b[0;36mmakedirs\u001b[1;34m(name, mode, exist_ok)\u001b[0m\n",
      "\u001b[1;31mFileExistsError\u001b[0m: [WinError 183] 파일이 이미 있으므로 만들 수 없습니다: 'c:\\\\py_temp2'"
     ]
    }
   ],
   "source": [
    "#txt 파일에 내용을 저장하기\n",
    "\n",
    "os.makedirs('c:\\\\py_temp2') # 이런 폴더 만들어서\n",
    "os.chdir('c:\\\\py_temp2') # 그 폴더로 가라\n",
    "print( os.getcwd() ) # 잘 됐나보자\n",
    "\n",
    "file=open('test12.txt' , 'w')\n",
    "# opem이라는 명령어로 현재 디렉토리 안의 text1.txt라는 텍스트 파일을 가져옴.\n",
    "#이때 만약 해당 이름의 텍스트 파일이 없다면, 새로 만듦.\n",
    "# 그 뒤의 w는 '덮어쓰기'를 의미한다.\n",
    "# 해당 텍스트 파일 안에 다른 내용이 있었더라도, 그 위에 그냥 덮어써서 새로 쓴다는 의미이다.\n",
    "\n",
    "file.write('텍스트 파일에 처음 쓴 글입니다') # 쓰기\n",
    "file.close( ) #저장하는 명령어\n",
    "\n"
   ]
  },
  {
   "cell_type": "code",
   "execution_count": null,
   "id": "7b8f3d48",
   "metadata": {},
   "outputs": [],
   "source": [
    "# \"r\" (읽기 모드): 파일을 읽기 위해 엽니다. 파일이 존재하지 않으면 오류가 발생합니다.\n",
    "# \"w\" (쓰기 모드): 파일을 쓰기 위해 엽니다. 파일이 이미 존재하는 경우, 기존 내용이 삭제됩니다. 파일이 존재하지 않으면 새로운 파일이 생성됩니다.\n",
    "# \"a\" (추가 모드): 파일에 내용을 추가하기 위해 엽니다. 파일이 이미 존재하는 경우, 파일의 끝에 추가됩니다. 파일이 존재하지 않으면 새로운 파일이 생성됩니다.\n",
    "# \"r+\" (읽기 및 쓰기 모드): 파일을 읽고 쓰기 위해 엽니다. 파일의 내용을 읽고 수정할 수 있습니다.\n",
    "# \"w+\" (쓰기 및 읽기 모드): 파일을 쓰기 및 읽기 위해 엽니다. 파일이 이미 존재하는 경우, 기존 내용이 삭제됩니다. 파일이 존재하지 않으면 새로운 파일이 생성됩니다.\n",
    "# \"a+\" (추가 및 읽기 모드): 파일에 내용을 추가하고 읽기 위해 엽니다. 파일이 이미 존재하는 경우, 파일의 끝에 추가됩니다. 파일이 존재하지 않으면 새로운 파일이 생성됩니다."
   ]
  },
  {
   "cell_type": "code",
   "execution_count": 46,
   "id": "c0d30b2a",
   "metadata": {},
   "outputs": [],
   "source": [
    "file2=open('test1.txt' , 'w') #덮어쓰기\n",
    "file2.write('텍스트 파일에 두번째 쓴 글입니다') \n",
    "file2.close( )"
   ]
  },
  {
   "cell_type": "code",
   "execution_count": 47,
   "id": "991c3380",
   "metadata": {},
   "outputs": [],
   "source": [
    "file3=open('test1.txt' , 'a') # a는 기존의 내용 바로 뒤에 추가 (append를 의미)\n",
    "file3.write('텍스트 파일에 세번째 쓴 글입니다')\n",
    "file3.close( )"
   ]
  },
  {
   "cell_type": "code",
   "execution_count": 68,
   "id": "cff437b1",
   "metadata": {},
   "outputs": [],
   "source": [
    "file4=open('test1.txt' , 'a')\n",
    "file4.write('\\n' + '텍스트 파일에 네번째 쓴 글입니다') # '\\n'는 줄 새로고침을 의미\n",
    "#문자열들을 하나로 합쳐야 해서 +를 사용함\n",
    "\n",
    "file3.close( )"
   ]
  },
  {
   "cell_type": "code",
   "execution_count": 79,
   "id": "119b082a",
   "metadata": {},
   "outputs": [],
   "source": [
    "#txt 형식의 파일 내용 생성하기\n",
    "\n",
    "f=open('c:\\\\py_temp2\\\\readme1.txt','w')\n",
    "f.write('1. 새우깡'+'\\n'+'2.맛맛동산'+'\\n'+'3.감자깡'+'\\n'+'4.고구마깡'+'\\n'+'5.꼬깔콘')\n",
    "f.close()\n"
   ]
  },
  {
   "cell_type": "code",
   "execution_count": 86,
   "id": "5528de2a",
   "metadata": {},
   "outputs": [
    {
     "name": "stdout",
     "output_type": "stream",
     "text": [
      "['1. 새우깡\\n', '2.맛맛동산\\n', '3.감자깡\\n', '4.고구마깡\\n', '5.꼬깔콘']\n"
     ]
    }
   ],
   "source": [
    "#txt 형식의 파일 내용 읽기\n",
    "\n",
    "f1=open('c:\\\\py_temp2\\\\readme1.txt','r') #r은 뭐 다른 수정없이 그냥 가져오는 걸 의미한다\n",
    "snack=f1.readlines()\n",
    "print(snack)"
   ]
  },
  {
   "cell_type": "code",
   "execution_count": 90,
   "id": "b111208a",
   "metadata": {},
   "outputs": [
    {
     "name": "stdout",
     "output_type": "stream",
     "text": [
      "1. 새우깡\n",
      "\n",
      "3.감자깡\n",
      "\n"
     ]
    }
   ],
   "source": [
    "# index 방법으로 특정 항만 가져오기\n",
    "\n",
    "print(snack[0])\n",
    "print(snack[2])"
   ]
  },
  {
   "cell_type": "code",
   "execution_count": 87,
   "id": "30b2074d",
   "metadata": {},
   "outputs": [
    {
     "name": "stdout",
     "output_type": "stream",
     "text": [
      "1. 새우깡\n",
      "\n",
      "2.맛맛동산\n",
      "\n",
      "3.감자깡\n",
      "\n",
      "4.고구마깡\n",
      "\n",
      "5.꼬깔콘\n"
     ]
    }
   ],
   "source": [
    "# for 반복문으로 가져오기\n",
    "\n",
    "for i in snack:\n",
    "    print(i)"
   ]
  },
  {
   "cell_type": "code",
   "execution_count": 2,
   "id": "9c311712",
   "metadata": {},
   "outputs": [
    {
     "name": "stdout",
     "output_type": "stream",
     "text": [
      "Requirement already satisfied: pandas in c:\\users\\dae seung\\appdata\\roaming\\python\\python311\\site-packages (2.2.2)\n",
      "Requirement already satisfied: numpy>=1.23.2 in c:\\pandas_project\\.conda\\lib\\site-packages (from pandas) (1.26.4)\n",
      "Requirement already satisfied: python-dateutil>=2.8.2 in c:\\pandas_project\\.conda\\lib\\site-packages (from pandas) (2.9.0)\n",
      "Requirement already satisfied: pytz>=2020.1 in c:\\users\\dae seung\\appdata\\roaming\\python\\python311\\site-packages (from pandas) (2024.1)\n",
      "Requirement already satisfied: tzdata>=2022.7 in c:\\users\\dae seung\\appdata\\roaming\\python\\python311\\site-packages (from pandas) (2024.1)\n",
      "Requirement already satisfied: six>=1.5 in c:\\pandas_project\\.conda\\lib\\site-packages (from python-dateutil>=2.8.2->pandas) (1.16.0)\n",
      "Note: you may need to restart the kernel to use updated packages.\n"
     ]
    }
   ],
   "source": [
    "pip install pandas"
   ]
  },
  {
   "cell_type": "code",
   "execution_count": 3,
   "id": "a40ae6dd",
   "metadata": {},
   "outputs": [
    {
     "name": "stdout",
     "output_type": "stream",
     "text": [
      "Requirement already satisfied: pandas in c:\\users\\dae seung\\appdata\\roaming\\python\\python311\\site-packages (2.2.2)\n",
      "Requirement already satisfied: numpy>=1.23.2 in c:\\pandas_project\\.conda\\lib\\site-packages (from pandas) (1.26.4)\n",
      "Requirement already satisfied: python-dateutil>=2.8.2 in c:\\pandas_project\\.conda\\lib\\site-packages (from pandas) (2.9.0)\n",
      "Requirement already satisfied: pytz>=2020.1 in c:\\users\\dae seung\\appdata\\roaming\\python\\python311\\site-packages (from pandas) (2024.1)\n",
      "Requirement already satisfied: tzdata>=2022.7 in c:\\users\\dae seung\\appdata\\roaming\\python\\python311\\site-packages (from pandas) (2024.1)\n",
      "Requirement already satisfied: six>=1.5 in c:\\pandas_project\\.conda\\lib\\site-packages (from python-dateutil>=2.8.2->pandas) (1.16.0)\n"
     ]
    }
   ],
   "source": [
    "!pip install pandas"
   ]
  },
  {
   "cell_type": "code",
   "execution_count": 4,
   "id": "7a98ad4f",
   "metadata": {},
   "outputs": [
    {
     "data": {
      "text/html": [
       "<div>\n",
       "<style scoped>\n",
       "    .dataframe tbody tr th:only-of-type {\n",
       "        vertical-align: middle;\n",
       "    }\n",
       "\n",
       "    .dataframe tbody tr th {\n",
       "        vertical-align: top;\n",
       "    }\n",
       "\n",
       "    .dataframe thead th {\n",
       "        text-align: right;\n",
       "    }\n",
       "</style>\n",
       "<table border=\"1\" class=\"dataframe\">\n",
       "  <thead>\n",
       "    <tr style=\"text-align: right;\">\n",
       "      <th></th>\n",
       "      <th>과목번호</th>\n",
       "      <th>과목명</th>\n",
       "    </tr>\n",
       "  </thead>\n",
       "  <tbody>\n",
       "    <tr>\n",
       "      <th>0</th>\n",
       "      <td>1</td>\n",
       "      <td>수학</td>\n",
       "    </tr>\n",
       "    <tr>\n",
       "      <th>1</th>\n",
       "      <td>2</td>\n",
       "      <td>과학</td>\n",
       "    </tr>\n",
       "    <tr>\n",
       "      <th>2</th>\n",
       "      <td>3</td>\n",
       "      <td>빅데이터지롱 5/5 수정본</td>\n",
       "    </tr>\n",
       "  </tbody>\n",
       "</table>\n",
       "</div>"
      ],
      "text/plain": [
       "   과목번호             과목명\n",
       "0     1              수학\n",
       "1     2              과학\n",
       "2     3  빅데이터지롱 5/5 수정본"
      ]
     },
     "execution_count": 4,
     "metadata": {},
     "output_type": "execute_result"
    }
   ],
   "source": [
    "import pandas as pd #별명 설정\n",
    "\n",
    "#표(데이터프레임) 만들기\n",
    "\n",
    "no=[ ] #no라는 list 제작\n",
    "s_name = [ ] #subject_name이라는 list제작\n",
    "\n",
    "no.append(1) #no라는 list에 append\n",
    "no.append(2)\n",
    "no.append(3)\n",
    "\n",
    "s_name.append('수학')\n",
    "s_name.append('과학')\n",
    "s_name.append('빅데이터지롱 5/5 수정본')\n",
    "\n",
    "#이제 lsit 두 개로 표를 만들 차례\n",
    "subject = pd.DataFrame( ) #판다스.데이터프레임으로 표를 제작\n",
    "subject['과목번호'] = no #표에 no list를 넣기\n",
    "subject['과목명'] = s_name\n",
    "subject"
   ]
  },
  {
   "cell_type": "code",
   "execution_count": 6,
   "id": "94dceb9f",
   "metadata": {},
   "outputs": [],
   "source": [
    "#csv 형식으로 저장하기\n",
    "subject.to_csv('c:\\\\py_temp2\\\\subject.csv', encoding='utf-8-sig',index=False)\n",
    "#openpyxl 엔진은 to_excel() 메서드의 기본 엔진이기 때문에 명시적으로 지정할 필요가 없습니다.\n",
    "\n",
    "\n",
    "#xls 형식으로 저장하기\n",
    "# pip install xlwt 를 먼저 수행하세요\n",
    "subject.to_excel('c:\\\\py_temp2\\\\subjcet.xls',index=False,engine='openpyxl')"
   ]
  },
  {
   "cell_type": "code",
   "execution_count": 23,
   "id": "4312eed7",
   "metadata": {},
   "outputs": [
    {
     "ename": "FileNotFoundError",
     "evalue": "[Errno 2] No such file or directory: 'c:\\\\temp\\\\email.xlsx'",
     "output_type": "error",
     "traceback": [
      "\u001b[1;31m---------------------------------------------------------------------------\u001b[0m",
      "\u001b[1;31mFileNotFoundError\u001b[0m                         Traceback (most recent call last)",
      "Cell \u001b[1;32mIn[23], line 4\u001b[0m\n\u001b[0;32m      1\u001b[0m \u001b[38;5;66;03m# xlsx 형식의 파일 내용 불러오기 - openpyxl 패키지 사용하기\u001b[39;00m\n\u001b[0;32m      3\u001b[0m \u001b[38;5;28;01mimport\u001b[39;00m \u001b[38;5;21;01mopenpyxl\u001b[39;00m\n\u001b[1;32m----> 4\u001b[0m wb\u001b[38;5;241m=\u001b[39m\u001b[43mopenpyxl\u001b[49m\u001b[38;5;241;43m.\u001b[39;49m\u001b[43mload_workbook\u001b[49m\u001b[43m(\u001b[49m\u001b[38;5;124;43m'\u001b[39;49m\u001b[38;5;124;43mc:\u001b[39;49m\u001b[38;5;130;43;01m\\\\\u001b[39;49;00m\u001b[38;5;124;43mtemp\u001b[39;49m\u001b[38;5;130;43;01m\\\\\u001b[39;49;00m\u001b[38;5;124;43memail.xlsx\u001b[39;49m\u001b[38;5;124;43m'\u001b[39;49m\u001b[43m)\u001b[49m\n\u001b[0;32m      5\u001b[0m sheet \u001b[38;5;241m=\u001b[39m wb[\u001b[38;5;124m'\u001b[39m\u001b[38;5;124mSheet1\u001b[39m\u001b[38;5;124m'\u001b[39m]\n\u001b[0;32m      7\u001b[0m contents\u001b[38;5;241m=\u001b[39m{ }\n",
      "File \u001b[1;32m~\\AppData\\Roaming\\Python\\Python311\\site-packages\\openpyxl\\reader\\excel.py:344\u001b[0m, in \u001b[0;36mload_workbook\u001b[1;34m(filename, read_only, keep_vba, data_only, keep_links, rich_text)\u001b[0m\n\u001b[0;32m    314\u001b[0m \u001b[38;5;28;01mdef\u001b[39;00m \u001b[38;5;21mload_workbook\u001b[39m(filename, read_only\u001b[38;5;241m=\u001b[39m\u001b[38;5;28;01mFalse\u001b[39;00m, keep_vba\u001b[38;5;241m=\u001b[39mKEEP_VBA,\n\u001b[0;32m    315\u001b[0m                   data_only\u001b[38;5;241m=\u001b[39m\u001b[38;5;28;01mFalse\u001b[39;00m, keep_links\u001b[38;5;241m=\u001b[39m\u001b[38;5;28;01mTrue\u001b[39;00m, rich_text\u001b[38;5;241m=\u001b[39m\u001b[38;5;28;01mFalse\u001b[39;00m):\n\u001b[0;32m    316\u001b[0m \u001b[38;5;250m    \u001b[39m\u001b[38;5;124;03m\"\"\"Open the given filename and return the workbook\u001b[39;00m\n\u001b[0;32m    317\u001b[0m \n\u001b[0;32m    318\u001b[0m \u001b[38;5;124;03m    :param filename: the path to open or a file-like object\u001b[39;00m\n\u001b[1;32m   (...)\u001b[0m\n\u001b[0;32m    342\u001b[0m \n\u001b[0;32m    343\u001b[0m \u001b[38;5;124;03m    \"\"\"\u001b[39;00m\n\u001b[1;32m--> 344\u001b[0m     reader \u001b[38;5;241m=\u001b[39m \u001b[43mExcelReader\u001b[49m\u001b[43m(\u001b[49m\u001b[43mfilename\u001b[49m\u001b[43m,\u001b[49m\u001b[43m \u001b[49m\u001b[43mread_only\u001b[49m\u001b[43m,\u001b[49m\u001b[43m \u001b[49m\u001b[43mkeep_vba\u001b[49m\u001b[43m,\u001b[49m\n\u001b[0;32m    345\u001b[0m \u001b[43m                         \u001b[49m\u001b[43mdata_only\u001b[49m\u001b[43m,\u001b[49m\u001b[43m \u001b[49m\u001b[43mkeep_links\u001b[49m\u001b[43m,\u001b[49m\u001b[43m \u001b[49m\u001b[43mrich_text\u001b[49m\u001b[43m)\u001b[49m\n\u001b[0;32m    346\u001b[0m     reader\u001b[38;5;241m.\u001b[39mread()\n\u001b[0;32m    347\u001b[0m     \u001b[38;5;28;01mreturn\u001b[39;00m reader\u001b[38;5;241m.\u001b[39mwb\n",
      "File \u001b[1;32m~\\AppData\\Roaming\\Python\\Python311\\site-packages\\openpyxl\\reader\\excel.py:123\u001b[0m, in \u001b[0;36mExcelReader.__init__\u001b[1;34m(self, fn, read_only, keep_vba, data_only, keep_links, rich_text)\u001b[0m\n\u001b[0;32m    121\u001b[0m \u001b[38;5;28;01mdef\u001b[39;00m \u001b[38;5;21m__init__\u001b[39m(\u001b[38;5;28mself\u001b[39m, fn, read_only\u001b[38;5;241m=\u001b[39m\u001b[38;5;28;01mFalse\u001b[39;00m, keep_vba\u001b[38;5;241m=\u001b[39mKEEP_VBA,\n\u001b[0;32m    122\u001b[0m              data_only\u001b[38;5;241m=\u001b[39m\u001b[38;5;28;01mFalse\u001b[39;00m, keep_links\u001b[38;5;241m=\u001b[39m\u001b[38;5;28;01mTrue\u001b[39;00m, rich_text\u001b[38;5;241m=\u001b[39m\u001b[38;5;28;01mFalse\u001b[39;00m):\n\u001b[1;32m--> 123\u001b[0m     \u001b[38;5;28mself\u001b[39m\u001b[38;5;241m.\u001b[39marchive \u001b[38;5;241m=\u001b[39m \u001b[43m_validate_archive\u001b[49m\u001b[43m(\u001b[49m\u001b[43mfn\u001b[49m\u001b[43m)\u001b[49m\n\u001b[0;32m    124\u001b[0m     \u001b[38;5;28mself\u001b[39m\u001b[38;5;241m.\u001b[39mvalid_files \u001b[38;5;241m=\u001b[39m \u001b[38;5;28mself\u001b[39m\u001b[38;5;241m.\u001b[39marchive\u001b[38;5;241m.\u001b[39mnamelist()\n\u001b[0;32m    125\u001b[0m     \u001b[38;5;28mself\u001b[39m\u001b[38;5;241m.\u001b[39mread_only \u001b[38;5;241m=\u001b[39m read_only\n",
      "File \u001b[1;32m~\\AppData\\Roaming\\Python\\Python311\\site-packages\\openpyxl\\reader\\excel.py:95\u001b[0m, in \u001b[0;36m_validate_archive\u001b[1;34m(filename)\u001b[0m\n\u001b[0;32m     88\u001b[0m             msg \u001b[38;5;241m=\u001b[39m (\u001b[38;5;124m'\u001b[39m\u001b[38;5;124mopenpyxl does not support \u001b[39m\u001b[38;5;132;01m%s\u001b[39;00m\u001b[38;5;124m file format, \u001b[39m\u001b[38;5;124m'\u001b[39m\n\u001b[0;32m     89\u001b[0m                    \u001b[38;5;124m'\u001b[39m\u001b[38;5;124mplease check you can open \u001b[39m\u001b[38;5;124m'\u001b[39m\n\u001b[0;32m     90\u001b[0m                    \u001b[38;5;124m'\u001b[39m\u001b[38;5;124mit with Excel first. \u001b[39m\u001b[38;5;124m'\u001b[39m\n\u001b[0;32m     91\u001b[0m                    \u001b[38;5;124m'\u001b[39m\u001b[38;5;124mSupported formats are: \u001b[39m\u001b[38;5;132;01m%s\u001b[39;00m\u001b[38;5;124m'\u001b[39m) \u001b[38;5;241m%\u001b[39m (file_format,\n\u001b[0;32m     92\u001b[0m                                                    \u001b[38;5;124m'\u001b[39m\u001b[38;5;124m,\u001b[39m\u001b[38;5;124m'\u001b[39m\u001b[38;5;241m.\u001b[39mjoin(SUPPORTED_FORMATS))\n\u001b[0;32m     93\u001b[0m         \u001b[38;5;28;01mraise\u001b[39;00m InvalidFileException(msg)\n\u001b[1;32m---> 95\u001b[0m archive \u001b[38;5;241m=\u001b[39m \u001b[43mZipFile\u001b[49m\u001b[43m(\u001b[49m\u001b[43mfilename\u001b[49m\u001b[43m,\u001b[49m\u001b[43m \u001b[49m\u001b[38;5;124;43m'\u001b[39;49m\u001b[38;5;124;43mr\u001b[39;49m\u001b[38;5;124;43m'\u001b[39;49m\u001b[43m)\u001b[49m\n\u001b[0;32m     96\u001b[0m \u001b[38;5;28;01mreturn\u001b[39;00m archive\n",
      "File \u001b[1;32mc:\\pandas_project\\.conda\\Lib\\zipfile.py:1294\u001b[0m, in \u001b[0;36mZipFile.__init__\u001b[1;34m(self, file, mode, compression, allowZip64, compresslevel, strict_timestamps, metadata_encoding)\u001b[0m\n\u001b[0;32m   1292\u001b[0m \u001b[38;5;28;01mwhile\u001b[39;00m \u001b[38;5;28;01mTrue\u001b[39;00m:\n\u001b[0;32m   1293\u001b[0m     \u001b[38;5;28;01mtry\u001b[39;00m:\n\u001b[1;32m-> 1294\u001b[0m         \u001b[38;5;28mself\u001b[39m\u001b[38;5;241m.\u001b[39mfp \u001b[38;5;241m=\u001b[39m \u001b[43mio\u001b[49m\u001b[38;5;241;43m.\u001b[39;49m\u001b[43mopen\u001b[49m\u001b[43m(\u001b[49m\u001b[43mfile\u001b[49m\u001b[43m,\u001b[49m\u001b[43m \u001b[49m\u001b[43mfilemode\u001b[49m\u001b[43m)\u001b[49m\n\u001b[0;32m   1295\u001b[0m     \u001b[38;5;28;01mexcept\u001b[39;00m \u001b[38;5;167;01mOSError\u001b[39;00m:\n\u001b[0;32m   1296\u001b[0m         \u001b[38;5;28;01mif\u001b[39;00m filemode \u001b[38;5;129;01min\u001b[39;00m modeDict:\n",
      "\u001b[1;31mFileNotFoundError\u001b[0m: [Errno 2] No such file or directory: 'c:\\\\temp\\\\email.xlsx'"
     ]
    }
   ],
   "source": [
    "# xlsx 형식의 파일 내용 불러오기 - openpyxl 패키지 사용하기\n",
    "\n",
    "import openpyxl\n",
    "wb=openpyxl.load_workbook('c:\\\\temp\\\\email.xlsx')\n",
    "sheet = wb['Sheet1']\n",
    "\n",
    "contents={ }\n",
    "for i in range(2,sheet.max_row + 1) :\n",
    "    name=sheet.cell(row=i , column=1).value\n",
    "    email=sheet.cell(row=i, column=2).value\n",
    "    contents[name]=email\n",
    "    \n",
    "contents    "
   ]
  },
  {
   "cell_type": "code",
   "execution_count": null,
   "id": "04ea55b6",
   "metadata": {},
   "outputs": [
    {
     "ename": "FileNotFoundError",
     "evalue": "[Errno 2] No such file or directory: 'c:\\\\temp\\\\email.xlsx'",
     "output_type": "error",
     "traceback": [
      "\u001b[1;31m---------------------------------------------------------------------------\u001b[0m",
      "\u001b[1;31mFileNotFoundError\u001b[0m                         Traceback (most recent call last)",
      "Cell \u001b[1;32mIn[6], line 3\u001b[0m\n\u001b[0;32m      1\u001b[0m \u001b[38;5;66;03m#xlsx 형식의 파일 내용 불러오기 -pandas 사용\u001b[39;00m\n\u001b[0;32m      2\u001b[0m \u001b[38;5;28;01mimport\u001b[39;00m \u001b[38;5;21;01mpandas\u001b[39;00m \u001b[38;5;28;01mas\u001b[39;00m \u001b[38;5;21;01mpd\u001b[39;00m\n\u001b[1;32m----> 3\u001b[0m data \u001b[38;5;241m=\u001b[39m \u001b[43mpd\u001b[49m\u001b[38;5;241;43m.\u001b[39;49m\u001b[43mread_excel\u001b[49m\u001b[43m(\u001b[49m\u001b[38;5;124;43m'\u001b[39;49m\u001b[38;5;124;43mc:\u001b[39;49m\u001b[38;5;130;43;01m\\\\\u001b[39;49;00m\u001b[38;5;124;43mtemp\u001b[39;49m\u001b[38;5;130;43;01m\\\\\u001b[39;49;00m\u001b[38;5;124;43memail.xlsx\u001b[39;49m\u001b[38;5;124;43m'\u001b[39;49m\u001b[43m,\u001b[49m\u001b[43msheet_name\u001b[49m\u001b[38;5;241;43m=\u001b[39;49m\u001b[38;5;124;43m'\u001b[39;49m\u001b[38;5;124;43mSheet1\u001b[39;49m\u001b[38;5;124;43m'\u001b[39;49m\u001b[43m)\u001b[49m\n\u001b[0;32m      4\u001b[0m data\n",
      "File \u001b[1;32m~\\AppData\\Roaming\\Python\\Python311\\site-packages\\pandas\\io\\excel\\_base.py:495\u001b[0m, in \u001b[0;36mread_excel\u001b[1;34m(io, sheet_name, header, names, index_col, usecols, dtype, engine, converters, true_values, false_values, skiprows, nrows, na_values, keep_default_na, na_filter, verbose, parse_dates, date_parser, date_format, thousands, decimal, comment, skipfooter, storage_options, dtype_backend, engine_kwargs)\u001b[0m\n\u001b[0;32m    493\u001b[0m \u001b[38;5;28;01mif\u001b[39;00m \u001b[38;5;129;01mnot\u001b[39;00m \u001b[38;5;28misinstance\u001b[39m(io, ExcelFile):\n\u001b[0;32m    494\u001b[0m     should_close \u001b[38;5;241m=\u001b[39m \u001b[38;5;28;01mTrue\u001b[39;00m\n\u001b[1;32m--> 495\u001b[0m     io \u001b[38;5;241m=\u001b[39m \u001b[43mExcelFile\u001b[49m\u001b[43m(\u001b[49m\n\u001b[0;32m    496\u001b[0m \u001b[43m        \u001b[49m\u001b[43mio\u001b[49m\u001b[43m,\u001b[49m\n\u001b[0;32m    497\u001b[0m \u001b[43m        \u001b[49m\u001b[43mstorage_options\u001b[49m\u001b[38;5;241;43m=\u001b[39;49m\u001b[43mstorage_options\u001b[49m\u001b[43m,\u001b[49m\n\u001b[0;32m    498\u001b[0m \u001b[43m        \u001b[49m\u001b[43mengine\u001b[49m\u001b[38;5;241;43m=\u001b[39;49m\u001b[43mengine\u001b[49m\u001b[43m,\u001b[49m\n\u001b[0;32m    499\u001b[0m \u001b[43m        \u001b[49m\u001b[43mengine_kwargs\u001b[49m\u001b[38;5;241;43m=\u001b[39;49m\u001b[43mengine_kwargs\u001b[49m\u001b[43m,\u001b[49m\n\u001b[0;32m    500\u001b[0m \u001b[43m    \u001b[49m\u001b[43m)\u001b[49m\n\u001b[0;32m    501\u001b[0m \u001b[38;5;28;01melif\u001b[39;00m engine \u001b[38;5;129;01mand\u001b[39;00m engine \u001b[38;5;241m!=\u001b[39m io\u001b[38;5;241m.\u001b[39mengine:\n\u001b[0;32m    502\u001b[0m     \u001b[38;5;28;01mraise\u001b[39;00m \u001b[38;5;167;01mValueError\u001b[39;00m(\n\u001b[0;32m    503\u001b[0m         \u001b[38;5;124m\"\u001b[39m\u001b[38;5;124mEngine should not be specified when passing \u001b[39m\u001b[38;5;124m\"\u001b[39m\n\u001b[0;32m    504\u001b[0m         \u001b[38;5;124m\"\u001b[39m\u001b[38;5;124man ExcelFile - ExcelFile already has the engine set\u001b[39m\u001b[38;5;124m\"\u001b[39m\n\u001b[0;32m    505\u001b[0m     )\n",
      "File \u001b[1;32m~\\AppData\\Roaming\\Python\\Python311\\site-packages\\pandas\\io\\excel\\_base.py:1550\u001b[0m, in \u001b[0;36mExcelFile.__init__\u001b[1;34m(self, path_or_buffer, engine, storage_options, engine_kwargs)\u001b[0m\n\u001b[0;32m   1548\u001b[0m     ext \u001b[38;5;241m=\u001b[39m \u001b[38;5;124m\"\u001b[39m\u001b[38;5;124mxls\u001b[39m\u001b[38;5;124m\"\u001b[39m\n\u001b[0;32m   1549\u001b[0m \u001b[38;5;28;01melse\u001b[39;00m:\n\u001b[1;32m-> 1550\u001b[0m     ext \u001b[38;5;241m=\u001b[39m \u001b[43minspect_excel_format\u001b[49m\u001b[43m(\u001b[49m\n\u001b[0;32m   1551\u001b[0m \u001b[43m        \u001b[49m\u001b[43mcontent_or_path\u001b[49m\u001b[38;5;241;43m=\u001b[39;49m\u001b[43mpath_or_buffer\u001b[49m\u001b[43m,\u001b[49m\u001b[43m \u001b[49m\u001b[43mstorage_options\u001b[49m\u001b[38;5;241;43m=\u001b[39;49m\u001b[43mstorage_options\u001b[49m\n\u001b[0;32m   1552\u001b[0m \u001b[43m    \u001b[49m\u001b[43m)\u001b[49m\n\u001b[0;32m   1553\u001b[0m     \u001b[38;5;28;01mif\u001b[39;00m ext \u001b[38;5;129;01mis\u001b[39;00m \u001b[38;5;28;01mNone\u001b[39;00m:\n\u001b[0;32m   1554\u001b[0m         \u001b[38;5;28;01mraise\u001b[39;00m \u001b[38;5;167;01mValueError\u001b[39;00m(\n\u001b[0;32m   1555\u001b[0m             \u001b[38;5;124m\"\u001b[39m\u001b[38;5;124mExcel file format cannot be determined, you must specify \u001b[39m\u001b[38;5;124m\"\u001b[39m\n\u001b[0;32m   1556\u001b[0m             \u001b[38;5;124m\"\u001b[39m\u001b[38;5;124man engine manually.\u001b[39m\u001b[38;5;124m\"\u001b[39m\n\u001b[0;32m   1557\u001b[0m         )\n",
      "File \u001b[1;32m~\\AppData\\Roaming\\Python\\Python311\\site-packages\\pandas\\io\\excel\\_base.py:1402\u001b[0m, in \u001b[0;36minspect_excel_format\u001b[1;34m(content_or_path, storage_options)\u001b[0m\n\u001b[0;32m   1399\u001b[0m \u001b[38;5;28;01mif\u001b[39;00m \u001b[38;5;28misinstance\u001b[39m(content_or_path, \u001b[38;5;28mbytes\u001b[39m):\n\u001b[0;32m   1400\u001b[0m     content_or_path \u001b[38;5;241m=\u001b[39m BytesIO(content_or_path)\n\u001b[1;32m-> 1402\u001b[0m \u001b[38;5;28;01mwith\u001b[39;00m \u001b[43mget_handle\u001b[49m\u001b[43m(\u001b[49m\n\u001b[0;32m   1403\u001b[0m \u001b[43m    \u001b[49m\u001b[43mcontent_or_path\u001b[49m\u001b[43m,\u001b[49m\u001b[43m \u001b[49m\u001b[38;5;124;43m\"\u001b[39;49m\u001b[38;5;124;43mrb\u001b[39;49m\u001b[38;5;124;43m\"\u001b[39;49m\u001b[43m,\u001b[49m\u001b[43m \u001b[49m\u001b[43mstorage_options\u001b[49m\u001b[38;5;241;43m=\u001b[39;49m\u001b[43mstorage_options\u001b[49m\u001b[43m,\u001b[49m\u001b[43m \u001b[49m\u001b[43mis_text\u001b[49m\u001b[38;5;241;43m=\u001b[39;49m\u001b[38;5;28;43;01mFalse\u001b[39;49;00m\n\u001b[0;32m   1404\u001b[0m \u001b[43m\u001b[49m\u001b[43m)\u001b[49m \u001b[38;5;28;01mas\u001b[39;00m handle:\n\u001b[0;32m   1405\u001b[0m     stream \u001b[38;5;241m=\u001b[39m handle\u001b[38;5;241m.\u001b[39mhandle\n\u001b[0;32m   1406\u001b[0m     stream\u001b[38;5;241m.\u001b[39mseek(\u001b[38;5;241m0\u001b[39m)\n",
      "File \u001b[1;32m~\\AppData\\Roaming\\Python\\Python311\\site-packages\\pandas\\io\\common.py:882\u001b[0m, in \u001b[0;36mget_handle\u001b[1;34m(path_or_buf, mode, encoding, compression, memory_map, is_text, errors, storage_options)\u001b[0m\n\u001b[0;32m    873\u001b[0m         handle \u001b[38;5;241m=\u001b[39m \u001b[38;5;28mopen\u001b[39m(\n\u001b[0;32m    874\u001b[0m             handle,\n\u001b[0;32m    875\u001b[0m             ioargs\u001b[38;5;241m.\u001b[39mmode,\n\u001b[1;32m   (...)\u001b[0m\n\u001b[0;32m    878\u001b[0m             newline\u001b[38;5;241m=\u001b[39m\u001b[38;5;124m\"\u001b[39m\u001b[38;5;124m\"\u001b[39m,\n\u001b[0;32m    879\u001b[0m         )\n\u001b[0;32m    880\u001b[0m     \u001b[38;5;28;01melse\u001b[39;00m:\n\u001b[0;32m    881\u001b[0m         \u001b[38;5;66;03m# Binary mode\u001b[39;00m\n\u001b[1;32m--> 882\u001b[0m         handle \u001b[38;5;241m=\u001b[39m \u001b[38;5;28;43mopen\u001b[39;49m\u001b[43m(\u001b[49m\u001b[43mhandle\u001b[49m\u001b[43m,\u001b[49m\u001b[43m \u001b[49m\u001b[43mioargs\u001b[49m\u001b[38;5;241;43m.\u001b[39;49m\u001b[43mmode\u001b[49m\u001b[43m)\u001b[49m\n\u001b[0;32m    883\u001b[0m     handles\u001b[38;5;241m.\u001b[39mappend(handle)\n\u001b[0;32m    885\u001b[0m \u001b[38;5;66;03m# Convert BytesIO or file objects passed with an encoding\u001b[39;00m\n",
      "\u001b[1;31mFileNotFoundError\u001b[0m: [Errno 2] No such file or directory: 'c:\\\\temp\\\\email.xlsx'"
     ]
    }
   ],
   "source": [
    "#xlsx 형식의 파일 내용 불러오기 -pandas 사용\n",
    "import pandas as pd\n",
    "data = pd.read_excel('c:\\\\temp\\\\email.xlsx',sheet_name='Sheet1')\n",
    "data"
   ]
  },
  {
   "cell_type": "code",
   "execution_count": null,
   "id": "777f831e",
   "metadata": {},
   "outputs": [
    {
     "ename": "ModuleNotFoundError",
     "evalue": "No module named 'pandas'",
     "output_type": "error",
     "traceback": [
      "\u001b[1;31m---------------------------------------------------------------------------\u001b[0m",
      "\u001b[1;31mModuleNotFoundError\u001b[0m                       Traceback (most recent call last)",
      "Cell \u001b[1;32mIn[2], line 2\u001b[0m\n\u001b[0;32m      1\u001b[0m \u001b[38;5;66;03m#xlsx 형식의 파일 내용 불러오기 -pandas 사용\u001b[39;00m\n\u001b[1;32m----> 2\u001b[0m \u001b[38;5;28;01mimport\u001b[39;00m \u001b[38;5;21;01mpandas\u001b[39;00m \u001b[38;5;28;01mas\u001b[39;00m \u001b[38;5;21;01mpd\u001b[39;00m\n\u001b[0;32m      3\u001b[0m data2 \u001b[38;5;241m=\u001b[39m pd\u001b[38;5;241m.\u001b[39mread_csv(\u001b[38;5;124m'\u001b[39m\u001b[38;5;124mc:\u001b[39m\u001b[38;5;130;01m\\\\\u001b[39;00m\u001b[38;5;124mtemp\u001b[39m\u001b[38;5;130;01m\\\\\u001b[39;00m\u001b[38;5;124memail.csv\u001b[39m\u001b[38;5;124m'\u001b[39m,encoding\u001b[38;5;241m=\u001b[39m\u001b[38;5;124m'\u001b[39m\u001b[38;5;124mcp949\u001b[39m\u001b[38;5;124m'\u001b[39m)\n\u001b[0;32m      4\u001b[0m data2\n",
      "\u001b[1;31mModuleNotFoundError\u001b[0m: No module named 'pandas'"
     ]
    }
   ],
   "source": [
    "#xlsx 형식의 파일 내용 불러오기 -pandas 사용\n",
    "import pandas as pd\n",
    "data2 = pd.read_csv('c:\\\\temp\\\\email.csv',encoding='cp949')\n",
    "data2"
   ]
  }
 ],
 "metadata": {
  "kernelspec": {
   "display_name": "Python 3 (ipykernel)",
   "language": "python",
   "name": "python3"
  },
  "language_info": {
   "codemirror_mode": {
    "name": "ipython",
    "version": 3
   },
   "file_extension": ".py",
   "mimetype": "text/x-python",
   "name": "python",
   "nbconvert_exporter": "python",
   "pygments_lexer": "ipython3",
   "version": "3.11.9"
  }
 },
 "nbformat": 4,
 "nbformat_minor": 5
}
