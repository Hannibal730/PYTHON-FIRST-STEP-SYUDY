{
 "cells": [
  {
   "cell_type": "code",
   "execution_count": 8,
   "id": "e712746c-5edc-4d90-82b4-27a96a8092e0",
   "metadata": {},
   "outputs": [
    {
     "ename": "SyntaxError",
     "evalue": "invalid syntax (3248439021.py, line 8)",
     "output_type": "error",
     "traceback": [
      "\u001b[1;36m  Cell \u001b[1;32mIn[8], line 8\u001b[1;36m\u001b[0m\n\u001b[1;33m    예외가 발생한 문장\u001b[0m\n\u001b[1;37m        ^\u001b[0m\n\u001b[1;31mSyntaxError\u001b[0m\u001b[1;31m:\u001b[0m invalid syntax\n"
     ]
    }
   ],
   "source": [
    "#예외처리의 의미\n",
    "#프로그램 작성 시 오타로 발생하는 에러는 컴파일 에러\n",
    "#이때 컴파일 에러를 제외한 논리적 오류를 예외라고 함\n",
    "\n",
    "#예외처리 문법\n",
    "\n",
    "try:\n",
    "    예외가 발생한 문장\n",
    "except 예외종류:\n",
    "    예외가 발생하면 실행할 문장\n",
    "else:\n",
    "    예외가 발생하지 않을 때 실행할 문장\n",
    "    "
   ]
  },
  {
   "cell_type": "code",
   "execution_count": 5,
   "id": "09c96297",
   "metadata": {},
   "outputs": [
    {
     "name": "stdout",
     "output_type": "stream",
     "text": [
      "정상적인 경우\n"
     ]
    },
    {
     "name": "stdin",
     "output_type": "stream",
     "text": [
      "숫자 1개를 입력하세요: 1\n"
     ]
    },
    {
     "name": "stdout",
     "output_type": "stream",
     "text": [
      "1\n",
      "\n",
      "\n",
      "예외가 발생하는 경우\n"
     ]
    },
    {
     "name": "stdin",
     "output_type": "stream",
     "text": [
      "숫자 1개를 입력하세요: ㅁ\n"
     ]
    },
    {
     "ename": "ValueError",
     "evalue": "invalid literal for int() with base 10: 'ㅁ'",
     "output_type": "error",
     "traceback": [
      "\u001b[1;31m---------------------------------------------------------------------------\u001b[0m",
      "\u001b[1;31mValueError\u001b[0m                                Traceback (most recent call last)",
      "Cell \u001b[1;32mIn[5], line 11\u001b[0m\n\u001b[0;32m      9\u001b[0m \u001b[38;5;66;03m#숫자가 아닌 걸 입력하는 예외가 발생하면\u001b[39;00m\n\u001b[0;32m     10\u001b[0m \u001b[38;5;28mprint\u001b[39m(\u001b[38;5;124m'\u001b[39m\u001b[38;5;124m예외가 발생하는 경우\u001b[39m\u001b[38;5;124m'\u001b[39m)\n\u001b[1;32m---> 11\u001b[0m no2 \u001b[38;5;241m=\u001b[39m \u001b[38;5;28mint\u001b[39m(\u001b[38;5;28minput\u001b[39m(\u001b[38;5;124m'\u001b[39m\u001b[38;5;124m숫자 1개를 입력하세요:\u001b[39m\u001b[38;5;124m'\u001b[39m))\n",
      "\u001b[1;31mValueError\u001b[0m: invalid literal for int() with base 10: 'ㅁ'"
     ]
    }
   ],
   "source": [
    "#예외처리 예제 1\n",
    "\n",
    "#예외처리를 적용 안 한 경우\n",
    "print('정상적인 경우')\n",
    "no1 = int(input('숫자 1개를 입력하세요:'))\n",
    "print(no1)\n",
    "\n",
    "print('\\n')\n",
    "#숫자가 아닌 걸 입력하는 예외가 발생하면\n",
    "print('예외가 발생하는 경우')\n",
    "no2 = int(input('숫자 1개를 입력하세요:'))\n"
   ]
  },
  {
   "cell_type": "code",
   "execution_count": 7,
   "id": "d7e7f0f0",
   "metadata": {},
   "outputs": [
    {
     "name": "stdout",
     "output_type": "stream",
     "text": [
      "예외처리가 발생하는 경우\n"
     ]
    },
    {
     "name": "stdin",
     "output_type": "stream",
     "text": [
      "숫자 1개를 입력하세요: A\n"
     ]
    },
    {
     "name": "stdout",
     "output_type": "stream",
     "text": [
      "숫자를 입력하세요\n"
     ]
    }
   ],
   "source": [
    "#예외처리 예제 2\n",
    "#예외처리를 적용한 경우\n",
    "print('예외처리가 발생하는 경우')\n",
    "try :\n",
    "    no2=int(input('숫자 1개를 입력하세요:')) #위의 셀 결과에서 화살표시 당한 줄\n",
    "except ValueError :   #위의 셀 결과에서 뜬 벨류에러 표시\n",
    "    print('숫자를 입력하세요')"
   ]
  },
  {
   "cell_type": "code",
   "execution_count": 3,
   "id": "a1f0a447",
   "metadata": {},
   "outputs": [
    {
     "ename": "ZeroDivisionError",
     "evalue": "division by zero",
     "output_type": "error",
     "traceback": [
      "\u001b[1;31m---------------------------------------------------------------------------\u001b[0m",
      "\u001b[1;31mZeroDivisionError\u001b[0m                         Traceback (most recent call last)",
      "\u001b[1;32m~\\AppData\\Local\\Temp/ipykernel_7792/313535132.py\u001b[0m in \u001b[0;36m<module>\u001b[1;34m\u001b[0m\n\u001b[0;32m      2\u001b[0m \u001b[0mno1\u001b[0m \u001b[1;33m=\u001b[0m \u001b[1;36m10\u001b[0m\u001b[1;33m\u001b[0m\u001b[1;33m\u001b[0m\u001b[0m\n\u001b[0;32m      3\u001b[0m \u001b[0mno2\u001b[0m \u001b[1;33m=\u001b[0m \u001b[1;36m0\u001b[0m\u001b[1;33m\u001b[0m\u001b[1;33m\u001b[0m\u001b[0m\n\u001b[1;32m----> 4\u001b[1;33m \u001b[0mprint\u001b[0m\u001b[1;33m(\u001b[0m\u001b[0mno1\u001b[0m \u001b[1;33m/\u001b[0m \u001b[0mno2\u001b[0m\u001b[1;33m)\u001b[0m\u001b[1;33m\u001b[0m\u001b[1;33m\u001b[0m\u001b[0m\n\u001b[0m",
      "\u001b[1;31mZeroDivisionError\u001b[0m: division by zero"
     ]
    }
   ],
   "source": [
    "#예외처리 예제 3\n",
    "#예외의 종류: zero division error: 나누기 0을 했을 때 발생\n",
    "\n",
    "no1 = 10\n",
    "no2 = 0\n",
    "print(no1 / no2)"
   ]
  },
  {
   "cell_type": "code",
   "execution_count": 11,
   "id": "9d7414f9",
   "metadata": {},
   "outputs": [
    {
     "name": "stdout",
     "output_type": "stream",
     "text": [
      "0으로 나눌 수 없습니다\n"
     ]
    }
   ],
   "source": [
    "#햬결방법\n",
    "no1 = 10\n",
    "no2 = 0\n",
    "try :\n",
    "    print(no1 / no2)\n",
    "except ZeroDivisionError :\n",
    "    print('0으로 나눌 수 없습니다')"
   ]
  },
  {
   "cell_type": "code",
   "execution_count": 12,
   "id": "4e1a72ca",
   "metadata": {},
   "outputs": [
    {
     "name": "stdout",
     "output_type": "stream",
     "text": [
      "예외 상황이 발생했습니다\n"
     ]
    }
   ],
   "source": [
    "#예외처리 예제 4\n",
    "#에러가 여러개 날 것 같을 때는 except (valueerror, zerodivisionerror 이런 식으로 묶어서 사용함)\n",
    "no1 = 10\n",
    "no2 = 0\n",
    "try :\n",
    "    print(no1 / no2)\n",
    "except( ValueError , ZeroDivisionError) :\n",
    "    print('예외 상황이 발생했습니다')"
   ]
  },
  {
   "cell_type": "code",
   "execution_count": 6,
   "id": "5764961a",
   "metadata": {},
   "outputs": [
    {
     "name": "stdout",
     "output_type": "stream",
     "text": [
      "0으로 나눌 수 없습니다\n"
     ]
    }
   ],
   "source": [
    "#예외처리 예제 5\n",
    "#예외 종류에 따라서 대처방법을 다르게 출력\n",
    "#마치 if elif else하는 것처럼 try except else 이렇게 하는 거구나\n",
    "\n",
    "no1 = 10\n",
    "no2 = 0\n",
    "\n",
    "try :\n",
    "    print(no1 / no2)\n",
    "except ZeroDivisionError :\n",
    "    print('0으로 나눌 수 없습니다')\n",
    "except ValueError :\n",
    "    print('잘못된 값입니다')"
   ]
  },
  {
   "cell_type": "code",
   "execution_count": 13,
   "id": "8d07fcd7",
   "metadata": {},
   "outputs": [
    {
     "name": "stdout",
     "output_type": "stream",
     "text": [
      "예외가 발생했습니다\n"
     ]
    }
   ],
   "source": [
    "#예외처리 예제 6\n",
    "no1= 10\n",
    "no2 = 0\n",
    "\n",
    "try :\n",
    "    print(no1 / no2)\n",
    "except :  #except 뒤에 에러의 종류를 안 적어주면 '모든 에러'를 의미한다.\n",
    "    print('예외가 발생했습니다')"
   ]
  },
  {
   "cell_type": "code",
   "execution_count": 16,
   "id": "6f654908",
   "metadata": {},
   "outputs": [
    {
     "name": "stdin",
     "output_type": "stream",
     "text": [
      "숫자만 입력하세요: 2\n"
     ]
    },
    {
     "name": "stdout",
     "output_type": "stream",
     "text": [
      "입력하신 숫자는 2 입니다\n"
     ]
    }
   ],
   "source": [
    "#예외처리 예제 7 **************중요~\n",
    "#이번에는 예외가 발생 안 했을 때의 결과도 else로 불러옴\n",
    "try :\n",
    "    no=int(input('숫자만 입력하세요:'))\n",
    "except :\n",
    "    print('꼭 숫자만 입력하세요!!')\n",
    "else :\n",
    "    print('입력하신 숫자는 %s 입니다' %no)"
   ]
  },
  {
   "cell_type": "code",
   "execution_count": 20,
   "id": "ff86998f",
   "metadata": {},
   "outputs": [
    {
     "name": "stdin",
     "output_type": "stream",
     "text": [
      "숫자를 입력하세요 1\n"
     ]
    },
    {
     "name": "stdout",
     "output_type": "stream",
     "text": [
      "입력한 숫자는 1입니다\n",
      "finally는 무조건 실행됩니다\n"
     ]
    }
   ],
   "source": [
    "#예외처리 예제 - finally 사용하기\n",
    "#finally는 에러가 발생하든 안 하든 무조건 실행해야 하는 게 있을 때 쓰는 함수\n",
    "\n",
    "try :\n",
    "    num = int(input('숫자를 입력하세요'))\n",
    "except ValueError :\n",
    "    print('숫자가 아닙니다')\n",
    "else :\n",
    "    print('입력한 숫자는 %s입니다' %num)\n",
    "finally :\n",
    "    print('finally는 무조건 실행됩니다')"
   ]
  },
  {
   "cell_type": "code",
   "execution_count": 19,
   "id": "a15b5b76",
   "metadata": {},
   "outputs": [
    {
     "name": "stdin",
     "output_type": "stream",
     "text": [
      "숫자를 입력하세요: ㅁㅁ\n"
     ]
    },
    {
     "name": "stdout",
     "output_type": "stream",
     "text": [
      "숫자가 아닙니다\n",
      "finally는 무조건 실행됩니다\n"
     ]
    }
   ],
   "source": [
    "#예외처리 예제 - finally 사용하기\n",
    "try :\n",
    "    num = int(input('숫자를 입력하세요:'))\n",
    "except ValueError :\n",
    "    print('숫자가 아닙니다')\n",
    "else :\n",
    "    print('입력한 숫자는 %s입니다' %num)\n",
    "finally :\n",
    "    print('finally는 무조건 실행됩니다')"
   ]
  },
  {
   "cell_type": "code",
   "execution_count": 21,
   "id": "e68d68ae",
   "metadata": {},
   "outputs": [
    {
     "name": "stdin",
     "output_type": "stream",
     "text": [
      "숫자를 입력하세요: 3\n"
     ]
    },
    {
     "name": "stdout",
     "output_type": "stream",
     "text": [
      "0보다 큼\n"
     ]
    }
   ],
   "source": [
    "#예외처리 예제 - raise 로 직접 예외를 만들기\n",
    "\n",
    "#raise vlauerror (튜플)로 valuerror의 인자들을 '직접' 설정해줌\n",
    "#예외인자는 args속성에 저장됨.\n",
    "#그래서 valueerror.args[a,b]로 슬라이싱할 수 있다.\n",
    "\n",
    "try :\n",
    "    num = int(input('숫자를 입력하세요:'))\n",
    "    raise ValueError('0보다 작음','0임','0보다 큼')\n",
    "except ValueError as e :\n",
    "    if num < 0:\n",
    "        print(e.args[0])\n",
    "    elif num == 0 :\n",
    "        print(e.args[1])\n",
    "    else :\n",
    "        print(e.args[2])\n",
    "    "
   ]
  },
  {
   "cell_type": "code",
   "execution_count": 25,
   "id": "a5791554-3f22-408f-be1b-cdbc1ce9206a",
   "metadata": {},
   "outputs": [
    {
     "data": {
      "text/plain": [
       "['홍길동\\n', '일지매\\n', '전우치\\n', '강감찬\\n', '신사임당\\n']"
      ]
     },
     "execution_count": 25,
     "metadata": {},
     "output_type": "execute_result"
    }
   ],
   "source": [
    "f = open(\"c:\\\\temp\\\\예외처리연습.txt\")\n",
    "txt = f.readlines()\n",
    "txt"
   ]
  },
  {
   "cell_type": "code",
   "execution_count": 28,
   "id": "104b2832-f2d2-44a9-a5ee-5ab3e81e1ce0",
   "metadata": {},
   "outputs": [
    {
     "name": "stdin",
     "output_type": "stream",
     "text": [
      " 몇 건을 출력할까요?:  6\n"
     ]
    },
    {
     "name": "stdout",
     "output_type": "stream",
     "text": [
      "\n",
      "\n",
      "홍길동\n",
      "\n",
      "일지매\n",
      "\n",
      "전우치\n",
      "\n",
      "강감찬\n",
      "\n",
      "신사임당\n",
      "\n"
     ]
    },
    {
     "ename": "IndexError",
     "evalue": "list index out of range",
     "output_type": "error",
     "traceback": [
      "\u001b[1;31m---------------------------------------------------------------------------\u001b[0m",
      "\u001b[1;31mIndexError\u001b[0m                                Traceback (most recent call last)",
      "Cell \u001b[1;32mIn[28], line 9\u001b[0m\n\u001b[0;32m      6\u001b[0m \u001b[38;5;28mprint\u001b[39m(\u001b[38;5;124m\"\u001b[39m\u001b[38;5;130;01m\\n\u001b[39;00m\u001b[38;5;124m\"\u001b[39m)\n\u001b[0;32m      8\u001b[0m \u001b[38;5;28;01mfor\u001b[39;00m i \u001b[38;5;129;01min\u001b[39;00m \u001b[38;5;28mrange\u001b[39m(\u001b[38;5;241m0\u001b[39m,no) :\n\u001b[1;32m----> 9\u001b[0m    \u001b[38;5;28mprint\u001b[39m(txt[i])\n",
      "\u001b[1;31mIndexError\u001b[0m: list index out of range"
     ]
    }
   ],
   "source": [
    "f = open(\"c:\\\\temp\\\\예외처리연습.txt\")\n",
    "txt = f.readlines()\n",
    "txt\n",
    "\n",
    "no = int(input(\" 몇 건을 출력할까요?: \"))\n",
    "print(\"\\n\")\n",
    "\n",
    "for i in range(0,no) :\n",
    "   print(txt[i])\n",
    "\n",
    "#애초에 파일에 5명밖에 없어서 no로 6이상을 입력하면 에러가 발생함"
   ]
  },
  {
   "cell_type": "code",
   "execution_count": 29,
   "id": "2cae5bcb",
   "metadata": {},
   "outputs": [
    {
     "name": "stdin",
     "output_type": "stream",
     "text": [
      " 몇 건을 출력할까요?:  10\n"
     ]
    },
    {
     "name": "stdout",
     "output_type": "stream",
     "text": [
      "\n",
      "\n",
      "홍길동\n",
      "\n",
      "일지매\n",
      "\n",
      "전우치\n",
      "\n",
      "강감찬\n",
      "\n",
      "신사임당\n",
      "\n",
      "모든 행이 출력 완료되었습니다\n",
      "모든 행이 출력 완료되었습니다\n",
      "모든 행이 출력 완료되었습니다\n",
      "모든 행이 출력 완료되었습니다\n",
      "모든 행이 출력 완료되었습니다\n"
     ]
    }
   ],
   "source": [
    "#예외처리 예시 - 파일의 내용 출력\n",
    "\n",
    "f = open(\"c:\\\\temp\\\\예외처리연습.txt\")\n",
    "txt = f.readlines()\n",
    "txt\n",
    "\n",
    "no = int(input(\" 몇 건을 출력할까요?: \"))\n",
    "print(\"\\n\")\n",
    "\n",
    "for i in range(0,no) :\n",
    "    try :\n",
    "        print(txt[i]) \n",
    "    except IndexError :\n",
    "        print(\"모든 행이 출력 완료되었습니다\")\n",
    "     "
   ]
  },
  {
   "cell_type": "code",
   "execution_count": 33,
   "id": "1172dc4c-48a5-4fb1-8f4f-2bbae35bd9d7",
   "metadata": {},
   "outputs": [
    {
     "name": "stdin",
     "output_type": "stream",
     "text": [
      " 몇 건을 출력할까요?:  10\n"
     ]
    },
    {
     "name": "stdout",
     "output_type": "stream",
     "text": [
      "\n",
      "\n",
      "홍길동\n",
      "\n",
      "일지매\n",
      "\n",
      "전우치\n",
      "\n",
      "강감찬\n",
      "\n",
      "신사임당\n",
      "\n",
      "모든 행이 출력 완료되었습니다\n"
     ]
    }
   ],
   "source": [
    "#예외처리 예시 - 파일의 내용 출력\n",
    "\n",
    "f = open(\"c:\\\\temp\\\\예외처리연습.txt\")\n",
    "txt = f.readlines()\n",
    "txt\n",
    "\n",
    "no = int(input(\" 몇 건을 출력할까요?: \"))\n",
    "print(\"\\n\")\n",
    "\n",
    "for i in range(0,no) :\n",
    "    try :\n",
    "        print(txt[i]) \n",
    "    except IndexError :\n",
    "        print(\"모든 행이 출력 완료되었습니다\")\n",
    "        break  #프린트랑 같은 라인에 있어야 프린트를 하고서 브레이크한다는 의미가 된다."
   ]
  },
  {
   "cell_type": "code",
   "execution_count": 35,
   "id": "0d318f12",
   "metadata": {},
   "outputs": [
    {
     "ename": "TypeError",
     "evalue": "unsupported operand type(s) for +=: 'int' and 'str'",
     "output_type": "error",
     "traceback": [
      "\u001b[1;31m---------------------------------------------------------------------------\u001b[0m",
      "\u001b[1;31mTypeError\u001b[0m                                 Traceback (most recent call last)",
      "Cell \u001b[1;32mIn[35], line 11\u001b[0m\n\u001b[0;32m      9\u001b[0m data3 \u001b[38;5;241m=\u001b[39m \u001b[38;5;241m0\u001b[39m\n\u001b[0;32m     10\u001b[0m \u001b[38;5;28;01mfor\u001b[39;00m i \u001b[38;5;129;01min\u001b[39;00m data2 :\n\u001b[1;32m---> 11\u001b[0m     data3 \u001b[38;5;241m+\u001b[39m\u001b[38;5;241m=\u001b[39m i\n\u001b[0;32m     12\u001b[0m data3\n",
      "\u001b[1;31mTypeError\u001b[0m: unsupported operand type(s) for +=: 'int' and 'str'"
     ]
    }
   ],
   "source": [
    "# 예외처리 예시 - xlsx 파일의 내용 출력\n",
    "\n",
    "import pandas as pd \n",
    "\n",
    "data1 = pd.read_excel(\"c:\\\\temp\\\\score.xlsx\",sheet_name='Sheet1' )\n",
    "data2 = data1['score']\n",
    "data2\n",
    "\n",
    "data3 = 0\n",
    "for i in data2 :\n",
    "    data3 += i\n",
    "data3"
   ]
  },
  {
   "cell_type": "code",
   "execution_count": null,
   "id": "88277f6b",
   "metadata": {},
   "outputs": [],
   "source": [
    "data3=0\n",
    "for i in data2 :\n",
    "    try :\n",
    "        data3 += i \n",
    "    except TypeError :\n",
    "        continue\n",
    "        \n",
    "data3"
   ]
  }
 ],
 "metadata": {
  "kernelspec": {
   "display_name": "Python 3 (ipykernel)",
   "language": "python",
   "name": "python3"
  },
  "language_info": {
   "codemirror_mode": {
    "name": "ipython",
    "version": 3
   },
   "file_extension": ".py",
   "mimetype": "text/x-python",
   "name": "python",
   "nbconvert_exporter": "python",
   "pygments_lexer": "ipython3",
   "version": "3.11.7"
  }
 },
 "nbformat": 4,
 "nbformat_minor": 5
}
