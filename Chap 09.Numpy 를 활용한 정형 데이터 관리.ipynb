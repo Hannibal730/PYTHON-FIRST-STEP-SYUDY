{
 "cells": [
  {
   "cell_type": "code",
   "execution_count": null,
   "metadata": {},
   "outputs": [],
   "source": [
    "# array는 배열을 의미\n",
    "# 1차원 array는 벡터(세로방향), 2차원 array는 matrix, 3차원 array는 매트릭스를 위로 쌓은 큐브형태\n",
    "# numpy에게 데이터를 제공하려면 array 형태로써 제공해줘야 함.\n"
   ]
  },
  {
   "cell_type": "code",
   "execution_count": 1,
   "metadata": {},
   "outputs": [
    {
     "name": "stdout",
     "output_type": "stream",
     "text": [
      "[1 2 3 4 5]\n"
     ]
    },
    {
     "data": {
      "text/plain": [
       "(5,)"
      ]
     },
     "execution_count": 1,
     "metadata": {},
     "output_type": "execute_result"
    }
   ],
   "source": [
    "import numpy as np\n",
    "\n",
    "#numpy를 사용하기 위해 array 형태로 만들기\n",
    "data1 = [1,2,3,4,5] #이건 array가 아니라 리스트. 리스트 안에는 서로 다른 유형들이 들어갈 수 있다 (지금은 전부 int로써 같은 경우).\n",
    "# ****************하지만 array 안에는 같은 유형들만 들어가야 한다. 전부 숫자이거나, 전부 날짜이거나..\n",
    "array1 = np.array(data1) #데이터를 array로 바꾸는 함수. 어라 array 출력값에는 리스트의 출력값과 달리 컴마가 없네\n",
    "print(array1)\n",
    "\n",
    "# array 의 크기와 형태 확인\n",
    "array1.shape #.shape를 사용하면 출력값이 (a,b)형태이다. 이는 a행 b열의 array를 의미한다.\n",
    "# 만약 출력값이 (5,)라면 이는 1차원 array이자, 매트릭스가 아니라 5차원 벡터라는 의미이다."
   ]
  },
  {
   "cell_type": "code",
   "execution_count": 3,
   "metadata": {},
   "outputs": [
    {
     "name": "stdout",
     "output_type": "stream",
     "text": [
      "[1.  2.  3.  4.  5.5]\n"
     ]
    },
    {
     "data": {
      "text/plain": [
       "(5,)"
      ]
     },
     "execution_count": 3,
     "metadata": {},
     "output_type": "execute_result"
    }
   ],
   "source": [
    "#numpy를 사용하기 위해 array 형태로 만들기\n",
    "data2 = [1 , 2 , 3 , 4 , 5.5] #리스트 안에 서로 다른 유형이 들어간 경우.(int 4개와 float 1개)\n",
    "array2 = np.array(data2) #이럴 경우에 array처리해버리면 전부 float데이터로 바뀜 -> 데이터의 변질 ㅠㅠ\n",
    "print(array2)\n",
    "\n",
    "# array 의 크기와 형태 확인\n",
    "array2.shape"
   ]
  },
  {
   "cell_type": "code",
   "execution_count": 4,
   "metadata": {},
   "outputs": [
    {
     "name": "stdout",
     "output_type": "stream",
     "text": [
      "['1' '2' '3' '4' '새우깡']\n"
     ]
    },
    {
     "data": {
      "text/plain": [
       "(5,)"
      ]
     },
     "execution_count": 4,
     "metadata": {},
     "output_type": "execute_result"
    }
   ],
   "source": [
    "#numpy를 사용하기 위해 array 형태로 만들기\n",
    "data3 = [1 , 2 , 3 , 4 , '새우깡'] #새우깡이라는 str이 섞여있음\n",
    "array3 = np.array(data3) #이럴 경우에 array 처리해버리면 전부 str으로 변질됨 ㅠㅠ\n",
    "print(array3) #str 변질여부는 출력값을 보면 알 수 있음. 리스트 안의 int들이 출력값에선 전부 홑따옴표로 감싸져 있잖아.\n",
    "\n",
    "# array 의 크기와 형태 확인\n",
    "array3.shape"
   ]
  },
  {
   "cell_type": "code",
   "execution_count": 7,
   "metadata": {},
   "outputs": [
    {
     "name": "stdout",
     "output_type": "stream",
     "text": [
      "[1 2 3 4 5]\n"
     ]
    },
    {
     "data": {
      "text/plain": [
       "(5,)"
      ]
     },
     "execution_count": 7,
     "metadata": {},
     "output_type": "execute_result"
    }
   ],
   "source": [
    "#arrary() 함수안에 리스트 바로 사용하기\n",
    "#사실 이렇게 리스트 자체를 array에 넣는 건 안 함. 변수에 리스트틀 넣고, 어레이에 변수를 넣는 편이 리스트 수정에 더 쉽거든 ㅋ\n",
    "array4 = np.array( [1,2,3,4,5])\n",
    "print(array4)\n",
    "array4.shape"
   ]
  },
  {
   "cell_type": "code",
   "execution_count": 8,
   "metadata": {},
   "outputs": [
    {
     "name": "stdout",
     "output_type": "stream",
     "text": [
      "array1: int32\n",
      "array2: float64\n",
      "array3: <U11\n",
      "array4: int32\n"
     ]
    }
   ],
   "source": [
    "# 데이터 타입 확인하기\n",
    "# 하나의 array에 들어있으면 데이터 타입이 다 똑같으니까\n",
    "print('array1:',array1.dtype)\n",
    "print('array2:',array2.dtype)\n",
    "print('array3:',array3.dtype)\n",
    "print('array4:',array4.dtype)"
   ]
  },
  {
   "cell_type": "code",
   "execution_count": 48,
   "metadata": {
    "scrolled": true
   },
   "outputs": [
    {
     "name": "stdout",
     "output_type": "stream",
     "text": [
      "[[0. 0. 0. 0.]\n",
      " [0. 0. 0. 0.]\n",
      " [0. 0. 0. 0.]]\n"
     ]
    }
   ],
   "source": [
    "#0으로 구성된 N차원 배열 생성\n",
    "print(np.zeros((3,4)))"
   ]
  },
  {
   "cell_type": "code",
   "execution_count": 39,
   "metadata": {},
   "outputs": [
    {
     "name": "stdout",
     "output_type": "stream",
     "text": [
      "[[1 1 1 1]\n",
      " [1 1 1 1]\n",
      " [1 1 1 1]]\n"
     ]
    }
   ],
   "source": [
    "# 1 로 구성된 N차원 배열 생성\n",
    "print(np.ones((3,4), dtype=np.int16))"
   ]
  },
  {
   "cell_type": "code",
   "execution_count": 41,
   "metadata": {},
   "outputs": [
    {
     "name": "stdout",
     "output_type": "stream",
     "text": [
      "[10 15 20 25]\n",
      "[10 11 12 13 14]\n"
     ]
    }
   ],
   "source": [
    "#arange( )함수 - 특정 범위 내에서 N만큼 연속적으로 차이나는 배열 생성\n",
    "print(np.arange(10, 30, 5))\n",
    "print(np.arange(10, 15))"
   ]
  },
  {
   "cell_type": "code",
   "execution_count": 48,
   "metadata": {},
   "outputs": [
    {
     "name": "stdout",
     "output_type": "stream",
     "text": [
      "[ 0.  1.  2.  3.  4.  5.  6.  7.  8.  9. 10. 11. 12. 13. 14. 15. 16. 17.\n",
      " 18. 19. 20. 21. 22. 23. 24. 25. 26. 27. 28. 29. 30. 31. 32. 33. 34. 35.\n",
      " 36. 37. 38. 39. 40. 41. 42. 43. 44. 45. 46. 47. 48. 49. 50. 51. 52. 53.\n",
      " 54. 55. 56. 57. 58. 59. 60. 61. 62. 63. 64. 65. 66. 67. 68. 69. 70. 71.\n",
      " 72. 73. 74. 75. 76. 77. 78. 79. 80. 81. 82. 83. 84. 85. 86. 87. 88. 89.\n",
      " 90. 91. 92. 93. 94. 95. 96. 97. 98. 99.]\n",
      "[ 0. 33. 66. 99.]\n"
     ]
    }
   ],
   "source": [
    "#linespace( ) 함수 - 특정 범위 내에서 N등분하기\n",
    "x = np.linspace(0, 99, 100) # 0~99까지 100등분\n",
    "print(x)\n",
    "\n",
    "x1 = np.linspace(0, 99, 4) # 0~99까지 4등분\n",
    "print(x1)\n",
    "#위 셀에서 arrange범위는 range범위 때처럼 종료항을 포함 안 시켰음.\n",
    "#하지만 linespace에서는 종료항을 범위에 포함시키네."
   ]
  },
  {
   "cell_type": "code",
   "execution_count": 49,
   "metadata": {},
   "outputs": [
    {
     "name": "stdout",
     "output_type": "stream",
     "text": [
      "[[1 2 3]\n",
      " [3 4 5]\n",
      " [5 6 7]]\n"
     ]
    },
    {
     "data": {
      "text/plain": [
       "(3, 3)"
      ]
     },
     "execution_count": 49,
     "metadata": {},
     "output_type": "execute_result"
    }
   ],
   "source": [
    "\n",
    "#************* 2차원의 array 생성하기\n",
    "\n",
    "\n",
    "\n",
    "\n",
    "\n",
    "\n",
    "array5 = np.array( [ [1,2,3],[3,4,5],[5,6,7] ])\n",
    "#리스트 안에 [1,2,3],[3,4,5],[5,6,7] 세 가지가 들어있음.\n",
    "# 리스트 안에 리스트들을 넣으면 이렇게 되는구나\n",
    "print(array5)\n",
    "\n",
    "array5.shape"
   ]
  },
  {
   "cell_type": "code",
   "execution_count": 63,
   "metadata": {},
   "outputs": [
    {
     "name": "stdout",
     "output_type": "stream",
     "text": [
      "[ 0  1  2  3  4  5  6  7  8  9 10 11]\n",
      "[[ 0  1  2]\n",
      " [ 3  4  5]\n",
      " [ 6  7  8]\n",
      " [ 9 10 11]]\n"
     ]
    }
   ],
   "source": [
    "#reshape( ) 함수를 사용하여 array의 차원을 변경하기\n",
    "array_6=np.arange(12)\n",
    "print(array_6)\n",
    "\n",
    "#arange에서 시작점은 기본적으로 0, 인터벌은 기본적으로 1이다.\n",
    "array6=np.arange(12).reshape(4,3) \n",
    "print(array6)\n",
    "#애초에 n차원 어레이 출력형태가 []안에 행단위의[]들로 이뤄지구나"
   ]
  },
  {
   "cell_type": "code",
   "execution_count": 78,
   "metadata": {},
   "outputs": [
    {
     "name": "stdout",
     "output_type": "stream",
     "text": [
      "[[ 0  1  2  3  4  5]\n",
      " [ 6  7  8  9 10 11]]\n"
     ]
    }
   ],
   "source": [
    "#reshape( ) 함수를 사용하여 array의 차원을 변경하기\n",
    "array7=array6.reshape(2,6)\n",
    "print(array7)"
   ]
  },
  {
   "cell_type": "code",
   "execution_count": 64,
   "metadata": {},
   "outputs": [
    {
     "name": "stdout",
     "output_type": "stream",
     "text": [
      "[[ 0]\n",
      " [ 1]\n",
      " [ 2]\n",
      " [ 3]\n",
      " [ 4]\n",
      " [ 5]\n",
      " [ 6]\n",
      " [ 7]\n",
      " [ 8]\n",
      " [ 9]\n",
      " [10]\n",
      " [11]]\n",
      "[[ 0  1  2]\n",
      " [ 3  4  5]\n",
      " [ 6  7  8]\n",
      " [ 9 10 11]]\n"
     ]
    }
   ],
   "source": [
    "#reshape( ) 함수를 사용하여 array의 차원을 변경하기\n",
    "array_8=array6.reshape(-1,1)\n",
    "print(array_8)\n",
    "\n",
    "array8=array6.reshape(-11,3)\n",
    "print(array8)"
   ]
  },
  {
   "cell_type": "code",
   "execution_count": 56,
   "metadata": {},
   "outputs": [],
   "source": [
    "# 참고 : reshape( ) 함수는 원본 데이터를 복사하여 복사본의 형태를 바꾸고\n",
    "# resize( ) 함수는 원본의 데이터를 변경합니다."
   ]
  },
  {
   "cell_type": "code",
   "execution_count": 85,
   "metadata": {},
   "outputs": [
    {
     "name": "stdout",
     "output_type": "stream",
     "text": [
      "[[1 2]\n",
      " [3 4]]\n",
      "\n",
      "[1 2 3 4]\n",
      "\n",
      "[[5 6]\n",
      " [7 8]]\n",
      "\n",
      "-vstack: \n",
      " [[1 2]\n",
      " [3 4]\n",
      " [5 6]\n",
      " [7 8]]\n",
      "\n",
      "-hstack:\n",
      " [[1 2 5 6]\n",
      " [3 4 7 8]]\n"
     ]
    }
   ],
   "source": [
    "# 2차원 array끼리 합치기 - vstack( ) / hstack( )\n",
    "array1 = np.array([ [1,2],[3,4]])\n",
    "print(array1)\n",
    "# 리스트 안에 리스트들이 있는 꼴이니까 저렇게 나오구나\n",
    "\n",
    "print()\n",
    "\n",
    "array10 = np.array([ 1,2,3,4])\n",
    "print(array10)\n",
    "# 참고로 만약에 '리스트 안에 리스트들이 있는 것'이 아니라, 그냥 리스트만 있다면 이렇구나\n",
    "\n",
    "print()\n",
    "\n",
    "array2 = np.array([ [5,6],[7,8]])\n",
    "print(array2)\n",
    "\n",
    "print()\n",
    "\n",
    "#vstack( ) \n",
    "print('-vstack:','\\n',np.vstack((array1,array2)))\n",
    "\n",
    "print()\n",
    "\n",
    "#hstack( )\n",
    "print('-hstack:''\\n',np.hstack((array1,array2)))"
   ]
  },
  {
   "cell_type": "code",
   "execution_count": 84,
   "metadata": {},
   "outputs": [
    {
     "name": "stdout",
     "output_type": "stream",
     "text": [
      "['홍길동' '일지매' '전우치']\n",
      "['서울' '부산' '대전']\n",
      "\n",
      "[['홍길동' '서울']\n",
      " ['일지매' '부산']\n",
      " ['전우치' '대전']]\n"
     ]
    }
   ],
   "source": [
    "# 2개 이상의 리스트를 array 로 합치기\n",
    "# \"원하는 컬럼만 뽑아서 array를 만드는 게 column_stack\"이라고 강사가 설명함.\n",
    "# 왜 하필 이름이 '컬럼 스택'인지 이해하려 노력해본다면, 리스트에 array를 취해서 array로 변환을 하면 그건 그냥 1행인 array잖아.\n",
    "# 그 array를 하나의 칼럼으로써 옆으로 차곡차곡 쌓는 의미 아닐까?\n",
    "\n",
    "import numpy as np\n",
    "name = np.array(['홍길동','일지매','전우치'])\n",
    "# 그냥 리스트만 있는 거니까 저렇게.\n",
    "\n",
    "loc = np.array(['서울','부산','대전'])\n",
    "print(name)\n",
    "print(loc)\n",
    "print()\n",
    "\n",
    "all_data = np.column_stack( (name,loc))\n",
    "print(all_data)"
   ]
  },
  {
   "cell_type": "code",
   "execution_count": 58,
   "metadata": {},
   "outputs": [
    {
     "name": "stdout",
     "output_type": "stream",
     "text": [
      "[[1 2 3]\n",
      " [4 5 6]]\n",
      "\n",
      "\n",
      "[[10 20 30]\n",
      " [40 50 60]]\n"
     ]
    }
   ],
   "source": [
    "# array 산술연산하기\n",
    "# 예제 데이터 생성하기\n",
    "\n",
    "array1 = np.array( [ [1,2,3] , [4,5,6] ])\n",
    "print(array1)\n",
    "# 리스트 안에 리스트가 있는데 array를 거니까 어떻게 되겠어? 저렇게 되지.\n",
    "\n",
    "print(\"\\n\")\n",
    "\n",
    "array2 = np.array( [ [10,20,30] , [40,50,60] ])\n",
    "print(array2)"
   ]
  },
  {
   "cell_type": "code",
   "execution_count": 59,
   "metadata": {},
   "outputs": [
    {
     "data": {
      "text/plain": [
       "array([[11, 22, 33],\n",
       "       [44, 55, 66]])"
      ]
     },
     "execution_count": 59,
     "metadata": {},
     "output_type": "execute_result"
    }
   ],
   "source": [
    "# array 산술연산\n",
    "# 1. 덧셈\n",
    "\n",
    "array1 + array2"
   ]
  },
  {
   "cell_type": "code",
   "execution_count": 60,
   "metadata": {},
   "outputs": [
    {
     "data": {
      "text/plain": [
       "array([[ 9, 18, 27],\n",
       "       [36, 45, 54]])"
      ]
     },
     "execution_count": 60,
     "metadata": {},
     "output_type": "execute_result"
    }
   ],
   "source": [
    "# array 산술연산\n",
    "# 2. 뺄셈\n",
    "\n",
    "array2 - array1"
   ]
  },
  {
   "cell_type": "code",
   "execution_count": 61,
   "metadata": {},
   "outputs": [
    {
     "data": {
      "text/plain": [
       "array([[ 10,  40,  90],\n",
       "       [160, 250, 360]])"
      ]
     },
     "execution_count": 61,
     "metadata": {},
     "output_type": "execute_result"
    }
   ],
   "source": [
    "# array 산술연산\n",
    "# 3. 각 원소끼리 곱셈\n",
    "\n",
    "array1 * array2"
   ]
  },
  {
   "cell_type": "code",
   "execution_count": 64,
   "metadata": {},
   "outputs": [
    {
     "data": {
      "text/plain": [
       "array([[10., 10., 10.],\n",
       "       [10., 10., 10.]])"
      ]
     },
     "execution_count": 64,
     "metadata": {},
     "output_type": "execute_result"
    }
   ],
   "source": [
    "# array 산술연산\n",
    "# 4. 나눗셈\n",
    "\n",
    "array2 / array1"
   ]
  },
  {
   "cell_type": "code",
   "execution_count": 131,
   "metadata": {},
   "outputs": [
    {
     "name": "stdout",
     "output_type": "stream",
     "text": [
      "[[2]\n",
      " [3]\n",
      " [4]\n",
      " [5]]\n",
      "\n",
      "\n",
      "[[8 5 4]]\n",
      "\n",
      "\n",
      "[[10  7  6]\n",
      " [11  8  7]\n",
      " [12  9  8]\n",
      " [13 10  9]]\n"
     ]
    }
   ],
   "source": [
    "a = np.array([2,3,4,5])\n",
    "b = np.array([8,5,4])\n",
    "ax,bx = np.ix_(a,b)\n",
    "\n",
    "print(ax)\n",
    "print('\\n')\n",
    "print(bx)\n",
    "print('\\n')\n",
    "print(ax+bx)"
   ]
  },
  {
   "cell_type": "code",
   "execution_count": 136,
   "metadata": {},
   "outputs": [
    {
     "name": "stdout",
     "output_type": "stream",
     "text": [
      "[[[2]]\n",
      "\n",
      " [[3]]\n",
      "\n",
      " [[4]]\n",
      "\n",
      " [[5]]]\n",
      "\n",
      "\n",
      "[[[8]\n",
      "  [5]\n",
      "  [4]]]\n",
      "\n",
      "\n",
      "[[[5 4 6 8 3]]]\n",
      "\n",
      "\n",
      "[[[10]\n",
      "  [ 7]\n",
      "  [ 6]]\n",
      "\n",
      " [[11]\n",
      "  [ 8]\n",
      "  [ 7]]\n",
      "\n",
      " [[12]\n",
      "  [ 9]\n",
      "  [ 8]]\n",
      "\n",
      " [[13]\n",
      "  [10]\n",
      "  [ 9]]]\n",
      "\n",
      "\n",
      "[[[15 14 16 18 13]\n",
      "  [12 11 13 15 10]\n",
      "  [11 10 12 14  9]]\n",
      "\n",
      " [[16 15 17 19 14]\n",
      "  [13 12 14 16 11]\n",
      "  [12 11 13 15 10]]\n",
      "\n",
      " [[17 16 18 20 15]\n",
      "  [14 13 15 17 12]\n",
      "  [13 12 14 16 11]]\n",
      "\n",
      " [[18 17 19 21 16]\n",
      "  [15 14 16 18 13]\n",
      "  [14 13 15 17 12]]]\n"
     ]
    }
   ],
   "source": [
    "a = np.array([2,3,4,5])\n",
    "b = np.array([8,5,4])\n",
    "c = np.array([5,4,6,8,3])\n",
    "ax,bx,cx = np.ix_(a,b,c)\n",
    "\n",
    "print(ax)\n",
    "print('\\n')\n",
    "print(bx)\n",
    "print('\\n')\n",
    "print(cx)\n",
    "print('\\n')\n",
    "print(ax+bx)\n",
    "print('\\n')\n",
    "print(ax+bx+cx)"
   ]
  },
  {
   "cell_type": "code",
   "execution_count": 95,
   "metadata": {},
   "outputs": [
    {
     "name": "stdout",
     "output_type": "stream",
     "text": [
      "전체값: [1 2 3 4 5]\n",
      "1번째값: 1\n",
      "3번째값: 3\n",
      "2-4번째값: [2 3 4]\n"
     ]
    }
   ],
   "source": [
    "# array 데이터 조회하기\n",
    "# 1차원 array 조회하기\n",
    "# range[1:]라면 \n",
    "array1 = np.array([1,2,3,4,5])\n",
    "print('전체값:' , array1)\n",
    "print('1번째값:' , array1[0])\n",
    "print('3번째값:' , array1[2])\n",
    "print('2-4번째값:',array1[1:4])\n",
    "print(arange[1:3])"
   ]
  },
  {
   "cell_type": "code",
   "execution_count": 102,
   "metadata": {},
   "outputs": [
    {
     "name": "stdout",
     "output_type": "stream",
     "text": [
      "[[1 2 3]\n",
      " [4 5 6]\n",
      " [7 8 9]]\n",
      "\n",
      "\n",
      "9\n"
     ]
    }
   ],
   "source": [
    "# array 데이터 조회하기\n",
    "# 2차원 array 조회하기\n",
    "array2 = np.array([ [1,2,3],[4,5,6],[7,8,9] ])\n",
    "print(array2)\n",
    "print('\\n')\n",
    "print(array2[2,2])\n",
    "# 파이썬은 0행,0열부터 시작하니까 2행2열이 9임"
   ]
  },
  {
   "cell_type": "code",
   "execution_count": 104,
   "metadata": {},
   "outputs": [
    {
     "data": {
      "text/plain": [
       "array([[-0.72022259,  0.75590735, -0.52651463],\n",
       "       [ 1.06094715, -0.05767979, -0.25960975],\n",
       "       [-0.95329273,  0.48886513, -1.79968903]])"
      ]
     },
     "execution_count": 104,
     "metadata": {},
     "output_type": "execute_result"
    }
   ],
   "source": [
    "#numpy의 주요 분석 함수들\n",
    "\n",
    "\n",
    "# 예제 데이터 만들기\n",
    "array1 = np.random.randn(3,3) #정규분포를 따른 난수를 3*3행렬로 생성하는 함수\n",
    "array1"
   ]
  },
  {
   "cell_type": "code",
   "execution_count": 112,
   "metadata": {},
   "outputs": [
    {
     "data": {
      "text/plain": [
       "array([[0.72022259, 0.75590735, 0.52651463],\n",
       "       [1.06094715, 0.05767979, 0.25960975],\n",
       "       [0.95329273, 0.48886513, 1.79968903]])"
      ]
     },
     "execution_count": 112,
     "metadata": {},
     "output_type": "execute_result"
    }
   ],
   "source": [
    "import numpy as np\n",
    "\n",
    "# abs( ) 함수 - 절대값 계산하기\n",
    "np.abs(array1)"
   ]
  },
  {
   "cell_type": "code",
   "execution_count": 71,
   "metadata": {},
   "outputs": [
    {
     "data": {
      "text/plain": [
       "array([[2.14236551e-03, 2.73109708e+00, 6.24562871e-01],\n",
       "       [3.44608981e+00, 7.35511937e-01, 8.33847664e-01],\n",
       "       [5.04785771e-01, 3.21139495e-01, 1.22690205e+00]])"
      ]
     },
     "execution_count": 71,
     "metadata": {},
     "output_type": "execute_result"
    }
   ],
   "source": [
    "# square( ) 함수 - 제곱값 계산하기\n",
    "np.square(array1)"
   ]
  },
  {
   "cell_type": "code",
   "execution_count": 72,
   "metadata": {},
   "outputs": [
    {
     "data": {
      "text/plain": [
       "array([[ 1.,  2.,  1.],\n",
       "       [ 2., -0.,  1.],\n",
       "       [ 1.,  1.,  2.]])"
      ]
     },
     "execution_count": 72,
     "metadata": {},
     "output_type": "execute_result"
    }
   ],
   "source": [
    "# ceil( ) 함수 - 주어진 값보다 큰 가장 가까운 정수 찾기\n",
    "np.ceil(array1)"
   ]
  },
  {
   "cell_type": "code",
   "execution_count": 73,
   "metadata": {},
   "outputs": [
    {
     "data": {
      "text/plain": [
       "array([[ 0.,  1.,  0.],\n",
       "       [ 1., -1.,  0.],\n",
       "       [ 0.,  0.,  1.]])"
      ]
     },
     "execution_count": 73,
     "metadata": {},
     "output_type": "execute_result"
    }
   ],
   "source": [
    "# floor( ) 함수 - 주어진 값보다 작은 가장 가까운 정수 찾기\n",
    "np.floor(array1)"
   ]
  },
  {
   "cell_type": "code",
   "execution_count": 113,
   "metadata": {},
   "outputs": [
    {
     "name": "stdout",
     "output_type": "stream",
     "text": [
      "[1 3 5 7 9]\n"
     ]
    },
    {
     "data": {
      "text/plain": [
       "25"
      ]
     },
     "execution_count": 113,
     "metadata": {},
     "output_type": "execute_result"
    }
   ],
   "source": [
    "#sum( ) 함수 - 합계 구하기\n",
    "sum_ex = np.array([1,3,5,7,9])\n",
    "print(sum_ex)\n",
    "np.sum(sum_ex)"
   ]
  },
  {
   "cell_type": "code",
   "execution_count": 114,
   "metadata": {},
   "outputs": [
    {
     "data": {
      "text/plain": [
       "array([ 1,  4,  9, 16, 25])"
      ]
     },
     "execution_count": 114,
     "metadata": {},
     "output_type": "execute_result"
    }
   ],
   "source": [
    "#cumsum( ) 함수 - 누적합계 구하기\n",
    "np.cumsum(sum_ex)"
   ]
  },
  {
   "cell_type": "code",
   "execution_count": 115,
   "metadata": {},
   "outputs": [
    {
     "name": "stdout",
     "output_type": "stream",
     "text": [
      "[[-0.72022259  0.75590735 -0.52651463]\n",
      " [ 1.06094715 -0.05767979 -0.25960975]\n",
      " [-0.95329273  0.48886513 -1.79968903]]\n"
     ]
    },
    {
     "data": {
      "text/plain": [
       "array([[False, False, False],\n",
       "       [False, False, False],\n",
       "       [False, False, False]])"
      ]
     },
     "execution_count": 115,
     "metadata": {},
     "output_type": "execute_result"
    }
   ],
   "source": [
    "# isnan( ) 함수 - 주어진 값의 NaN 여부를 찾는 함수\n",
    "# 여기서 NaN이란 Not a Number라는 뜻으로, \n",
    "print(array1)\n",
    "np.isnan(array1)"
   ]
  },
  {
   "cell_type": "code",
   "execution_count": 77,
   "metadata": {},
   "outputs": [
    {
     "data": {
      "text/plain": [
       "array([[False, False, False],\n",
       "       [False, False, False],\n",
       "       [False, False, False]])"
      ]
     },
     "execution_count": 77,
     "metadata": {},
     "output_type": "execute_result"
    }
   ],
   "source": [
    "#isinf( ) 함수 - 주어진 값의 무한대 여부를 찾는 함수\n",
    "np.isinf(array1)"
   ]
  },
  {
   "cell_type": "code",
   "execution_count": null,
   "metadata": {},
   "outputs": [],
   "source": []
  }
 ],
 "metadata": {
  "kernelspec": {
   "display_name": "Python 3 (ipykernel)",
   "language": "python",
   "name": "python3"
  },
  "language_info": {
   "codemirror_mode": {
    "name": "ipython",
    "version": 3
   },
   "file_extension": ".py",
   "mimetype": "text/x-python",
   "name": "python",
   "nbconvert_exporter": "python",
   "pygments_lexer": "ipython3",
   "version": "3.11.7"
  }
 },
 "nbformat": 4,
 "nbformat_minor": 4
}
