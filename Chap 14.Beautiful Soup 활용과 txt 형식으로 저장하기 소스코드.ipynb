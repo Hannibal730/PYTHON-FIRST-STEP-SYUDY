{
 "cells": [
  {
   "cell_type": "code",
   "execution_count": 12,
   "metadata": {},
   "outputs": [
    {
     "name": "stdout",
     "output_type": "stream",
     "text": [
      "<title> HTML 연습 </title>\n",
      "<p align=\"center\"> text 1 </p>\n"
     ]
    }
   ],
   "source": [
    "#Beautiful Soup 예제 1\n",
    "from bs4 import BeautifulSoup\n",
    "ex1 = '''\n",
    "<html>\n",
    "    <head>\n",
    "        <title> HTML 연습 </title>\n",
    "    </head>\n",
    "    <body>\n",
    "        <p align=\"center\"> text 1 </p>\n",
    "        <img src=\"c:\\\\temp\\\\image\\\\솔개.png\">\n",
    "    </body>\n",
    "<html> '''\n",
    "\n",
    "soup = BeautifulSoup(ex1, 'html.parser')\n",
    "print( soup.find('title') )\n",
    "print( soup.find('p') )"
   ]
  },
  {
   "cell_type": "code",
   "execution_count": 14,
   "metadata": {},
   "outputs": [
    {
     "name": "stdout",
     "output_type": "stream",
     "text": [
      "<p align=\"center\"> text 1 </p>\n",
      "<p align=\"right\"> text 2 </p>\n"
     ]
    }
   ],
   "source": [
    "#Beautiful Soup 예제 2\n",
    "from bs4 import BeautifulSoup\n",
    "ex1 = '''\n",
    "<html>\n",
    "    <head>\n",
    "        <title> HTML 연습 </title>\n",
    "    </head>\n",
    "    <body>\n",
    "        <p align=\"center\"> text 1 </p>\n",
    "        <p align=\"right\"> text 2 </p>\n",
    "        <p align=\"left\"> text 3 </p>\n",
    "        <img src=\"c:\\\\temp\\\\image\\\\솔개.png\">\n",
    "    </body>\n",
    "<html> '''\n",
    "\n",
    "soup = BeautifulSoup(ex1, 'html.parser')\n",
    "print( soup.find('p') )\n",
    "print( soup.find('p',align=\"right\") )"
   ]
  },
  {
   "cell_type": "code",
   "execution_count": 16,
   "metadata": {},
   "outputs": [
    {
     "name": "stdout",
     "output_type": "stream",
     "text": [
      "<p align=\"center\"> text 1 </p>\n"
     ]
    }
   ],
   "source": [
    "#Beautiful Soup 예제 3\n",
    "from bs4 import BeautifulSoup\n",
    "ex1 = '''\n",
    "<html>\n",
    "    <head>\n",
    "        <title> HTML 연습 </title>\n",
    "    </head>\n",
    "    <body>\n",
    "        <p align=\"center\"> text 1 </p>\n",
    "        <p align=\"center\"> text 2 </p>\n",
    "        <p align=\"center\"> text 3 </p>\n",
    "        <img src=\"c:\\\\temp\\\\image\\\\솔개.png\">\n",
    "    </body>\n",
    "<html> '''\n",
    "\n",
    "soup = BeautifulSoup(ex1, 'html.parser')\n",
    "print( soup.find('p') )"
   ]
  },
  {
   "cell_type": "code",
   "execution_count": 19,
   "metadata": {},
   "outputs": [
    {
     "name": "stdout",
     "output_type": "stream",
     "text": [
      "[<p align=\"center\"> text 1 </p>, <p align=\"center\"> text 2 </p>, <p align=\"center\"> text 3 </p>]\n",
      "<p align=\"center\"> text 1 </p>\n",
      "<p align=\"center\"> text 2 </p>\n",
      "<p align=\"center\"> text 3 </p>\n"
     ]
    }
   ],
   "source": [
    "print( soup.find_all('p') )\n",
    "print( soup.find_all('p')[0] )\n",
    "print( soup.find_all('p')[1] )\n",
    "print( soup.find_all('p')[2] )"
   ]
  },
  {
   "cell_type": "code",
   "execution_count": 30,
   "metadata": {},
   "outputs": [],
   "source": [
    "#select( ) 함수 사용하기\n",
    "# 연습용 html 만들기\n",
    "ex2='''\n",
    "<html>\n",
    "    <head>\n",
    "        <h1> 사야할 과일\n",
    "    </head>\n",
    "    <body>\n",
    "        <h1> 시장가서 사야할 과일 목록\n",
    "            <div><p id='fruit1' class='name1' title='바나나'> 바나나\n",
    "                <span class='price'> 3000원 </span>\n",
    "                <span class='count'> 10개 </span>\n",
    "                <span class='store'> 바나나가게 </span>\n",
    "                <a href='https://www.banana.com'> banana.com </a>\n",
    "                </p>\n",
    "            </div>\n",
    "             <div><p id='fruit2' class='name2' title='체리'> 체리\n",
    "                <span class='price'> 100원 </span>\n",
    "                <span class='count'> 50개 </span>\n",
    "                <span class='store'> 체리가게 </span>\n",
    "                <a href='https://www.cherry.com'> cherry.com </a>\n",
    "                </p>\n",
    "            </div>\n",
    "             <div><p id='fruit3' class='name3' title='오렌지'> 오렌지\n",
    "                <span class='price'> 500원 </span>\n",
    "                <span class='count'> 20개 </span>\n",
    "                <span class='store'> 오렌지가게 </span>\n",
    "                <a href='https://www.orange.com'> banana.com </a>\n",
    "                </p>\n",
    "            </div>\n",
    "        </body>\n",
    "    </html> '''           "
   ]
  },
  {
   "cell_type": "code",
   "execution_count": 31,
   "metadata": {},
   "outputs": [
    {
     "data": {
      "text/plain": [
       "[<p class=\"name1\" id=\"fruit1\" title=\"바나나\"> 바나나\n",
       "                 <span class=\"price\"> 3000원 </span>\n",
       " <span class=\"count\"> 10개 </span>\n",
       " <span class=\"store\"> 바나나가게 </span>\n",
       " <a href=\"https://www.banana.com\"> banana.com </a>\n",
       " </p>,\n",
       " <p class=\"name2\" id=\"fruit2\" title=\"체리\"> 체리\n",
       "                 <span class=\"price\"> 100원 </span>\n",
       " <span class=\"count\"> 50개 </span>\n",
       " <span class=\"store\"> 체리가게 </span>\n",
       " <a href=\"https://www.cherry.com\"> cherry.com </a>\n",
       " </p>,\n",
       " <p class=\"name3\" id=\"fruit3\" title=\"오렌지\"> 오렌지\n",
       "                 <span class=\"price\"> 500원 </span>\n",
       " <span class=\"count\"> 20개 </span>\n",
       " <span class=\"store\"> 오렌지가게 </span>\n",
       " <a href=\"https://www.orange.com\"> banana.com </a>\n",
       " </p>]"
      ]
     },
     "execution_count": 31,
     "metadata": {},
     "output_type": "execute_result"
    }
   ],
   "source": [
    "# select('태그이름')\n",
    "soup2 = BeautifulSoup(ex2 , 'html.parser')\n",
    "\n",
    "soup2.select('p')"
   ]
  },
  {
   "cell_type": "code",
   "execution_count": 23,
   "metadata": {},
   "outputs": [
    {
     "data": {
      "text/plain": [
       "[<p class=\"name1\" id=\"fruit1\" title=\"바나나\"> 바나나\n",
       "                 <span class=\"price\"> 3000원 </span>\n",
       " <span class=\"count\"> 10개 </span>\n",
       " <span class=\"\" store'=\"\"> 바나나가게 </span>\n",
       " <a href=\"https://www.banana.com\"> banana.com </a>\n",
       " </p>]"
      ]
     },
     "execution_count": 23,
     "metadata": {},
     "output_type": "execute_result"
    }
   ],
   "source": [
    "#select(''.클래스이름')\n",
    "soup2.select(' .name1 ')"
   ]
  },
  {
   "cell_type": "code",
   "execution_count": 24,
   "metadata": {},
   "outputs": [
    {
     "data": {
      "text/plain": [
       "[<span class=\"price\"> 3000원 </span>,\n",
       " <span class=\"count\"> 10개 </span>,\n",
       " <span class=\"\" store'=\"\"> 바나나가게 </span>,\n",
       " <span class=\"price\"> 100원 </span>,\n",
       " <span class=\"count\"> 50개 </span>,\n",
       " <span class=\"\" store'=\"\"> 체리가게 </span>,\n",
       " <span class=\"price\"> 500원 </span>,\n",
       " <span class=\"count\"> 20개 </span>,\n",
       " <span class=\"\" store'=\"\"> 오렌지가게 </span>]"
      ]
     },
     "execution_count": 24,
     "metadata": {},
     "output_type": "execute_result"
    }
   ],
   "source": [
    "#select(‘ 상위태그 > 하위태그 > 하위태그‘ )\n",
    "soup2.select(' div > p > span')"
   ]
  },
  {
   "cell_type": "code",
   "execution_count": 25,
   "metadata": {},
   "outputs": [
    {
     "data": {
      "text/plain": [
       "<span class=\"price\"> 3000원 </span>"
      ]
     },
     "execution_count": 25,
     "metadata": {},
     "output_type": "execute_result"
    }
   ],
   "source": [
    "#select(‘ 상위태그 > 하위태그 > 하위태그‘ )\n",
    "soup2.select(' div > p > span')[0]"
   ]
  },
  {
   "cell_type": "code",
   "execution_count": 26,
   "metadata": {},
   "outputs": [
    {
     "data": {
      "text/plain": [
       "<span class=\"count\"> 10개 </span>"
      ]
     },
     "execution_count": 26,
     "metadata": {},
     "output_type": "execute_result"
    }
   ],
   "source": [
    "#select(‘ 상위태그 > 하위태그 > 하위태그‘ )\n",
    "soup2.select(' div > p > span')[1]"
   ]
  },
  {
   "cell_type": "code",
   "execution_count": 27,
   "metadata": {},
   "outputs": [
    {
     "data": {
      "text/plain": [
       "<span class=\"\" store'=\"\"> 바나나가게 </span>"
      ]
     },
     "execution_count": 27,
     "metadata": {},
     "output_type": "execute_result"
    }
   ],
   "source": [
    "#select(‘ 상위태그 > 하위태그 > 하위태그‘ )\n",
    "soup2.select(' div > p > span')[2]"
   ]
  },
  {
   "cell_type": "code",
   "execution_count": 32,
   "metadata": {},
   "outputs": [
    {
     "data": {
      "text/plain": [
       "[<span class=\"store\"> 바나나가게 </span>]"
      ]
     },
     "execution_count": 32,
     "metadata": {},
     "output_type": "execute_result"
    }
   ],
   "source": [
    "# select(‘상위태그.클래스이름 > 하위태그.클래스이름’)\n",
    "soup2.select(' p.name1 > span.store ')"
   ]
  },
  {
   "cell_type": "code",
   "execution_count": 34,
   "metadata": {},
   "outputs": [
    {
     "data": {
      "text/plain": [
       "[<p class=\"name1\" id=\"fruit1\" title=\"바나나\"> 바나나\n",
       "                 <span class=\"price\"> 3000원 </span>\n",
       " <span class=\"count\"> 10개 </span>\n",
       " <span class=\"store\"> 바나나가게 </span>\n",
       " <a href=\"https://www.banana.com\"> banana.com </a>\n",
       " </p>]"
      ]
     },
     "execution_count": 34,
     "metadata": {},
     "output_type": "execute_result"
    }
   ],
   "source": [
    "# select(‘#아이디명”)\n",
    "soup2.select(' #fruit1')"
   ]
  },
  {
   "cell_type": "code",
   "execution_count": 37,
   "metadata": {},
   "outputs": [
    {
     "data": {
      "text/plain": [
       "[<span class=\"store\"> 바나나가게 </span>]"
      ]
     },
     "execution_count": 37,
     "metadata": {},
     "output_type": "execute_result"
    }
   ],
   "source": [
    "# select(‘#아이디명 > 태그명.클래스명)\n",
    "soup2.select(' #fruit1 > span.store')"
   ]
  },
  {
   "cell_type": "code",
   "execution_count": 38,
   "metadata": {},
   "outputs": [
    {
     "data": {
      "text/plain": [
       "[<a href=\"https://www.banana.com\"> banana.com </a>,\n",
       " <a href=\"https://www.cherry.com\"> cherry.com </a>,\n",
       " <a href=\"https://www.orange.com\"> banana.com </a>]"
      ]
     },
     "execution_count": 38,
     "metadata": {},
     "output_type": "execute_result"
    }
   ],
   "source": [
    "# select(‘태그명[속성1=값1]’)\n",
    "soup2.select('a[href]')"
   ]
  },
  {
   "cell_type": "code",
   "execution_count": 39,
   "metadata": {},
   "outputs": [
    {
     "data": {
      "text/plain": [
       "<a href=\"https://www.banana.com\"> banana.com </a>"
      ]
     },
     "execution_count": 39,
     "metadata": {},
     "output_type": "execute_result"
    }
   ],
   "source": [
    "# select(‘태그명[속성1=값1]’)\n",
    "soup2.select('a[href]')[0]"
   ]
  },
  {
   "cell_type": "code",
   "execution_count": 44,
   "metadata": {},
   "outputs": [
    {
     "name": "stdout",
     "output_type": "stream",
     "text": [
      " 바나나                 3000원  10개  바나나가게  banana.com \n",
      " 체리                 100원  50개  체리가게  cherry.com \n",
      " 오렌지                 500원  20개  오렌지가게  banana.com \n"
     ]
    }
   ],
   "source": [
    "# 태그 뒤의 텍스트만 추출하기 \n",
    "txt3 = soup2.find_all('p')\n",
    "for i in txt3 :\n",
    "    print(i.get_text().replace('\\n','') )"
   ]
  },
  {
   "cell_type": "code",
   "execution_count": null,
   "metadata": {},
   "outputs": [],
   "source": []
  },
  {
   "cell_type": "code",
   "execution_count": 1,
   "metadata": {},
   "outputs": [
    {
     "name": "stdout",
     "output_type": "stream",
     "text": [
      "====================================================================================================\n",
      " 이 크롤러는 RISS 사이트의 논문 및 학술자료 수집용 웹크롤러입니다.\n",
      "====================================================================================================\n",
      "1.수집할 자료의 키워드는 무엇입니까?(여러개일 경우 , 로 구분하여 입력): 관광\n",
      "\n",
      "\n"
     ]
    }
   ],
   "source": [
    "# 수집된 내용을 txt 형식의 파일로 저장하기\n",
    "\n",
    "#Step 1. 필요한 모듈을 로딩합니다\n",
    "from selenium import webdriver\n",
    "import time          \n",
    "\n",
    "#Step 2. 사용자에게 검색 관련 정보들을 입력 받습니다.\n",
    "print(\"=\" *100)\n",
    "print(\" 이 크롤러는 RISS 사이트의 논문 및 학술자료 수집용 웹크롤러입니다.\")\n",
    "print(\"=\" *100)\n",
    "query_txt = input('1.수집할 자료의 키워드는 무엇입니까?(여러개일 경우 , 로 구분하여 입력): ')\n",
    "print(\"\\n\")\n",
    "\n",
    "#Step 3. 크롬 드라이버 설정 및 웹 페이지 열기\n",
    "chrome_path = \"c:/temp/chromedriver_94/chromedriver.exe\"\n",
    "driver = webdriver.Chrome(chrome_path)\n",
    "\n",
    "url = 'http://www.riss.kr/'\n",
    "driver.get(url)\n",
    "time.sleep(2)\n",
    "\n",
    "#Step 4. 자동으로 검색어 입력 후 조회하기\n",
    "element = driver.find_element_by_id(\"query\")\n",
    "driver.find_element_by_id(\"query\").click( )\n",
    "element.send_keys(query_txt)\n",
    "element.send_keys(\"\\n\")\n",
    "time.sleep(2)"
   ]
  },
  {
   "cell_type": "code",
   "execution_count": 2,
   "metadata": {},
   "outputs": [
    {
     "name": "stdout",
     "output_type": "stream",
     "text": [
      "1   중국 소수민족지역 관광발전에대한 연구 : 운남성 시쌍판납의 다이족 멍한진 사례를 중심으로  유창 전북대학교 대학원 2011 국내석사  RANK : 27772927    원문보기 목차검색조회  음성듣기             本&#35770;文主要以&#24403;地居民的&#35270;角,&#35843;&#26597;中&#22269;少&#25968;民族地&#21306;的旅游&#21457;展,&#23545;&#24403;地居民的影&#21709;。以中&#22269;西&#21452;版&#32435;&#20643;族人聚集地&#21200;罕&#38215;&#20643;族&#22253;&#20026;&#23454;地考察&#23545;象&#36827;行人&#31867;&#23398;&#30740;究。\r",
      "以政府的立&#22330;來看,&#20643;族的旅游發展促&#36827;了地&#21306;居民&#21442;&#19982;旅游業發展建設的&#31215;&#26497;性。政府的&#31215;&#26497;扶植政策、大&#35268;模的&#36164;本投入和地&#21306;居民的自&#21457;性&#21442;&#19982;,都促進了&#24403;地的旅游業&#21457;展。&#36825;&#19982;中&#22269;&#23398;者&#20204;倡&#23548;的少&#25968;民族地&#21306;旅游&#21457;展的成功因素相符合。\r",
      "但是經筆者&#35843;&#26597;&#21457;&#29616;,地&#21306;居民&#21442;&#19982;旅游活動的&#26102;候,在利益和&#26435;力劃分的&#38382;&#39064;上,本地居民被明&#26174;排斥在外。比如,&#20643;族&#22253;公司&#24182;&#27809;有&#23558;入&#22330;&#36153;的10%收益按照原定&#35745;&#21010;分配&#32473;各&#20010;村民;而因&#20026;土地租金而&#20135;生的&#32416;&#32439;也&#26102;常&#21457;生;該公司的管理&#23618;基本都是&#27721;族人,&#20643;族本地居民的&#32844;務相&#23545;&#36739;低。這些現象都是政府、企業&#36807;于注重發展自身利益而忽視原住民的權益而&#29986;生的結果。筆者認&#28858;,這些現象的存在會給當地經濟基礎建設和旅遊業發展的發展進程帶來阻力。\r",
      "旅游&#21457;展&#23545;社&#20250;&#32463;&#27982;發展作用巨大。首先,村民的生活來源方向&#21457;生了巨大&#21464;化。由原&#26469;的&#20892;耕社&#21306;&#21464;&#20026;旅游&#32988;地,&#24182;且因&#20026;旅游的收入&#36828;&#36828;高于&#20892;&#19994;收入,大部分村民都放&#24323;了自己耕田&#20859;家的生活方式。這種現象受到&#32463;&#27982;利益的影&#21709;,但是在筆者看&#26469;,其受到外界的影&#21709;而改變的比重更大。&#20643;族&#22253;公司&#20026;了吸引游客, 鼓&#21169;村民努力&#21442;&#19982;到水果&#25674;&#38138;,&#32426;念品&#36137;&#21334;和&#27900;水&#33410;表演等活&#21160;中去,&#38388;接&#23548;致他&#20204;放&#24323;以&#20892;耕&#20026;主的生活方式。\r",
      "&#36824;有,&#20174;前&#27809;有&#21457;&#36807;的&#32416;&#32439;也&#32439;&#32439;登&#22330;。&#20643;族&#22253;的五&#20010;村寨,&#20174;最&#24320;始的互相扶持,到后&#26469;&#20026;了吸引游客而&#24694;性&#31454;&#20105;;&#20643;族村民&#19982;&#27721;族生意人之&#38388;&#20135;生的摩擦,這些都是旅游業的&#21457;展所代來的負面影響。\r",
      "旅游&#21457;展&#23545;&#20643;族民族文化也&#20135;生了巨大影&#21709;。但是&#20643;族&#22253;旅游不是&#21333;&#32431;的旅游&#35266;&#36175;,而是&#23545;民族文化的&#20307;&#39564;行&#20026;。正因如此,游客&#19982;本地居民的生活密不可分。&#36825;&#31181;旅游方式直接&#23548;致了村民生活的公&#24320;化,也因此招致村民的&#35768;多不&#28385;。\r",
      "&#21478;外,&#20643;族&#22253;中的活&#21160;大部分&#22788;于旅游展演的表面&#38454;段。&#20026;了吸引游客,&#20643;族&#22253;推出了天天&#27900;水&#33410;的活&#21160;,&#21371;忽略了&#33410;日活&#21160;的&#20869;涵和意&#20041;,&#21333;&#32431;的&#20026;了表演而表演。&#20026;了&#36186;取游客的金&#38065;,使得&#20643;族年&#36731;人更愿意&#23398;&#20064;普通&#35805;而不是自己民族的&#35821;言。而&#23545;于佛&#25945;的虔&#35802;的信念,也因&#20026;&#32463;&#27982;的&#21457;展和人&#20204;&#23545;物&#36136;的追求而&#28626;&#20020;消亡。\r",
      "城市&#21457;展、居民收入、生活品&#36136;的向上&#21457;展,雖然少&#25968;民族地&#21306;&#21457;展旅游&#19994;的&#31215;&#26497;&#23618;面,但是,否定&#23618;面的事&#23454;也是不可忽&#35270;的。&#20026;了少&#25968;民族文化生活的&#21457;展和&#20256;承,政府、企&#19994;、村民,&#24212;&#35813;&#24590;&#26679;&#22788;理好文化&#19982;&#32463;&#27982;之&#38388;的&#20851;系,促&#36827;少&#25968;民族地&#21306;旅游&#25112;略&#21457;展的同&#26102;,&#24590;&#26679;&#22788;理好物&#36136;需求&#19982;精神需求的&#20851;系,&#36825;需要政府、企&#19994;、&#19982;大部分當地居民&#23545;此有一&#20010;新的&#35748;&#35782;。\r",
      "長久以來,中&#22269;的&#35770;文和新&#38395;&#25253;道大部分都是以政府或企&#19994;的立&#22330;&#26469;看待&#20643;族&#22253;的&#21457;展,&#24403;然,&#20643;族&#22253;的成立和企&#19994;化的&#32463;&#33829;方式把西&#21452;版&#32435;地區的旅游&#21457;展上升到了新的高度,&#24320;&#21019;了新的旅游&#32463;&#33829;模式。但是,&#31508;者經&#35843;&#26597;&#21457;&#29616;,&#24456;多&#20643;族村民&#23545;于&#29616;在的&#29366;&#24577;&#24182;不&#28385;意,言&#35848;&#20030;止間流露出&#23545;&#20643;族&#22253;公司的抵觸情&#32210;。所以,&#31508;者認&#28858;,比起歌&#39042;政府、企業&#23545;&#24403;地旅游&#21457;展的正面影&#21709;,不如以旅游地居民的感知&#20026;主要方向進行&#30740;究更有意&#20041;。不可避免的,一些村民的想法比&#36739;偏激,&#23545;&#20643;族&#22253;公司或政府存有偏&#35265;。但是&#31508;者&#35748;&#20026;&#36825;更能反映&#29616;&#23454;&#29366;&#20917;,&#20174;而&#20026;少&#25968;民族的旅游&#21457;展提供一些有用的意見和建議。\r",
      "本&#35770;文&#24182;不是要把村民&#24403;做旅游&#32463;&#27982;&#21457;展的&#29306;牲品&#26469;看待,只是&#21333;&#32431;地根据&#35843;&#26597;&#32467;果,把旅游&#21457;展&#23545;旅游地的&#36127;面影&#21709;做一些分析。分析了旅游地居民之&#38388;、民族之&#38388;、旅游&#21457;展&#19982;文化&#20256;承之&#38388;存在的矛盾及影&#21709;,&#20174;而希望政府&#19982;企&#19994;積極消除旅游地的消&#26497;因素,制定相關的政策,&#20174;而使少&#25968;民族文化旅游能&#22815;得到保護和更快、更好的&#21457;展。\n",
      "\n",
      "\n",
      "원문보기\n",
      "\n",
      "\n",
      "목차검색조회\n",
      "\n",
      "\n",
      "음성듣기\n",
      "\n",
      "\n",
      "2   관광활동에 기반한 쇼핑스타일 세분화 연구  권희정 세종대학교 2015 국내박사  RANK : 27772927    원문보기 목차검색조회  음성듣기             국내 관광시장의 가치관이 여가중심의 가치관으로 전환되면서 관광활동에 대한 욕구충족 방법 등이 다양화되고 있으며, 여행비용이나 여행횟수 등 양적 증가 양상을 보이고 있다. 이로 인해 특히 레저산업과 관련한 분야의 매출이 큰 폭으로 상승하는 등 쇼핑시장이 커다란 영향을 받고 있다. 여기에 더해서 관광산업과 쇼핑산업 분야에서 온라인 시장의 중요성이 커진 것 또한 주목할 반한 변화다. 이처럼 국내 관광활동의 성장과 변화가 쇼핑시장에 중요한 영향을 주고 있으며 두 산업 분야에서 변화의 중심에는 온라인 이용의 증가도 중요한 요소로 자리 잡았다.  그러나 쇼핑 및 관광 산업과 관련한 선행연구들을 검토해 본 결과 소비활동의 근간이 되는 소비자의 쇼핑스타일에 대한 관광 관련 연구는 찾아보기 힘들었으며, 관광활동과 관련한 쇼핑스타일을 세분화 한 연구 또한 매우 제한적 이였다. 따라서 본 연구는 관광활동유형을 이용한 쇼핑스타일에 대한 세분화된 특성을 알아보는 것으로 다음 4가지 목적을 중심으로 수행하였다. 첫째, 선호하는 관광활동유형이 쇼핑스타일에 어떠한 영향을 주고 있는지 파악하고, 둘째, 쇼핑스타일에 영향을 주는 관광활동유형에 따른 인구통계학적 특성을 파악함으로 마케팅 대상을 구체화 하도록 하였다. 셋째, 온·오프라인 쇼핑성향의 차이가 쇼핑스타일에 영향을 미치는지 확인하도록 하였으며 넷째, 관광활동이 쇼핑스타일에 영향을 미치는데 있어서 유행추구에 따라 어떠한 차이를 보이는지 확인하도록 하였다.    분석을 위한 표본은 온라인으로 수집하였으며 2014년 10월 18일부터 20일간 수집하였다. 총 466개의 표본이 모아졌고 그중 407개를 최종적으로 사용하였다. SPSS 20.0을 이용해 기초통계를 분석하였고, LIMDEP 8.0프로그램을 이용해 다항선택로짓(multinominal logit)모형과 우도비(likelihood tatio)검정을 실시하였다. 다항선택로짓모형을 이용해 종속변수인 쇼핑스타일의 결정요인을 파악하도록 하였으며, 우도비검정을 사용하여 유행추구를 중심으로 한 두 집단 간 차이를 분석하였다.연구결과를 통해 밝혀낸 시사점은 다음과 같다. 첫째, 선호하는 관광활동유형에 따라 쇼핑스타일은 상이한 영향을 받고 있는 것으로 나타나 이를 쇼핑시장의 마케팅 대상 정책에 이용할 수 있으며 고객확대 및 강화를 위한 세분화의 중요한 변수로 사용할 수 있음을 확인하였다. 둘째, 유흥과 관련한 관광활동을 선호하는 집단은 쇼핑활동에 가장 적극적이며 추구하는 스타일에 확신을 갖고 있어서 쇼핑시장에서 중요한 마케팅 대상임을 확인하였다. 또한 관광활동유형을 시장세분화 하여 좀 더 세부적인 마케팅 대상을 파악하였으며 유흥 관련 관광활동 선호 집단 중 40세 미만과 남성층이 더 중요하게 다뤄져야 함을 보여주었다. 셋째, 낮은 유행추구집단에서만 고품질형의 쇼핑스타일에 온라인 쇼핑성향이 유의한 결과를 보여 고품질로 충동적인 구매가 가능한 상품의 경우 홈쇼핑 등 온라인을 통한 마케팅 활동은 일부 집단에 더 효과적일 가능성을 제시하였다. 넷째 유행추구를 중심으로 두 집단 간 차이를 통해 같은 관광활동유형을 선호하더라도 유행을 추구하는 집단과 그렇지 않은 집단 간에 쇼핑스타일의 차이가 있음을 확인하였다. As the value of domestic tourism market has been switched to leisure oriented value, the way of satisfying desire of tourism activity has been diversified and also traveling cost and time have been increased in quantity. These changes made large influence to shopping industry, especially the sales of leasure industry related has risen a lot. On top of this change one of important change for both tourism industry and shopping industry is that the importance of on-line market is gradually growing. Like this it is proved that growth and change of domestic tourism activities gives important influence to shopping market, and at the center of these important change of two industries the increase of on-line use is included.But according to the reviewing result of previous studies related to tourism industry and shopping industry, the tourism related study for the consumer decision making style, which is the base of consumer activity, can hardly be found, and the studies of segmented shopping style related with tourism activity are very limited. Thus this study has focused on the following 4 purposes. First, the influence of preferred tourism activity type to consumer decision making style was apprehended. Second, the demographic characteristics of tourism activity type, influencing to consumer decision making style, is grasped to materialize marketing target. Third, the influence of shopping propensity difference between on-line and off-line to consumer decision making is defined. Fourth, the difference of influence of tourism activity to consumer decision making according to the pursuit of fashion is defined. As a conclusion this study is to review segmented characteristics of consumer decision making style using tourism activity type by reviewing two groups tourism activity type as of its pursuit of fashion life style as well as the influence of on-line and off-line propensity to consumer decision making style.The sample for analysis have been collected by on-line during for 20 days from Oct. 18, 2014. Total 466 samples were received and finally 407 samples have been used for the study. For analysis SPSS 20.0 is used for analyzing basic statistics, LIMDEP 8.0 program is used to verify multinominal logit model and likelihood ratio. The determinant of shopping style, a dependent variable, is grasped by using multinominal logit model, and the difference of two groups, focusing on pursuit of fashion, is analyzed by using verification of likelihood ratio.The implication points of this study according to the study result are as follows. First, it is proved that consumer decision making style has been influenced differently according to the preferred tourism activity type, so it also proves that tourism activity type can be used for marketing policy object of shopping market and also used for an important variable for segmentation of expansion and reinforcement of customers. Second, the group prefers consumer entertainment type, a tourism activity type, is the group most active in shopping activity and having confidence with desired style, so it is confirmed as an important marketing target for shopping market. Also the more detailed marketing target is grasped by market segmentation of tourism activity type, and it is proved that the male group under 40 years old should be treated more importantly. Third, only from low pursuit of fashion group, on-line shopping propensity gives significant influence to impulse high quality type shopping style, so it is proposed that on-line marketing activity, such as home shopping, would be more effective for high quality and impulse purchasing type goods. Fourth, though two groups prefer same tourism activity type, based on pursuit of fashion, the difference in shopping style between the group pursuit fashion and the other group is confirmed.\n",
      "\n",
      "\n",
      "원문보기\n",
      "\n",
      "\n",
      "목차검색조회\n",
      "\n",
      "\n",
      "음성듣기\n",
      "\n",
      "\n",
      "3   관광기업 메세나(문화, 예술지원)활동이 조직몰입에 미치는 영향 : 조직문화, 조직공정성, 조직동일시의 조절효과를 중심으로  윤종운 경기대학교 일반대학원 2011 국내박사  RANK : 27772927    원문보기 목차검색조회  음성듣기             21세기를 문화의 시대라고 표현 하는데는 문화가 개인생활에 중요한 영향을 미치고 있으며 사회발전의 원동력과 기반이 되고  문화적 창의성이 개인 및 국가사회의 가치 중심이 되는 시대이기 때문일 것이다. 이러한 문화의 중요성은 이윤추구의 목적을 가진 기업경영에까지 영향을 미치고 있으며 기업경영의 비영리부문인 사회공헌활동을 수행함으로 기업의 CSR(기업의 사회적 책임)일부를 담당하는 시대에 도래한 것이다. 특히 사회공헌활동의 중요한 부분을 차지하는 메세나(문화, 예술지원)활동은 기업의 경영이익을 사회에 환원하기를 기대하는 사회적인 요구와 함께 점차 증가 하고 있다.이러한 기업의 메세나(문화, 예술지원)활동이 기업의 입장에서 순수한 기부의 형태인 사회공헌활동에서 점점 변화되어 문화마케팅활동으로 더 나아가 현재에는 기업의 경영전략으로 활용되는 시기에 이르게 된 것이다. 현대사회에서의 기업의 CSR(기업의 사회적 책임)활동은 기업은 본연의 경제적인 책임 이외의 환경경영, 윤리경영, 사회공헌활동을 포함하여 기업이 사회제도로서 수행하여야할 비경제적 기업목적의 의미를 가지고 있으며 기업의 호감도, 명성, 브랜드, 기업문화, 등의 무형자산으로 기업의 가치를 높이는 중요한 요인이 되고 있다. 특히, 관광기업은 고객과의 빈번한 접촉을 통하여 종사원의 감정과 심리상태가 그대로 전달되고 서비스종사원의 영향력이 어느 산업보다도 크게 작용하는 지식노동력의 중요성을 가지고 있는 고차원적인 산업이다. 이러한 관광기업에서의 메세나(문화, 예술지원)활동은 종사원으로 하여금 기업이미지 개선을 통하여 회사에 대한 자부심과 애착을 갖게 하며 더 나아가 조직유효성에 긍정적인 영향을 미칠 것이며 이에 관광기업의 메세나(문화, 예술지원)활동에 대한 인적자원관리측면에서의 실증적인 성과와 효과에 대한 연구는 중요한 연구 자료가 있을 것으로 판단된다. 본 연구는 관광기업의 인적자원관리 측면에 초점을 두어 관광기업의 메세나(문화, 예술지원)활동이 관광기업에 종사하는 종사원들의 적극적이고 긍정적인 애착을 가지는 조직몰입에 어떠한 영향을 미치는지를 증명하고자 했다. 또한 조직의 환경과 특성, 조직행동의 중요한 변수로 작용하는 조직문화, 조직공정성, 조직동일시를 선정하여 관광기업의 메세나(문화, 예술지원)활동이 조직몰입에 미치는 영향에 어떻게 조절되는지를 밝히고자 하였다.이러한 연구가설을 검증하는데 설문지 조사를 통하여 수집하였고 연구대상은 우리나라의 관광기업 중 한국메세나협의회에 가입되어있는 관광기업과 메세나활동을 활발하게 하고 있는 관광기업을 모집단으로 정하였으며, 이 관광기업에 종사하는 구성원들을 대상으로 설문조사를 실시하였다. 2011년 2월15일-3월20일 까지 약 1개월에 걸쳐 수행하였으며 완성된 설문지는 320부를 배부하여 272부를 회수하였으나 회수된 설문지중 일관성이 없는 등 무성의한 설문지 41개를 제외하고 231부를 본 연구의 가설검증을 위한 자료로 활용하였다. 수집된 자료는 SPSS 12.0통계패키지 프로그램을 이용하여 빈도분석, 요인분석, 신뢰도분석, 다중회귀분석 등을 실시하였다. 그 결과는 다음과 같다.첫째, 관광기업메세나(문화, 예술지원)활동은 조직몰입에 긍정적인 영향을 미치는 것으로 나타났다. 관광기업메세나활동 중 조직몰입에 미치는 차이를 검증한 결과 CEO의 문화예술 인식, 문화적 종업원지원 활동, 문화적 사회공헌활동 순으로 조직몰입에 영향을 미치는 것으로 나타났다. 이는 관광기업의 메세나활동에 대해 종업원이 높게 지각할수록 조직몰입이 높아지는 것으로 볼 수 있다. 즉 기업의 문화적 사회공헌활동, 문화적 종업원지원 활동, CEO의 문화예술인식에 대해 높게 지각할수록 조직몰입이 높아진다고 볼 수 있다. 하지만 문화적 마케팅활동은 조직몰입에 통계적으로 유의한 영향을 미치지 못하였다. 둘째, 관광기업메세나활동이 조직몰입에 영향을 미칠 것이며 이에 관광기업메세나활동이 조직몰입에 미치는 영향에 조직문화의 조절효과를 검증하였다. 그 결과 조직문화의 조절효과에서 위계문화, 합리문화, 혁신문화는 관광기업의 메세나활동이 조직몰입에 미치는 영향에 조절되는 것으로 나타났으며 집단문화는 기각되었다. 구체적인 조직문화유형에 대한 조절효과는 위계문화에서는 문화적 마케팅활동이, 합리문화와 혁신문화에서는 문화적 사회공헌활동과 CEO의 문화예술인식이 조절되는 것으로 밝혀졌다. 그러나 집단문화에 대해 높게 지각할수록 조직몰입이 높아진다는 결과로 보아 집단문화는 조절변수보다는 독립변수로의 역할이 강하다는 결과를 얻게 되었다.셋째, 관광기업메세나활동이 조직몰입에 영향을 미칠 것이며 이에 관광기업메세나활동이 조직몰입에 미치는 영향에 조직공정성의 조절효과를 검증하였다. 그 결과 관광기업메세나활동 중 문화적 마케팅활동만이 조직몰입에 미치는 영향에 있어 분배공정성이 조절을 하는 것으로 나타났다. 특히, 조직공정성 중 분배공정성에 대해 높게 지각한다면 기업이 메세나활동을 하는데 있어 문화적 마케팅활동은 조직몰입을 더 높게 해준다는 결과를 얻게 되었다.  넷째, 관광기업메세나활동이 조직몰입에 영향을 미칠 것이며 이에 관광기업메세나활동이 조직몰입에 미치는 영향에 부분적으로 조직동일시의 조절효과를 검증하였다. 기업메세나활동 중 문화적 사회공헌활동, 문화적 마케팅활동, 문화적 종업원지원 활동 , CEO의 문화예술인식 4가지 요인 중에서 CEO의 문화예술인식만이 조직몰입에 미치는 영향에 있어 조직동일시가 조절을 하는 것으로 나타났다.본 연구는 일반기업에 대한 연구가 아니라 관광기업에 한정하여 연구된 점과 인적자원관리 측면에 중점을 두고 연구되었다는 점이 기존의 연구들과 다르다고 볼 수 있다. 그러나 한국메세나협의회 가입된 관광기업만을 표본으로 하였기에 일반화하는데 한계가 있으므로 향후 후속연구에서는  표본의 대상범위를 확대하여 연구가 되어야 할 것으로 판단된다.\n",
      "\n",
      "\n",
      "원문보기\n",
      "\n",
      "\n",
      "목차검색조회\n",
      "\n",
      "\n",
      "음성듣기\n",
      "\n",
      "\n",
      "4   생태관광동기, 매력성, 지각된 가치, 행동의도 연구  선셋별 전주대학교 대학원 2017 국내박사  RANK : 27772927    원문보기  음성듣기             이 논문은 생태관광 개발지의 마케팅 전략의 유효성을 제고하기 위해 생태관광동기, 매력성을 진단하고 지각된 가치, 행동의도 간의 영향관계를 분석하여 상호 관계성을 이해하고 생태관광의 지속적인 발전을 위해 지역사회에서 형성되어야 할 마케팅 전략을 제시하는데 주안점을 두고 있다. 행동의도에 영향을 미치는 요인으로 생태관광동기, 매력성, 지각된 가치를 변수로 삼았으며 각 변수간의 영향관계를 통하여 검증하였다. \r",
      "이러한 목적을 달성하기 위해 생태관광 관광명소인 순천만 생태공원에서 400명의 관광객을 대상으로 설문조사를 실시하였으며, 이에 대한 설문항목은 생태관광동기 25개, 매력성 16개, 지각된 가치 12개, 행동의도 4개로 구성된 총 7개와 인구통계학적 변수 7개를 포함하여 구성하였다. 수집된 설문지 중 348개의 응답을 연구에 활용하였으며, SPSS 22.0 통계패키지 프로그램을 통한 빈도분석, 신뢰도분석, 상관관계분석, 탐색적 요인분석, 다중회귀분석을 실시하였다.\r",
      "분석결과 생태관광동기와 매력성은 인식적 가치에는 영향을 모두 미치는 것으로 나타났지만, 감정적 가치에는 부분적인 영향을 미치는 것으로 나타냈으며. 생태관광동기 활동요인은 행동의도에 영향을 미치지 않는 것으로 나타냈다. 하지만 매력성, 지각된 가치는 행동의도 간에 영향관계에서는 모두 유의한 영향관계를 나타냈다.\r",
      "따라서 연구결과를 토대로 실무적으로 적용할 수 있는 몇 가지 시사점을 제시하면 다음과 같다.\r",
      "첫째, 생태관광동기에 대한 많은 선행연구들이 진행되었지만 생태관광 매력성 즉 생태관광지를 선택하는 매력적인 요소에 대한 연구는 거의 이루어진 경험이 없다. 따라서 본 연구에서는 생태관광지를 선택하는데 있어 영향력을 미치는 매력성에 대한 연구를 시행하였다는 점에서 학술적 의미가 있다고 하겠다.\r",
      "둘째, 그 동안 선행연구에서 인구통계적 특성과 관광행태적 특성에 따른 차이검정이 이루어졌으나 본 연구에서는 생태관광동기 유형에 따른 영향관계에 대한 검정을 하였다는 점이다. 따라서 향후에는 생태관광이 갖는 서비스환경에 대한 연구를 실시할 필요가 있다고 본다.\r",
      "셋째, 그 동안 생태관광동기와 관광태도 간의 연구는 이루어져 왔으나 생태관광동기 및 매력성이 지각된 가치, 행동의도에 대한 연구가 미흡한 실정으로 본 연구에서는 생태관광동기 및 매력성이 지각된 가치, 행동의도 간의 관계를 규명하였는데, 그 결과 생태관광동기와 매력성은 선행변수, 지각된 가치와 행동의도는 결과임을 확인하였다는 점이다.\r",
      "넷째, 생태관광동기가 지각된 가치에 부분적인 영향을 미치는 것으로 나타났는데 이는 생태관광동기가 지각된 가치를 높이기 위해서는 오염되지 않은 자연에 대한 모습을 유지 또는 자연에 대한 무분별한 개발이 이루어지지 않아야 할 것으로 판단된다.\r",
      "다섯째, 생태관광 매력성부분에서 종사원 서비스의 적절성을 묻는 항목이 요인분석 시 변수의 선정이 적합하지 않은 것으로 나타났는데 이는 생태관광 매력성을 높이기 위해서 생태관광지의 서비스환경에 대한 개선이 이루어져야 하며 이 중 종사원에 대한 서비스 교육이 이루어져야 매력성을 높이는데 효과적일 수 있을 것으로 판단된다.\r",
      "여섯째, 생태관광동기가 행동의도에 영향을 미치는지에 대한 부분에서는 생태관광동기 요인 중 활동요인이 행동의도에 영향을 미치지 않는 것으로 나타났다. 이는 생태관광지를 찾는 동기가 야외활동을 하기 위함이나 활동적인 생활을 위해서는 찾지 않는다는 것을 알 수 있음과 동시에 새로운 것을 보고 듣고 느끼고 환경에 대한 관심이 생태관광지를 찾는 행동으로 연결된다는 것을 확인하였다.\r",
      "일곱째, 생태관광 매력성이 행동의도에 영향을 미치는 것으로 나타났다. 생태관광지의 매력성은 행동의도에 매우 중요한 요소로 작용한다는 의미이며 특히 현지물가, 여행비용 등의 개선이 필요할 것으로 판단된다.\r",
      "여덟째, 생태관광 지각된 가치는 감정적 가치와 인식적 가치로 나누어 살펴보았다. 이 중에서 인식적 가치는 생태관광동기, 매력성 부분에 영향을 미치는 것으로 나타났으나 감정적 가치는 부분적인 영향을 미치는 것으로 나타났다. 이는 생태관광지를 찾는 동기나 매력요인에 있어서 일상 탈출, 정서적 안정감, 스트레스 해소 등의 요인으로 선택하지 않는 것을 알 수 있었으며 환경에 대한 관심, 새로운 체험 또는 경험, 시간투자 가치 등의 요인이 영향을 미친다는 것을 확인하였다.\r",
      "마지막으로 지각된 가치가 행동의도에 영향을 미치는 것으로 나타났다. 생태관광지가 갖는 지각된 가치는 행동의도에 매우 중요한 요소로 작용한다는 의미이며 특히 환경에 대한 호기심을 가지고 방문하는 관광객의 욕구를 만족시킬 수 있도록 생태관광과 관련한 체험 등 새로운 요소 등의 개선이 필요할 것으로 사료된다. This study is in order to increase the effectiveness of marketing strategy of eco-tourism development area, it is necessary to diagnose eco-tourism motivation and attractiveness, to analyze the influence relationship between perceived value and Behavior intention, to understand interrelationship and to be formed in community for sustainable development of eco-tourism Marketing strategies that will be implemented in the future.\r",
      "Eco-tourism motivation, attractiveness, perceived value were used as factors influencing behavior intention.\r",
      "The results showed that eco-tourism motivation and attractiveness had an influence on cognitive value.\r",
      "The results showed that the eco-tourism motivational factors had no effect on the behavioral intentions. However, both the attractiveness and the perceived value had a significant influence on the relationship between behavior intention\r",
      "Therefore, some suggestions for practical application based on the results of the study are as follows.\r",
      "First, many previous studies on eco-tourism have been conducted, but there are few studies on the attractive factors of eco-tourism. Therefore, this study has academic meaning in that it carried out research on the attractiveness that has influence on the choice of eco-tourism destination.\r",
      "Second, in the previous study, the difference between the demographic characteristics and the tourism behavior was examined in this study.\r",
      "Therefore, it is necessary to conduct a study on the service environment of ecotourism in the future.\r",
      "Third, there have been researches between ecotourism motivation and tourism attitude. There were few studies on ecotourism motivation and attractiveness on perceived value behavior intention.\r",
      "In this study, the relationship between ecotourism motivation and attractiveness, perceived value, and behavior intention were investigated.\r",
      "As a result, ecotourism motivation and attractiveness are the leading variables, and that the perceived value and behavior intention are the result.\r",
      "Fourth, eco-tourism motivation has a partial effect on perceived value. In order to increase the perceived value of eco-tourism motivation, it is necessary to maintain the appearance of uncontaminated nature or to develop indiscreetly about nature .\r",
      "Fifth, it was found that the selection of variables in the factor analysis of the appropriateness of employee service in the ecotourism attractiveness part was not suitable. In order to enhance the attractiveness of eco- ourism, the service environment of eco-tourism should be improved.\r",
      "The service training for the employees should be effective in enhancing the attractiveness.\r",
      "Sixth, it was found that the activity factors of eco-tourism motivation factors did not affect the intention of eco-tourism motivation.\r",
      "As a result, the motivation for finding eco-tourism is not for outdoor activities or living.\r",
      "It was confirmed that they were able to see, hear and feel new things, and that the interest in the environment led to the behavior of finding eco-tourism sites.\r",
      "Seventh, ecotourism attractiveness was found to affect the behavioral intention.\r",
      "The attractiveness of eco-tourism sites means that they act as an important factor in the behavior intention. In particular, it is necessary to improve local prices and travel costs.\r",
      "Eighth, eco-tourism perceived value is divided into emotional value and cognitive value.\r",
      "Among them, cognitive value influenced ecotourism motivation and attractiveness, and emotional value had a partial effect.\r",
      "This indicates that factors such as interest in the environment, new experience or experience, and time investment value are influenced by factors such as daily escape, emotional stability, stress relieving, etc.\r",
      "Finally, perceived value influenced behavior intention. The perceived value of eco-tourism is a very important factor in the behaviora intention.\r",
      "Especially, it is considered that new factors such as experience related to eco-tourism should be improved to satisfy the desire of tourists visiting with a curiosity about the environment.\n",
      "\n",
      "\n",
      "원문보기\n",
      "\n",
      "\n",
      "음성듣기\n",
      "\n",
      "\n",
      "5   도시 관광경쟁력 평가 모델 개발에 관한 연구  이진식 경희대학교 일반대학원 2015 국내박사  RANK : 27772927    원문보기 목차검색조회  음성듣기             본 연구의 목적은 관광목적지로서의 도시 관광경쟁력을 객관적으로 평가할 수 있는 지표와 모델을 개발하기 위함이다. 글로컬화(glocalization) 시대에 우리나라 관광경쟁력을 높이기 위해서 국가의 관광산업 경쟁력 제고도 필요하지만 도시의 관광경쟁력 강화도 중요하다고 판단하여, 본 연구에서는 관광경쟁력 관련 선행연구 등을 바탕으로 예비지표를 제시하고 관광분야 전문가 195명을 대상으로 3차에 걸친 델파이 조사를 통해 한국형 도시 관광경쟁력 평가 지표와 모델을 최종 개발하였다. \r",
      "본 연구에서는 도시 관광경쟁력의 평가 속성으로 지자체 역량, 인적자원, 지적자원, 관광인프라, 창조문화 역량, 관광성과 등 6개 요인으로 대분류하고, 21개 중분류, 62개 소분류, 85개 세부지표 항목에 대한 우선순위와 상대적 중요도를 제시하였다. 또한, 본 연구에서는 지방자치단체 234개를 대상으로 도시의 관광경쟁력을 측정할 수 있는 이론적 모델을 제공하고 8가지 관광도시 유형을 제시하였다. \r",
      "본 연구의 시사점은 다음과 같다. 첫째, 지방정부에서는 도시 단위의 관광경쟁력을 높이고 지속가능한 관광발전을 위해서 해당 도시의 관광경쟁력의 비교우위 요소를 파악하여 경쟁우위 요소를 집중 육성하는 것이 바람직하다는 것이다. 둘째, 중앙정부에게는 전국 도시의 관광경쟁력을 종합 평가하여 각 도시별 차별화된 관광정책에 따라 재원투입의 효과를 극대화함으로써 글로벌 국가 관광경쟁력을 향상하는 것이 중요하다는 점이다. 셋째, 학문적으로는 기존 관광경쟁력 연구의 한계점을 보완하고 상대적으로 적은 연구가 진행되고 있는 도시 관광경쟁력 평가 연구의 지평을 넓혔다는데 그 가치가 있는 점이다. \r",
      "궁극적으로는 도시 관광 관련 정책가, 개발자 및 연구자는 본 연구에서 개발된 평가 모델의 결과를 토대로 지자체의 역량을 강화하면서 보유하고 있는 인적·지적 관광자원 및 관광인프라를 전략적으로 활용하면서 지역사회의 창조문화 역량을 이끌어 내어 관광성과를 극대화할 수 있게 됨에 따라 글로벌 경쟁 하에서 관광목적지로서의 도시의 지속가능한 관광 발전을 도모할 수 있다는 것이다. 이러한 결과는 곧 국가 관광경쟁력 향상과 직결된다.\r",
      "\r",
      "핵심용어: 관광목적지, 도시 관광경쟁력, 글로컬화, 지자체 역량, 인적자원, 지적자원, 관광인프라, 창조문화 역량, 관광성과, 우선순위, 관광도시, 경쟁우위, 지속가능한 관광발전 The purpose of this research is to develop an objective index point and model\r",
      "for evaluating tourism competitiveness of cities. To be more competitive among\r",
      "other international destinations in the “Glocalization” era, raising competitiveness in\r",
      "tourism at the local and national level is vital. In this respect, this study attempts\r",
      "to formulate a preliminary indicator through the previous researches on tourism\r",
      "competitiveness. It also proposes the Korean index and model of city's tourism\r",
      "competitiveness developed by three consecutive surveys using Delphi method on\r",
      "195 tourism professionals.\r",
      "The top level of the evaluation criteria is comprised of six factors: competency\r",
      "of the local governments, human resources, intellectual resources, tourism\r",
      "infrastructure, the capability of creating culture, and tourism performance. The mid,and lower levels include 21 and 62 items, respectively, followed by 85 specific\r",
      "indices all of which are in hierarchical order to signify the priorities. Further, this\r",
      "research provides an assessment of 234 regional cities in South Korea, and\r",
      "forwards eight types of tourist city as the hypothetical models.\r",
      "This study identifies the following implications: First, the local governments need\r",
      "to identify their own competitive edge, and emphasize it to implement its leverage.\r",
      "Second, the central government should optimize the allocation of resources to boost\r",
      "competitiveness in the global realm by conducting comprehensive assessments, and\r",
      "differentiate funding in accordance with its tourism policy. Third, this scholarly\r",
      "work overcame the limitation of previous researches, and shed light on the\r",
      "significance of urban tourism competitiveness evaluation which has gained relatively\r",
      "less attention thus far.\r",
      "Policy makers, urban planners, and researchers can utilize this study as\r",
      "foundation, and synthesize local human resources, intellectual resources, and tourism\r",
      "infrastructure to bring out potentials in creating culture, and enhancing local\r",
      "capacity thereby promoting a sustainable tourism which is directly related to\r",
      "advancement of the country’s overall tourism competitiveness.\n",
      "\n",
      "\n",
      "원문보기\n",
      "\n",
      "\n",
      "목차검색조회\n",
      "\n",
      "\n",
      "음성듣기\n",
      "\n",
      "\n",
      "6   라스베이거스 관광 이미지가 선호도와 방문의도에 미치는 영향  이문정 경기대학교 관광전문대학원 2011 국내박사  RANK : 27772927    원문보기 목차검색조회  음성듣기             본 연구에서는 연간 3천 6백만 명의 관광객들이 방문하는 세계 최고의 관광 도시인 라스베이거스에 대한 관광지 이미지 연구를 실시하고자 했다. 그간 라스베이거스에 대한 연구는 일반적 사항이나 카지노리조트, 게이밍 등에 집중되어 왔으며, 도시 자체에 대한 세분화된 이미지에 대한 인식이나 각각의 이미지가 선호도, 방문의도에 미치는 영향에 대한 연구는 제한적으로 이루어졌던 실정이므로, 본 연구에서는 라스베이거스에 대한 이미지를 인지적 이미지와 정서적 이미지로 나누고, 각각의 하위 요인들을 그룹화해 요인 간의 관계에 대한 분석을 실시하고, 다시 각 이미지가 선호도와 방문의도에 주는 영향을 살펴보았다.  분석 결과에 대한 시사점은 다음과 같다. 첫째, 테마호텔/카지노 이미지와 현대/동적 이미지와의 연관성이 높게 나타나, 향후 상품 개발 시 현대/동적인 이미지는 테마호텔/카지노와 함께 부각시키는 것이 관광객 유치에 도움이 될 것이라는 시사점을 도출했다. 또한, 테마호텔/카지노 이미지와 재미/흥미 이미지 간의 연관성도 높게 나타나, 카지노를 도박의 개념보다 놀이거리의 하나로 인식하는 경향을 보여줌으로써, 적절한 카지노 이미지의 배합은 라스베이거스가 가진 재미 이미지를 배가시킬 수 있을 것이라는 점을 시사했다.   둘째, 쇼핑 이미지는 현대/동적, 재미/흥미 이미지에 유의한 영향을 주지 않았고 라스베이거스에 대한 선호도와도 상관관계를 도출하지 못했지만, 방문의도 측면에서는 상당한 영향을 미치는 것으로 나타났다. 이는 라스베이거스의 쇼핑이 아직 고유의 관광 활동으로 인식되지 않았으나 쇼핑이라는 관광 활동 자체를 즐기고자 하는 관광객들의 욕구를 대변하는 것으로, 타 도시로 유입되는 쇼핑 관광객을 유치하기 위해서는 라스베이거스의 쇼핑 강점을 잠재 관광객들에게 어필해야 한다는 마케팅적 시사점을 도출했다.  셋째, 쇼 이미지는 안전/편리 이미지와는 (-)의 방향성을 보였으나, 방문의도와의 관계에서는 가장 많은 영향력을 행사하는 것으로 나타났다. 따라서 그간 형성된 라스베이거스의 쇼에 대한 퇴폐, 향락적 이미지를 탈피해, 예술적 측면이나 모든 연령이 함께 즐길 수 있는 쇼에 대한 집중 홍보를 통해 한국 관광객들의 인식을 변화시키는 것이 필요할 것이다.  넷째, 안전/편리 이미지와 선호도 및 방문의도 간 연관성이 높게 나타나, 도시 안전에 대한 잠재 관광객들의 관심을 대변했다. 이는 라스베이거스가 범죄와 환락의 도시로 미디어에 노출되고 있는 영향을 받은 것으로 해석할 수 있으며, 향후 관광객 유치를 위해서는 라스베이거스의 높은 안전 수준에 대한 강조가 중요하다는 점을 시사했다.   다섯째, 미 방문자와 기 방문자에 대한 차이 검증 결과, 쇼를 제외한 모든 요소에 대해 기 방문자의 수치가 더 높게 나타나, 방문 후에 라스베이거스의 이미지에 대한 긍정적 인식이 강화된다는 것을 보여주었다. 쇼 이미지에 대한 차이가 발견되지 않은 것은 공연 관람이 비언어 공연에 편중되었기 때문으로 보이는데, 라스베이거스 도시 마케팅 시 해외 관광객들은 언어 문제로 다양한 쇼 관람이 어려운 점을 감안해 비언어 공연의 다양화에 힘써야 할 것이다. 또한 안전/편리 이미지에 대해 기 방문자 측의 수치가 더 높게 나타난 점은 방문 경험 후에 라스베이거스의 도시 안전에 대한 확신을 갖게 되는 고무적인 결과를 보여준 것으로, 이를 토대로 미 방문자에게도 어필할 수 있는 안전한 이미지의 확립이 필요하다는 시사점을 도출했다.  여섯째, 일반적 설문사항에서 응답자의 80% 이상이 라스베이거스 방문 시 패키지 상품을 이용하지 않겠다고 밝혀 개별 관광객들에게 어필하고 있었으며, 체류기간을 묻는 질문에는 3박 이상이 60%로 비교적 오랜 시간 체류하고자 해 중장기 체류 관광객 중점으로 마케팅 방향을 설정할 것을 시사했다. The purpose of this study was to find the images of Las Vegas, worldwide top tourist destination welcoming more than 36 million visitors per year. Since most of previous studies were conducted for general information of Las Vegas, gaming or casino resort side, this study tried to specify representing images of Las Vegas by cognitive image and affective image and examine each image's association with preference on Las Vegas as well as visit intention.  The research is based on self-administered questionnaire disseminated from 20 to 30 September 2010 to Koreans in 20's and above residing in Seoul and Kyonggi area. Out of 300 copies of questionnaire distributed, 286 copies were used for analysis after excluding incomplete responses.  For detailed method, descriptive statistics was used for demographic characteristics analysis, exploratory factor analysis and Cronbach's alpha coefficient for reliability and validity test, correlation analysis and structural equation modeling for hypothesis test and independent t-test for comparison between visitors and non-visitors.  Through exploratory factor analysis, four cognitive images; resort/casino, natural spot/Grand Canyon, show, shopping and three affective images; modern/dynamic, safe/convenient, fun/interesting were extracted and analyzed further to verify the association between each image factor and its relation to preference and visit intention.  As a result, following points were found. First, resort/casino image was highly engaged with modern/dynamic image, so these two images are ideal for mixture when promoting Las Vegas product. Resort/casino image was also related to fun/interesting image which means appropriate inclusion of casino image will spur potential visitors on to consider Las Vegas as  destination of choice.  Second, even though shopping image was not related to modern/dynamic image, fun/interesting image nor preference on Las Vegas, it affected considerably on visit intention. This implies shopping in Las Vegas is not perceived as Las Vegas-only activity but shopping is still the top desirable activity while visiting the U. S. among Korean tourists. To solicit the traffic surged into other destinations, marketing strategy to appeal Las Vegas-only shopping component as well as diverse shopping opportunities should be developed.  Third, show image indicated reverse direction impact for safe/convenient image but was ranked as top factor for visit intention side. Las Vegas show was often considered as adult shows associated with sexual image due to negative exposures in on/off-line outlets. To overcome this image, more information on Las Vegas show, especially artistic shows and shows for all age groups should be available and promoted.  Fourth, safe/convenient image was ranked as top for preference as well as visit intention. This proves Korean tourists' attention on safety issue of Las Vegas. Though the safety level of Las Vegas is quite high, Koreans' perception is frequently attached to crime as media exposure has stressed on sin city image. To attract Korean tourists, safe environment should be emphasized when promoting Las Vegas.  Fifth, through comparative analysis for visitors and non-visitors, all factors excluding show image recorded high scores in visitors' side, which means Las Vegas' image is positively resided after visitation. The reason for no difference in show image side is assumed because shows Korean tourists enjoy are concentrated on non-verbal performances. To increase traffic seeking show component in Las Vegas, diversification of non-vernal performance is necessary to solicit tourists from non-Anglophone countries. However, encouraging result came out in safe/convenient image since visitors became confident about Las Vegas' safety after actual visitation. Based on this, Las Vegas needs to establish strong image focusing on safety to appeal non-visitors accordingly.  Sixth, over 80% of respondents answered they will not purchase package product when visiting Las Vegas, green light to Las Vegas, as there is a high chance FIT traffic skyrocketed after U. S. Visa Waiver Program launch will surge into Las Vegas to enjoy the itinerary of their own rather than traditional ready-made pattern. 60% of respondents expressed the stays in Las Vegas for more than three nights, which implies marketing strategy needs to be focused on mid/long-term stay tourists.  This study tried to find out association between cognitive image and affective image and its relation to preference and visit intention. While several meaningful results were found with suggestions for future marketing strategy, subsequent studies supplement the limitations are suggested to extend the finding from this research.  First, non-visitor ration was higher than visitors, so analysis focused on visitors was not conducted separately. Analysis for visitors especially for pre/post-visitation is necessary in future studies. Second, in-depth comparison between visitors and non-visitors is suggested to find further difference between two groups. Third, preference difference by each image was not analyzed. Theoretical scale development to examine each image's relation to preference is open to future researches.\n",
      "\n",
      "\n",
      "원문보기\n",
      "\n",
      "\n",
      "목차검색조회\n",
      "\n",
      "\n",
      "음성듣기\n",
      "\n",
      "\n",
      "7   도시관광의 동기와 매력성에 관한 연구 : 중국인의 서울방문을 중심으로  박인호 제주대학교 대학원 2011 국내박사  RANK : 27772927    원문보기 목차검색조회  음성듣기             In modern tourism, city plays a pivotal role as a hub of tourism and attraction in tourism phenomenon, filling the needs of tourists through various attractiveness. However, all tourist destinations or tourism city cannot satisfy tourists with various needs and motivations. It means  attractiveness factor as a tourism city is limited but it also means that  various tourist motivations exist and it provide as a clue that tourism motivation can influence choice of tourist cities.   Studies on the attractiveness of tourism motivation and city tourism were consistently conducted, but study findings to define relations between tourism motivation and tourism attractiveness of visiting place (capital) is hard to find  In this background, it is very meaningful to shed light on theoretical relationship between motivation and attractiveness factor by defining relation between motivation of chinese tourists visited Seoul and attractiveness factor of Seoul, thereby discussing attractiveness of chinese tourists, a major tourism market share in Korea and improving their satisfaction.   This study tries to find city tourism motivation and city tourism attractiveness based on preliminary study on city tourism motivation and city tourism attractiveness so that it can identify differences of attractiveness by motivation types of chinese tourists.   In this study, documentary study and empirical study were jointly conducted to successfully accomplish its goal of study. City tourism, city tourism motivation, relation between attractiveness and motivation of city tourism were reviewed in documentary study and a survey was conducted on chinese tourists visited Seoul in empirical study. Collected data were then statistically analyzed using SPSS. 12.0. For the analysis method, frequency analysis, factor analysis, confidence analysis, T-test, ANOVA, IPA(importance-satisfaction analysis), paired sample T verification cluster analysis, and multiple regression analysis was conducted.   Findings of this study is as follows. First, degree of importance on city tourism attractiveness factor was significantly different in 6 factors (cost, entertainment, culture, hospitality, tourism information, convenience) after validating research hypothesis. In case of cost, especially, degree of importance was emphasized on multi-purpose seeking group and city-experience type groups.   Second, it is said that there are differences on the degree of satisfaction on the attractiveness of city tourism depending on the motivation types of city tourism after validating hypothesis that satisfaction on attractiveness factor of city tourism is significantly different depending on motivation type of city tourism. In terms of cost, city experience type and multiple activity-seeking groups showed higher satisfaction.   Third, like previous study results, there are significant differences between level of importance of attractiveness factor and satisfaction after identifying differences between importance and satisfaction of attractiveness on city tourism. This study findings analyzed 'cost', 'entertainment', 'culture', 'tourism information' as significantly different factor and 'cost' and 'tourism information' showed lower satisfaction compared to its importance, which improvement should be made.   Fourth, after validating hypothesis that there are differences between the degree of importance and satisfaction on the attractiveness of city tourism depending on the motivation types of city tourism, motivation type groups showed differences in terms of cost and convenience factor. In case of 'cost', average differences between importance and satisfaction on the cost were bigger in city experience type, socialization-seeking type, multiple activity-seeking type among city tourism motivation type groups. Entertainment-seeking groups showed more satisfaction compared to its importances.   Finally, multiple regression analysis was conducted to identify how degree of satisfaction on the attractiveness of city tourism influence  intention on recommending city tourism. The findings showed that satisfaction on attractiveness of city tourism significantly influenced on intention on recommending city tourism, supporting preliminary study.   Based on these findings this study provide following suggestions.   First, this study focused on the attractiveness of city tourism which was not frequently researched compared to its importance amid rising influx of Chinese tourists visiting Seoul. Previous studies identified importance and satisfaction of attractiveness through demographic aspect, tourism behavior, types of tourist destination, lifestyle while this study identified attractiveness based on tourism motivation type, which is psychological variables.   Second, this study identified differences between importance and satisfaction on the attractiveness of city tourism depending on demographic factor, tourism behavior, city tourism motivation type. It closely and specifically analyzed how differences between importance and satisfaction on attractiveness occur in groups so that it can provide informative suggestions and operational method in managing city tourism attractions tailored to the needs of chinese tourists.  This study, however, has some limitations.  First, survey period on chinese tourists visited Seoul is confined to certain season, which did not apply seasonal factors in measuring attractiveness of city tourism.   Second, this study only analyzed the degree of importance and satisfaction when chinese tourists ended their trip to Seoul in measuring attractiveness of city tourism. For more accurate analysis, future research should analyze the degree of importance of city tourism before chinese tourists visit Seoul and satisfaction on the post-trip of Seoul  to produce more accurate study results.\n",
      "\n",
      "\n",
      "원문보기\n",
      "\n",
      "\n",
      "목차검색조회\n",
      "\n",
      "\n",
      "음성듣기\n",
      "\n",
      "\n",
      "8   관광지이미지가 방문의도에 미치는 영향-위험지각의 조절효과로-  BAO YANG 세종대학교 대학원 2018 국내석사  RANK : 27772927    원문보기 목차검색조회  음성듣기             21세기에 경제가 급속하게 발전하여 세계 여러 나라의 국민 소득수준이 빠르게 늘어나고 있다. 이에 현대인들이 여가에 대한 관심이 많아지고 해외여행의 열풍도 일으키고 있다. 그리고 많은 관광객들이 처음에 해외여행 갈 때 주변국으로 선호하는 라이프스타일 경향이 가지고 있다. \r",
      "   한편, 한류열풍에 따라 중국 아웃바운드 관광객들이 해외여행 갈 때는 한국이 관광목적지로 선호하여 방한 중국관광객들이 지속적으로 증가하고 있다. 반면, 2016년 7월 한미 양국이 경북 성주의 새로운 대지에 사드를 배치하는 데 합의하면서 중국 정부의 금한령이 이어진 방한 중국관광객 수량이 급격히 감소하게 된다. 이에 선행연구를 바탕으로 관광지이미지가 방문의도에 미치는 영향을 검정하여, 관광지이미지와 방문의도간의 관계에서 위험지각의 조절효과를 검정하는 것이 본연구의 목적으로 하였다. \r",
      "   실증조사를 위해 중국 광동성 심천시에 거주하는 잠재 중국인 관광객을 대상으로 인터넷 설문조사를 실시하였다. 설문지는 총 350부를 배포하여 유효적인 설문지가 339부를 회수하여 실증분석에 적용하였다.\r",
      "   수집된 자료의 분석은 통계프로그램 SPSS 22.0을 사용하여 빈도분석, 요인분석, 신뢰도 분석, 다중회귀분석, 위계적 회귀분석을 실시하였고 연구의 결과는 다음과 같다. \r",
      "  첫째, 관광지이미지의 5개 하위요인 중에 관광매력성이 방문의도에 미치는 영향을 유의하지 않지만 환경성, 상징성, 구조성, 접근성이 방문의도에 통계적으로 유의한 정(+)의 영향을 미치는 것으로 나타났다.\r",
      "   둘째, 관광지이미지와 방문의도의 관계에서 위험지각의 조절효과를 검증한 결과를 살펴보면 관광지이미지의 관광매력성 요인과 위험지각의 상호작용요인, 접근성 요인과 위험지각의 상호작용요인이 방문의도에 미치는 영향을 유의하지 않지만 관광지이미지의 환경성 요인과 위험지각의 상호작용요인, 상징성 요인과 위험지각의 상호작용요인, 구조성 요인과 위험지각의 상호작용요인이 방문의도에 통계적으로 유의한 부(-)의 영향을 미치는 것으로 나타났다.\r",
      "   도출된 결과를 토대로 중국관광객의 서울관광과 관련한 발전방향을 제시하고 한국관광사업에 유용한 시사점을 제공한다.\r",
      "\r",
      "\r",
      "\r",
      "\r",
      "\r",
      "\r",
      "\r",
      "\r",
      "\r",
      "\r",
      "\r",
      "\r",
      "\r",
      "\r",
      "\r",
      "\r",
      "\r",
      "\r",
      "주요어 : 관광지이미지, 방문의도, 위험지각 21st century the world's rapid economic development is rapidly increasing the level of national income in many countries around the world. As a result, people in modern times are more interested in leisure activities and are also experiencing a boom in overseas travel. On the other hand, many tourists tend to prefer a lifestyle to their neighbors when they first travel abroad.\r",
      "  on the one hand, the Korean Wave has led to an increasing number of Chinese tourists visiting Korea, as outbound Chinese tourists prefer to travel abroad as a tourist destination. On the other hand, as South Korea and the U.S. agreed to deploy the THAAD system on a new land in Seongju, North Gyeongsang Province in July 2016, the number of Chinese tourists to Korea, following the Chinese government's gold embargo, will drop sharply. Based on previous studies, the purpose of this study is to test the effect of tourist image on the visit intention and the moderating effect of perceived risk on the relationship between tourist image and visit intention.\r",
      "  For the purpose of empirical research, we conducted an internet survey of potential Chinese tourists living in Shenzhen city, Guangdong province, China. A total of 350 questionnaires were distributed and 339 copies of valid questionnaires were collected and applied to the empirical analysis.\r",
      "  Analysis of the collected data was conducted using the statistical program SPSS 22.0 for frequency analysis, factor analysis, reliability analysis, multiple regression and hierarchical regression, and the results of the study were as follows. \r",
      "  Firstly, among five sub-factors of tourist image tourism attractiveness on the visit intention was not significant, but the environmental, symbolic, structural, and accessibility had a statistically significant positive(+) effect on the visit intention.\r",
      "  Secondly, the results showed that the influence of tourism attractiveness factor and risk perception interaction factor, accessibility factor and risk perception interaction factor on visit intention was not significant, but the interaction factors between risk factors and environmental factors of tourism image, interaction factors between symbolic factors and risk perception, interaction factors between structural factors and risk perception have a statistically significant negative (-) effect on the visit intention.\r",
      "  Based on the results of this study, we suggest the direction of development related to Chinese tourists in Korea and provide useful information for the Korean tourism industry.\r",
      "\r",
      "\r",
      "\r",
      "\r",
      "\r",
      "\r",
      "\r",
      "\r",
      "\r",
      "\r",
      "\r",
      "\r",
      "\r",
      "\r",
      "\r",
      "\r",
      "\r",
      "\r",
      "\r",
      "\r",
      "Keywords: Tourist Image, Visit Intention, Risk Perception\n",
      "\n",
      "\n",
      "원문보기\n",
      "\n",
      "\n",
      "목차검색조회\n",
      "\n",
      "\n",
      "음성듣기\n",
      "\n",
      "\n",
      "9   지역관광브랜드와 지역애착도 및 브랜드 지지도의 관계 : 보령시 주민을 대상으로  박상규 순천향대학교 2011 국내박사  RANK : 27772927    원문보기 목차검색조회  음성듣기             지방자치제가 시행되면서 지역경제 활성화 방안의 하나로 각 지방자치단체는 지역관광브랜드에 심혈을 기울이고 있지만 지금까지 관광분야에서 지역관광브랜드 연구에 대한 논의는 아직 미미한 수준에 있다. 또한 지역관광브랜드 영향요인에 대하여 주민이 인식하는 애착도와 지지도에 대한 연구가 이루어지지 않고 있다.   따라서 본 연구는 지역관광브랜드의 개념을 정립하고, 지역주민이 인지하는 애착도 및 지지도에 대한 영향을 미치는 요인을 분석하는데 그 목적이 있다. 이러한 목적을 달성하기 위해 기존연구의 고찰을 통해 지역관광브랜드 영향요인인 경제적 요인, 사회적 요인, 문화적 요인, 환경적 요인을 도출하였고, 주민이 인지하는 애착도 및 지지도의 모형을 설정하여 실증분석을 통한 결과를 검증하여 이론적 체계를 구축하고, 그 결과를 토대로 향후 지역관광브랜드에서 인지하는 지역주민의 지지도관계를 제시하고자 한다.   먼저 문헌고찰을 통해 지역관광브랜드의 영향요인의 개념을 정립 하였다.기존 연구의 결과를 살펴보면 지역관광브랜드 영향요인에 따라 애착도 및 지지도의 영향은 각각 다르게 나타난 것을 알 수 있다.  본 연구의 실증분석을 통한 결과는 다음과 같다. 지역관광브랜드 영향요인과 애착도 및 지지도와의 관계를 구조방정식 모델링(Structural Equation Modeling)을 이용한 확인요인분석을 통해 검증하였고, 문항간의 일관성 여부를 판단하기 위한 신뢰성 분석을 실시하였다. 신뢰성 분석 결과, 심리적 웰빙 수준 요인, 여행소비행동 중 정보처리 항목, 여행소비행동 중 의사결정 항목, 여행소비행동 중 구매행동 항목의 경우 RMR, GFI, AGFI와 카이자승 통계모두 적합도가 있는 것으로 확인되었으며, 신뢰도 계수는 애착도, 관광브랜드 영향, 관광브랜드 지지도에서 각각 0.6553, 0.6142, 0.6289로 일반적 기준인 0.6을 초과하여 타당도와 신뢰도가 있는 것으로 판단하였다. 각각 측정된 관측 값의 수와 추정하고자 하는 변수의 수가 같은 포화모형이거나 추정해야할 변수의 수가 더 많은 부정모형으로 각각의 항목을 그대로 모형에 포함시켰다.  인과구조모형은 애착도가 관광브랜드에 대한 영향과 지지도 등의 인과분석과 내용을 검증하고자 구성되었다. 전반적인 적합도는 x2값이 3501.823(df =892, p<.001)로 높으며, x2의 경우 표본 수에 따라 민감하기 때문에 x2/df의 값으로 모형의 적합도를 평가하여 값이 5이하이면 적합한 것으로 평가할 수 있어서, 그 값이 2.025 정도로 유효한 모형으로 판단된다. 모형의 적합도를 평가하는 RMR, GFI, AGFI, NFI, CFI 모두 기준치를 넘거나 근접하고 있어 전체적인 모형의 적합도는 양호한 것으로 판단된다.  구조모형에서 분석된 결과 지역관광브랜드에 대한 영향 인지는 지역 애착도 및 관광브랜드에 대한 지지도 모두에게 정(+)의 영향을 미치는 것으로 나타났다(p<.05). 다만, 그 정도를 살펴보면 지역관광브랜드에 대한 영향 인지가 애착에 미치는 영향이 가장 강하게 나타났고, 지역관광브랜드에 대한 영향 인지가 관광브랜드 지지도에 미치는 영향이 그 다음으로 영향을 주는 것으로 나타났으며, 지역의 애착도는 지역관광브랜드에 대한 지지도에 비교적 낮은 영향관계를 보이는 것으로 나타났다. 또한 이 세 가지 요인은 모두 통계적으로 유의한 것으로 나타났다.  이러한 결과를 통해 해석한다면, 지역관광브랜드에 대한 영향을 인지한 사람들은 지역 애착을 강하게 하는 것으로 나타났고, 또한 지역관광브랜드를 지지 하는 것으로 나타난다. 물론, 지역의 애착도 역시 지역관광브랜드 지지도에 영향을 주기는 하지만, 이는 기존 선행연구에서 알려진 것과 달리, 지역 애착도가 지역관광브랜드에 대해 지지도를 보인다기보다는 지역관광브랜드에 대한 영향 인지 수준이 오히려 더 많은 지지도에 영향을 보이는 것이라 할 수 있다.  모형의 확인적 요인분석 결과, 애착도의 경우 생활 애착도의 경로계수가 1일 경우, 거주 애착도 1.201, 친목애착도 0.900 등 애착도는 거주 애착도, 생활 애착도, 친목 애착도 순으로 애착도 요인에 영향을 미치는 것으로 나타났다. 영향에 대한 태도에서는 경제적 영향의 경로계수가 1일 경우, 사회적 영향 0.997, 문화적 영향 0.889, 환경적 영향 -0.288 등으로 나타나, 영향에 대한 지지도에 높은 관계를 지니는 요인은 경제적 영향, 사회적 영향, 문화적 영향, 환경적 영향의 순으로 나타났다. 결국, 애착도의 경우에는 사람들이 거주에 대한 애착이 보다 깊을수록, 영향의 경우에는 경제적인 영향에 대한 인식이 높을수록 영향 전체에는 보다 높은 인과관계를 지니는 것을 알 수 있다.  이러한 결과는 보았을 때 가설 1. 지역관광브랜드 영향요인은 지역애착도에 유의한 영향을 미칠 것이다, 가설 2. 지역애착도는 브랜드지지도에 유의한 영향을 미칠 것이다, 가설 3. 지역관광브랜드의 영향요인은 브랜드지지도에 유의한 영향을 미칠 것 이라는 가설은 모두 채택되었다   본 연구의 결과 지역관광브랜드에 대한 지역주민의 지지는 전반적으로 높은 것으로 나타났으나 이중 사회적 인프라 및 지역의 환경, 미관 등의 개선에는 미미한 지지도를 보였다. 이는 지역주민이 지역브랜드 개선부분은 찬성하지만 무분별한 환경파괴 등 지역의 고유한 자원 훼손을 우려한다고 해석할 수 있다. 따라서 지역관광브랜드에 대한 지역주민의 부정적 지지를 긍정적으로 바꿔 나가기 위해서는 우선적으로 지역주민의 의견을 수렴하고 주민모두가 공감하고 협조할 수 있는 여건조성이 마련되어야 하며, 중앙정부와 각 지역  자치단체별로 보완된 브랜드정책이 수반되어야 함을 의미한다.   따라서 본 연구결과를 토대로 지역관광브랜드에 대하여 주민이 인지하는 영향에 관한 후속 연구가 지속적으로 이루어져야 할 것이다. 아울러 각 지역은 지역주민의 성향에 따라 지역정책 방향이 다를 수 있지만 개선과정에서 나타나는 지역에 대한 애착과 지지는 동일함을 인지하고 이에 따른 관리방안을 마련해야 할 것이다.   이에 본 연구는 지역관광브랜드의 영향요인들에 대하여 주민이 인지하는 지역애착도 및 브랜드지지도에 미치는 영향에 대한 관계를 구조적으로 접근하여 분석했다는 점에서 연구의 의의는 가진다고 할 수 있다.\n",
      "\n",
      "\n",
      "원문보기\n",
      "\n",
      "\n",
      "목차검색조회\n",
      "\n",
      "\n",
      "음성듣기\n",
      "\n",
      "\n",
      "10   중국인 관광객의 한국재방문에 관한 연구  김미연 경기대학교 일반대학원 2014 국내석사  RANK : 27772927    원문보기 목차검색조회  음성듣기             한․중 두 나라는 오래전부터 교류를 시작했으며, 특히 1992년 한중 외교관계를 설립한 후 한국과 중국은 경제적, 문화적 및 기타 측면에서 광범위한 협력을 수행하고 있다. 그중 관광산업도 힘차게 발전하고 있지만 ‘2011 외래 관광객 실태조사’에 따르면 외래 관광객 만족도에서 중국인 관광객 관광지 매력 만족도와 향 후 3년 내 관광 목적지 재방문 의도는 전체 외래객 평균점수보다 낮게 나타났다. 따라서 중국관광객들이 어떤 관광자원을 선호하는지와 어떠한 선호 관광자원이 관광만족도에 영향을 미치는지에 대해 연구가 필요해 보인다. 본 연구는 한국을 방문한 중국인 관광객을 대상으로 한국관광이미지와 정서적 관광이미지가 관광동기에 미치는 영향과 관광동기가 만족도 및 재방문의도에 어떠한 영향을 미치는지를 실증분석을 토대로 향후 중국인 잠재 관광객의 유치를 위한 방안과 전략을 제시하고자 한다. 이를 위해 본 연구는 2013년 9월20일부터 10월10일까지 약 3주에 걸쳐 한국을 방문한 중국인 관광객들을 대상으로 설문조사를 실시하였다. 본 연구의 연구결과를 요약하면 다음과 같다. 첫째, 한국을 방문한 중국인 관광객의 인구통계학적 특성으로는 먼저 중국인 관광객의 연령은 20대가 52.6%로 가장 많았으며, 65.4%를 차지한 여성이 남성에 비해 한국을 방문한 비율이 높은 것으로 나타났다. 또한 52.1%가 대학졸업자인 것으로 나타났다. 학생이 39.9%로 나타났으며 월 평균 수입이 3.000위안 이하가 제일 많은 것으로 나타났다. 둘째, 관광이미지와 정서적 이미지가 관광동기에 긍정적인 영향을 미치는 것으로 나타났다. 이는 관광이미지에 속한 인지적 관광이미지의 문화적인 매력과 풍부한 관광자원, 즐길거리가 풍부하고, 휴양시설과 숙박시설이 잘 되어 있는 요인과 정서적 관광이미지의 관광지가 청결하고 안전하며 서비스 제공자들이 친절 할수록 관광 동기에 영향을 미치는 것으로 밝혀졌다. 셋째, 관광동기가 만족도에 긍정적인 영향을 미치는 것으로 나타났다. 이는 문화적 동기의 유명한 곳, 관심있는 지역 방문, 역사와 전통문화의 이해, 전통음식을 맛보기 위해, 다양한 공연을 관람하기 위한 요인이 만족도에 영향을 미치는 것을 밝혀졌다. 마지막으로 만족도가 재방문 의도에 긍정적인 영향을 미치는 것으로 나타났다. 이는 관광동기가 만족도에 미치는 영향에 따라 재방문의도에 영향을 미치는 것으로 밝혀졌다. 본 연구의 한계점과 향후 연구방향은 다음과 같다. 첫째, 본 연구의 목적에 따라 연구대상자가 한국을 방문한 중국인 관광객을 대상으로 하였지만 연령층이 다양하지 못한 점에서 한계가 있다. 둘째, 설문지는 특정지역에서 한국을 방문한 여행객을 대상으로 조사함으로써 한국을 방문한 전체 관광객의 일반화에는 제한점들이 있다. 셋째, 관광이미지의 요인들이 다른 변수들간의 다양하지 못한 한계가 있다. 향후 연구에서는 다양한 연령층을 파악하기 위하여 단체 여행객과 선박을 통해 한국을 방문하는 관광객을 파악할 수 있도록 국제여객터미널까지 범위를 넓혀 연구할 필요성이 있다고 판단된다.\n",
      "\n",
      "\n",
      "원문보기\n",
      "\n",
      "\n",
      "목차검색조회\n",
      "\n",
      "\n",
      "음성듣기\n",
      "\n",
      "\n"
     ]
    }
   ],
   "source": [
    "#Step 5.학위 논문 선택하기\n",
    "driver.find_element_by_link_text('학위논문').click()\n",
    "time.sleep(2)\n",
    "\n",
    "#Step 6.Beautiful Soup 로 본문 내용만 추출하기\n",
    "from bs4 import BeautifulSoup\n",
    "html_1 = driver.page_source #현재 페이지의 전체 소스코드를 다 가져오기\n",
    "soup_1 = BeautifulSoup(html_1, 'html.parser')\n",
    "\n",
    "content_1 = soup_1.find('div','srchResultListW').find_all('li')\n",
    "for i in content_1 :\n",
    "    print(i.get_text().replace(\"\\n\",\" \").strip())\n",
    "    print(\"\\n\")"
   ]
  },
  {
   "cell_type": "code",
   "execution_count": 9,
   "metadata": {},
   "outputs": [
    {
     "name": "stdout",
     "output_type": "stream",
     "text": [
      "결과를 저장할 파일명을 쓰세요(예: c:\\temp\\riss.txt): c:\\temp\\riss.txt\n",
      "本&#35770;文&#24182;不是要把村民&#24403;做旅游&#32463;&#27982;&#21457;展的&#29306;牲品&#26469;看待,只是&#21333;&#32431;地根据&#35843;&#26597;&#32467;果,把旅游&#21457;展&#23545;旅游地的&#36127;面影&#21709;做一些分析。分析了旅游地居民之&#38388;、民族之&#38388;、旅游&#21457;展&#19982;文化&#20256;承之&#38388;存在的矛盾及影&#21709;,&#20174;而希望政府&#19982;企&#19994;積極消除旅游地的消&#26497;因素,制定相關的政策,&#20174;而使少&#25968;民族文化旅游能&#22815;得到保護和更快、更好的&#21457;展。5848;&#20030;止間流露出&#23545;&#20643;族&#22253;公司的抵觸情&#32210;。所以,&#31508;者認&#28858;,比起歌&#39042;政府、企業&#23545;&#24403;地旅游&#21457;展的正面影&#21709;,不如以旅游地居民的感知&#20026;主要方向進行&#30740;究更有意&#20041;。不可避免的,一些村民的想法比&#36739;偏激,&#23545;&#20643;族&#22253;公司或政府存有偏&#35265;。但是&#31508;者&#35748;&#20026;&#36825;更能反映&#29616;&#23454;&#29366;&#20917;,&#20174;而&#20026;少&#25968;民族的旅游&#21457;展提供一些有用的意見和建議。\n",
      "원문보기\n",
      "목차검색조회\n",
      "음성듣기\n",
      "2관광활동에 기반한 쇼핑스타일 세분화 연구권희정세종대학교2015국내박사RANK : 27772927원문보기목차검색조회음성듣기국내 관광시장의 가치관이 여가중심의 가치관으로 전환되면서 관광활동에 대한 욕구충족 방법 등이 다양화되고 있으며, 여행비용이나 여행횟수 등 양적 증가 양상을 보이고 있다. 이로 인해 특히 레저산업과 관련한 분야의 매출이 큰 폭으로 상승하는 등 쇼핑시장이 커다란 영향을 받고 있다. 여기에 더해서 관광산업과 쇼핑산업 분야에서 온라인 시장의 중요성이 커진 것 또한 주목할 반한 변화다. 이처럼 국내 관광활동의 성장과 변화가 쇼핑시장에 중요한 영향을 주고 있으며 두 산업 분야에서 변화의 중심에는 온라인 이용의 증가도 중요한 요소로 자리 잡았다.  그러나 쇼핑 및 관광 산업과 관련한 선행연구들을 검토해 본 결과 소비활동의 근간이 되는 소비자의 쇼핑스타일에 대한 관광 관련 연구는 찾아보기 힘들었으며, 관광활동과 관련한 쇼핑스타일을 세분화 한 연구 또한 매우 제한적 이였다. 따라서 본 연구는 관광활동유형을 이용한 쇼핑스타일에 대한 세분화된 특성을 알아보는 것으로 다음 4가지 목적을 중심으로 수행하였다. 첫째, 선호하는 관광활동유형이 쇼핑스타일에 어떠한 영향을 주고 있는지 파악하고, 둘째, 쇼핑스타일에 영향을 주는 관광활동유형에 따른 인구통계학적 특성을 파악함으로 마케팅 대상을 구체화 하도록 하였다. 셋째, 온·오프라인 쇼핑성향의 차이가 쇼핑스타일에 영향을 미치는지 확인하도록 하였으며 넷째, 관광활동이 쇼핑스타일에 영향을 미치는데 있어서 유행추구에 따라 어떠한 차이를 보이는지 확인하도록 하였다.    분석을 위한 표본은 온라인으로 수집하였으며 2014년 10월 18일부터 20일간 수집하였다. 총 466개의 표본이 모아졌고 그중 407개를 최종적으로 사용하였다. SPSS 20.0을 이용해 기초통계를 분석하였고, LIMDEP 8.0프로그램을 이용해 다항선택로짓(multinominal logit)모형과 우도비(likelihood tatio)검정을 실시하였다. 다항선택로짓모형을 이용해 종속변수인 쇼핑스타일의 결정요인을 파악하도록 하였으며, 우도비검정을 사용하여 유행추구를 중심으로 한 두 집단 간 차이를 분석하였다.연구결과를 통해 밝혀낸 시사점은 다음과 같다. 첫째, 선호하는 관광활동유형에 따라 쇼핑스타일은 상이한 영향을 받고 있는 것으로 나타나 이를 쇼핑시장의 마케팅 대상 정책에 이용할 수 있으며 고객확대 및 강화를 위한 세분화의 중요한 변수로 사용할 수 있음을 확인하였다. 둘째, 유흥과 관련한 관광활동을 선호하는 집단은 쇼핑활동에 가장 적극적이며 추구하는 스타일에 확신을 갖고 있어서 쇼핑시장에서 중요한 마케팅 대상임을 확인하였다. 또한 관광활동유형을 시장세분화 하여 좀 더 세부적인 마케팅 대상을 파악하였으며 유흥 관련 관광활동 선호 집단 중 40세 미만과 남성층이 더 중요하게 다뤄져야 함을 보여주었다. 셋째, 낮은 유행추구집단에서만 고품질형의 쇼핑스타일에 온라인 쇼핑성향이 유의한 결과를 보여 고품질로 충동적인 구매가 가능한 상품의 경우 홈쇼핑 등 온라인을 통한 마케팅 활동은 일부 집단에 더 효과적일 가능성을 제시하였다. 넷째 유행추구를 중심으로 두 집단 간 차이를 통해 같은 관광활동유형을 선호하더라도 유행을 추구하는 집단과 그렇지 않은 집단 간에 쇼핑스타일의 차이가 있음을 확인하였다. As the value of domestic tourism market has been switched to leisure oriented value, the way of satisfying desire of tourism activity has been diversified and also traveling cost and time have been increased in quantity. These changes made large influence to shopping industry, especially the sales of leasure industry related has risen a lot. On top of this change one of important change for both tourism industry and shopping industry is that the importance of on-line market is gradually growing. Like this it is proved that growth and change of domestic tourism activities gives important influence to shopping market, and at the center of these important change of two industries the increase of on-line use is included.But according to the reviewing result of previous studies related to tourism industry and shopping industry, the tourism related study for the consumer decision making style, which is the base of consumer activity, can hardly be found, and the studies of segmented shopping style related with tourism activity are very limited. Thus this study has focused on the following 4 purposes. First, the influence of preferred tourism activity type to consumer decision making style was apprehended. Second, the demographic characteristics of tourism activity type, influencing to consumer decision making style, is grasped to materialize marketing target. Third, the influence of shopping propensity difference between on-line and off-line to consumer decision making is defined. Fourth, the difference of influence of tourism activity to consumer decision making according to the pursuit of fashion is defined. As a conclusion this study is to review segmented characteristics of consumer decision making style using tourism activity type by reviewing two groups tourism activity type as of its pursuit of fashion life style as well as the influence of on-line and off-line propensity to consumer decision making style.The sample for analysis have been collected by on-line during for 20 days from Oct. 18, 2014. Total 466 samples were received and finally 407 samples have been used for the study. For analysis SPSS 20.0 is used for analyzing basic statistics, LIMDEP 8.0 program is used to verify multinominal logit model and likelihood ratio. The determinant of shopping style, a dependent variable, is grasped by using multinominal logit model, and the difference of two groups, focusing on pursuit of fashion, is analyzed by using verification of likelihood ratio.The implication points of this study according to the study result are as follows. First, it is proved that consumer decision making style has been influenced differently according to the preferred tourism activity type, so it also proves that tourism activity type can be used for marketing policy object of shopping market and also used for an important variable for segmentation of expansion and reinforcement of customers. Second, the group prefers consumer entertainment type, a tourism activity type, is the group most active in shopping activity and having confidence with desired style, so it is confirmed as an important marketing target for shopping market. Also the more detailed marketing target is grasped by market segmentation of tourism activity type, and it is proved that the male group under 40 years old should be treated more importantly. Third, only from low pursuit of fashion group, on-line shopping propensity gives significant influence to impulse high quality type shopping style, so it is proposed that on-line marketing activity, such as home shopping, would be more effective for high quality and impulse purchasing type goods. Fourth, though two groups prefer same tourism activity type, based on pursuit of fashion, the difference in shopping style between the group pursuit fashion and the other group is confirmed.\n",
      "원문보기\n",
      "목차검색조회\n",
      "음성듣기\n",
      "3관광기업 메세나(문화, 예술지원)활동이 조직몰입에 미치는 영향 : 조직문화, 조직공정성, 조직동일시의 조절효과를 중심으로윤종운경기대학교 일반대학원2011국내박사RANK : 27772927원문보기목차검색조회음성듣기21세기를 문화의 시대라고 표현 하는데는 문화가 개인생활에 중요한 영향을 미치고 있으며 사회발전의 원동력과 기반이 되고  문화적 창의성이 개인 및 국가사회의 가치 중심이 되는 시대이기 때문일 것이다. 이러한 문화의 중요성은 이윤추구의 목적을 가진 기업경영에까지 영향을 미치고 있으며 기업경영의 비영리부문인 사회공헌활동을 수행함으로 기업의 CSR(기업의 사회적 책임)일부를 담당하는 시대에 도래한 것이다. 특히 사회공헌활동의 중요한 부분을 차지하는 메세나(문화, 예술지원)활동은 기업의 경영이익을 사회에 환원하기를 기대하는 사회적인 요구와 함께 점차 증가 하고 있다.이러한 기업의 메세나(문화, 예술지원)활동이 기업의 입장에서 순수한 기부의 형태인 사회공헌활동에서 점점 변화되어 문화마케팅활동으로 더 나아가 현재에는 기업의 경영전략으로 활용되는 시기에 이르게 된 것이다. 현대사회에서의 기업의 CSR(기업의 사회적 책임)활동은 기업은 본연의 경제적인 책임 이외의 환경경영, 윤리경영, 사회공헌활동을 포함하여 기업이 사회제도로서 수행하여야할 비경제적 기업목적의 의미를 가지고 있으며 기업의 호감도, 명성, 브랜드, 기업문화, 등의 무형자산으로 기업의 가치를 높이는 중요한 요인이 되고 있다. 특히, 관광기업은 고객과의 빈번한 접촉을 통하여 종사원의 감정과 심리상태가 그대로 전달되고 서비스종사원의 영향력이 어느 산업보다도 크게 작용하는 지식노동력의 중요성을 가지고 있는 고차원적인 산업이다. 이러한 관광기업에서의 메세나(문화, 예술지원)활동은 종사원으로 하여금 기업이미지 개선을 통하여 회사에 대한 자부심과 애착을 갖게 하며 더 나아가 조직유효성에 긍정적인 영향을 미칠 것이며 이에 관광기업의 메세나(문화, 예술지원)활동에 대한 인적자원관리측면에서의 실증적인 성과와 효과에 대한 연구는 중요한 연구 자료가 있을 것으로 판단된다. 본 연구는 관광기업의 인적자원관리 측면에 초점을 두어 관광기업의 메세나(문화, 예술지원)활동이 관광기업에 종사하는 종사원들의 적극적이고 긍정적인 애착을 가지는 조직몰입에 어떠한 영향을 미치는지를 증명하고자 했다. 또한 조직의 환경과 특성, 조직행동의 중요한 변수로 작용하는 조직문화, 조직공정성, 조직동일시를 선정하여 관광기업의 메세나(문화, 예술지원)활동이 조직몰입에 미치는 영향에 어떻게 조절되는지를 밝히고자 하였다.이러한 연구가설을 검증하는데 설문지 조사를 통하여 수집하였고 연구대상은 우리나라의 관광기업 중 한국메세나협의회에 가입되어있는 관광기업과 메세나활동을 활발하게 하고 있는 관광기업을 모집단으로 정하였으며, 이 관광기업에 종사하는 구성원들을 대상으로 설문조사를 실시하였다. 2011년 2월15일-3월20일 까지 약 1개월에 걸쳐 수행하였으며 완성된 설문지는 320부를 배부하여 272부를 회수하였으나 회수된 설문지중 일관성이 없는 등 무성의한 설문지 41개를 제외하고 231부를 본 연구의 가설검증을 위한 자료로 활용하였다. 수집된 자료는 SPSS 12.0통계패키지 프로그램을 이용하여 빈도분석, 요인분석, 신뢰도분석, 다중회귀분석 등을 실시하였다. 그 결과는 다음과 같다.첫째, 관광기업메세나(문화, 예술지원)활동은 조직몰입에 긍정적인 영향을 미치는 것으로 나타났다. 관광기업메세나활동 중 조직몰입에 미치는 차이를 검증한 결과 CEO의 문화예술 인식, 문화적 종업원지원 활동, 문화적 사회공헌활동 순으로 조직몰입에 영향을 미치는 것으로 나타났다. 이는 관광기업의 메세나활동에 대해 종업원이 높게 지각할수록 조직몰입이 높아지는 것으로 볼 수 있다. 즉 기업의 문화적 사회공헌활동, 문화적 종업원지원 활동, CEO의 문화예술인식에 대해 높게 지각할수록 조직몰입이 높아진다고 볼 수 있다. 하지만 문화적 마케팅활동은 조직몰입에 통계적으로 유의한 영향을 미치지 못하였다. 둘째, 관광기업메세나활동이 조직몰입에 영향을 미칠 것이며 이에 관광기업메세나활동이 조직몰입에 미치는 영향에 조직문화의 조절효과를 검증하였다. 그 결과 조직문화의 조절효과에서 위계문화, 합리문화, 혁신문화는 관광기업의 메세나활동이 조직몰입에 미치는 영향에 조절되는 것으로 나타났으며 집단문화는 기각되었다. 구체적인 조직문화유형에 대한 조절효과는 위계문화에서는 문화적 마케팅활동이, 합리문화와 혁신문화에서는 문화적 사회공헌활동과 CEO의 문화예술인식이 조절되는 것으로 밝혀졌다. 그러나 집단문화에 대해 높게 지각할수록 조직몰입이 높아진다는 결과로 보아 집단문화는 조절변수보다는 독립변수로의 역할이 강하다는 결과를 얻게 되었다.셋째, 관광기업메세나활동이 조직몰입에 영향을 미칠 것이며 이에 관광기업메세나활동이 조직몰입에 미치는 영향에 조직공정성의 조절효과를 검증하였다. 그 결과 관광기업메세나활동 중 문화적 마케팅활동만이 조직몰입에 미치는 영향에 있어 분배공정성이 조절을 하는 것으로 나타났다. 특히, 조직공정성 중 분배공정성에 대해 높게 지각한다면 기업이 메세나활동을 하는데 있어 문화적 마케팅활동은 조직몰입을 더 높게 해준다는 결과를 얻게 되었다.  넷째, 관광기업메세나활동이 조직몰입에 영향을 미칠 것이며 이에 관광기업메세나활동이 조직몰입에 미치는 영향에 부분적으로 조직동일시의 조절효과를 검증하였다. 기업메세나활동 중 문화적 사회공헌활동, 문화적 마케팅활동, 문화적 종업원지원 활동 , CEO의 문화예술인식 4가지 요인 중에서 CEO의 문화예술인식만이 조직몰입에 미치는 영향에 있어 조직동일시가 조절을 하는 것으로 나타났다.본 연구는 일반기업에 대한 연구가 아니라 관광기업에 한정하여 연구된 점과 인적자원관리 측면에 중점을 두고 연구되었다는 점이 기존의 연구들과 다르다고 볼 수 있다. 그러나 한국메세나협의회 가입된 관광기업만을 표본으로 하였기에 일반화하는데 한계가 있으므로 향후 후속연구에서는  표본의 대상범위를 확대하여 연구가 되어야 할 것으로 판단된다.\n",
      "원문보기\n",
      "목차검색조회\n",
      "음성듣기\n",
      "Especially, it is considered that new factors such as experience related to eco-tourism should be improved to satisfy the desire of tourists visiting with a curiosity about the environment. stress relieving, etc. of eco- ourism, the service environment of eco-tourism should be improved.on.sary to diagnose eco-tourism motivation and attractiveness, to analyze the influence relationship between perceived value and Behavior intention, to understand interrelationship and to be formed in community for sustainable development of eco-tourism Marketing strategies that will be implemented in the future.\n",
      "원문보기\n",
      "음성듣기\n",
      "advancement of the country’s overall tourism competitiveness.ectly related toalourismisd lower levels include 21 and 62 items, respectively, followed by 85 specificint and model도시의 지속가능한 관광 발전을 도모할 수 있다는 것이다. 이러한 결과는 곧 국가 관광경쟁력 향상과 직결된다.으로는 기존 관광경쟁력 연구의 한계점을 보완하고 상대적으로 적은 연구가 진행되고 있는 도시 관광경쟁력 평가 연구의 지평을 넓혔다는데 그 가치가 있는 점이다. 가 지표와 모델을 최종 개발하였다. \n",
      "원문보기\n",
      "목차검색조회\n",
      "음성듣기\n",
      "6라스베이거스 관광 이미지가 선호도와 방문의도에 미치는 영향이문정경기대학교 관광전문대학원2011국내박사RANK : 27772927원문보기목차검색조회음성듣기본 연구에서는 연간 3천 6백만 명의 관광객들이 방문하는 세계 최고의 관광 도시인 라스베이거스에 대한 관광지 이미지 연구를 실시하고자 했다. 그간 라스베이거스에 대한 연구는 일반적 사항이나 카지노리조트, 게이밍 등에 집중되어 왔으며, 도시 자체에 대한 세분화된 이미지에 대한 인식이나 각각의 이미지가 선호도, 방문의도에 미치는 영향에 대한 연구는 제한적으로 이루어졌던 실정이므로, 본 연구에서는 라스베이거스에 대한 이미지를 인지적 이미지와 정서적 이미지로 나누고, 각각의 하위 요인들을 그룹화해 요인 간의 관계에 대한 분석을 실시하고, 다시 각 이미지가 선호도와 방문의도에 주는 영향을 살펴보았다.  분석 결과에 대한 시사점은 다음과 같다. 첫째, 테마호텔/카지노 이미지와 현대/동적 이미지와의 연관성이 높게 나타나, 향후 상품 개발 시 현대/동적인 이미지는 테마호텔/카지노와 함께 부각시키는 것이 관광객 유치에 도움이 될 것이라는 시사점을 도출했다. 또한, 테마호텔/카지노 이미지와 재미/흥미 이미지 간의 연관성도 높게 나타나, 카지노를 도박의 개념보다 놀이거리의 하나로 인식하는 경향을 보여줌으로써, 적절한 카지노 이미지의 배합은 라스베이거스가 가진 재미 이미지를 배가시킬 수 있을 것이라는 점을 시사했다.   둘째, 쇼핑 이미지는 현대/동적, 재미/흥미 이미지에 유의한 영향을 주지 않았고 라스베이거스에 대한 선호도와도 상관관계를 도출하지 못했지만, 방문의도 측면에서는 상당한 영향을 미치는 것으로 나타났다. 이는 라스베이거스의 쇼핑이 아직 고유의 관광 활동으로 인식되지 않았으나 쇼핑이라는 관광 활동 자체를 즐기고자 하는 관광객들의 욕구를 대변하는 것으로, 타 도시로 유입되는 쇼핑 관광객을 유치하기 위해서는 라스베이거스의 쇼핑 강점을 잠재 관광객들에게 어필해야 한다는 마케팅적 시사점을 도출했다.  셋째, 쇼 이미지는 안전/편리 이미지와는 (-)의 방향성을 보였으나, 방문의도와의 관계에서는 가장 많은 영향력을 행사하는 것으로 나타났다. 따라서 그간 형성된 라스베이거스의 쇼에 대한 퇴폐, 향락적 이미지를 탈피해, 예술적 측면이나 모든 연령이 함께 즐길 수 있는 쇼에 대한 집중 홍보를 통해 한국 관광객들의 인식을 변화시키는 것이 필요할 것이다.  넷째, 안전/편리 이미지와 선호도 및 방문의도 간 연관성이 높게 나타나, 도시 안전에 대한 잠재 관광객들의 관심을 대변했다. 이는 라스베이거스가 범죄와 환락의 도시로 미디어에 노출되고 있는 영향을 받은 것으로 해석할 수 있으며, 향후 관광객 유치를 위해서는 라스베이거스의 높은 안전 수준에 대한 강조가 중요하다는 점을 시사했다.   다섯째, 미 방문자와 기 방문자에 대한 차이 검증 결과, 쇼를 제외한 모든 요소에 대해 기 방문자의 수치가 더 높게 나타나, 방문 후에 라스베이거스의 이미지에 대한 긍정적 인식이 강화된다는 것을 보여주었다. 쇼 이미지에 대한 차이가 발견되지 않은 것은 공연 관람이 비언어 공연에 편중되었기 때문으로 보이는데, 라스베이거스 도시 마케팅 시 해외 관광객들은 언어 문제로 다양한 쇼 관람이 어려운 점을 감안해 비언어 공연의 다양화에 힘써야 할 것이다. 또한 안전/편리 이미지에 대해 기 방문자 측의 수치가 더 높게 나타난 점은 방문 경험 후에 라스베이거스의 도시 안전에 대한 확신을 갖게 되는 고무적인 결과를 보여준 것으로, 이를 토대로 미 방문자에게도 어필할 수 있는 안전한 이미지의 확립이 필요하다는 시사점을 도출했다.  여섯째, 일반적 설문사항에서 응답자의 80% 이상이 라스베이거스 방문 시 패키지 상품을 이용하지 않겠다고 밝혀 개별 관광객들에게 어필하고 있었으며, 체류기간을 묻는 질문에는 3박 이상이 60%로 비교적 오랜 시간 체류하고자 해 중장기 체류 관광객 중점으로 마케팅 방향을 설정할 것을 시사했다. The purpose of this study was to find the images of Las Vegas, worldwide top tourist destination welcoming more than 36 million visitors per year. Since most of previous studies were conducted for general information of Las Vegas, gaming or casino resort side, this study tried to specify representing images of Las Vegas by cognitive image and affective image and examine each image's association with preference on Las Vegas as well as visit intention.  The research is based on self-administered questionnaire disseminated from 20 to 30 September 2010 to Koreans in 20's and above residing in Seoul and Kyonggi area. Out of 300 copies of questionnaire distributed, 286 copies were used for analysis after excluding incomplete responses.  For detailed method, descriptive statistics was used for demographic characteristics analysis, exploratory factor analysis and Cronbach's alpha coefficient for reliability and validity test, correlation analysis and structural equation modeling for hypothesis test and independent t-test for comparison between visitors and non-visitors.  Through exploratory factor analysis, four cognitive images; resort/casino, natural spot/Grand Canyon, show, shopping and three affective images; modern/dynamic, safe/convenient, fun/interesting were extracted and analyzed further to verify the association between each image factor and its relation to preference and visit intention.  As a result, following points were found. First, resort/casino image was highly engaged with modern/dynamic image, so these two images are ideal for mixture when promoting Las Vegas product. Resort/casino image was also related to fun/interesting image which means appropriate inclusion of casino image will spur potential visitors on to consider Las Vegas as  destination of choice.  Second, even though shopping image was not related to modern/dynamic image, fun/interesting image nor preference on Las Vegas, it affected considerably on visit intention. This implies shopping in Las Vegas is not perceived as Las Vegas-only activity but shopping is still the top desirable activity while visiting the U. S. among Korean tourists. To solicit the traffic surged into other destinations, marketing strategy to appeal Las Vegas-only shopping component as well as diverse shopping opportunities should be developed.  Third, show image indicated reverse direction impact for safe/convenient image but was ranked as top factor for visit intention side. Las Vegas show was often considered as adult shows associated with sexual image due to negative exposures in on/off-line outlets. To overcome this image, more information on Las Vegas show, especially artistic shows and shows for all age groups should be available and promoted.  Fourth, safe/convenient image was ranked as top for preference as well as visit intention. This proves Korean tourists' attention on safety issue of Las Vegas. Though the safety level of Las Vegas is quite high, Koreans' perception is frequently attached to crime as media exposure has stressed on sin city image. To attract Korean tourists, safe environment should be emphasized when promoting Las Vegas.  Fifth, through comparative analysis for visitors and non-visitors, all factors excluding show image recorded high scores in visitors' side, which means Las Vegas' image is positively resided after visitation. The reason for no difference in show image side is assumed because shows Korean tourists enjoy are concentrated on non-verbal performances. To increase traffic seeking show component in Las Vegas, diversification of non-vernal performance is necessary to solicit tourists from non-Anglophone countries. However, encouraging result came out in safe/convenient image since visitors became confident about Las Vegas' safety after actual visitation. Based on this, Las Vegas needs to establish strong image focusing on safety to appeal non-visitors accordingly.  Sixth, over 80% of respondents answered they will not purchase package product when visiting Las Vegas, green light to Las Vegas, as there is a high chance FIT traffic skyrocketed after U. S. Visa Waiver Program launch will surge into Las Vegas to enjoy the itinerary of their own rather than traditional ready-made pattern. 60% of respondents expressed the stays in Las Vegas for more than three nights, which implies marketing strategy needs to be focused on mid/long-term stay tourists.  This study tried to find out association between cognitive image and affective image and its relation to preference and visit intention. While several meaningful results were found with suggestions for future marketing strategy, subsequent studies supplement the limitations are suggested to extend the finding from this research.  First, non-visitor ration was higher than visitors, so analysis focused on visitors was not conducted separately. Analysis for visitors especially for pre/post-visitation is necessary in future studies. Second, in-depth comparison between visitors and non-visitors is suggested to find further difference between two groups. Third, preference difference by each image was not analyzed. Theoretical scale development to examine each image's relation to preference is open to future researches.\n",
      "원문보기\n",
      "목차검색조회\n",
      "음성듣기\n",
      "7도시관광의 동기와 매력성에 관한 연구 : 중국인의 서울방문을 중심으로박인호제주대학교 대학원2011국내박사RANK : 27772927원문보기목차검색조회음성듣기In modern tourism, city plays a pivotal role as a hub of tourism and attraction in tourism phenomenon, filling the needs of tourists through various attractiveness. However, all tourist destinations or tourism city cannot satisfy tourists with various needs and motivations. It means  attractiveness factor as a tourism city is limited but it also means that  various tourist motivations exist and it provide as a clue that tourism motivation can influence choice of tourist cities.   Studies on the attractiveness of tourism motivation and city tourism were consistently conducted, but study findings to define relations between tourism motivation and tourism attractiveness of visiting place (capital) is hard to find  In this background, it is very meaningful to shed light on theoretical relationship between motivation and attractiveness factor by defining relation between motivation of chinese tourists visited Seoul and attractiveness factor of Seoul, thereby discussing attractiveness of chinese tourists, a major tourism market share in Korea and improving their satisfaction.   This study tries to find city tourism motivation and city tourism attractiveness based on preliminary study on city tourism motivation and city tourism attractiveness so that it can identify differences of attractiveness by motivation types of chinese tourists.   In this study, documentary study and empirical study were jointly conducted to successfully accomplish its goal of study. City tourism, city tourism motivation, relation between attractiveness and motivation of city tourism were reviewed in documentary study and a survey was conducted on chinese tourists visited Seoul in empirical study. Collected data were then statistically analyzed using SPSS. 12.0. For the analysis method, frequency analysis, factor analysis, confidence analysis, T-test, ANOVA, IPA(importance-satisfaction analysis), paired sample T verification cluster analysis, and multiple regression analysis was conducted.   Findings of this study is as follows. First, degree of importance on city tourism attractiveness factor was significantly different in 6 factors (cost, entertainment, culture, hospitality, tourism information, convenience) after validating research hypothesis. In case of cost, especially, degree of importance was emphasized on multi-purpose seeking group and city-experience type groups.   Second, it is said that there are differences on the degree of satisfaction on the attractiveness of city tourism depending on the motivation types of city tourism after validating hypothesis that satisfaction on attractiveness factor of city tourism is significantly different depending on motivation type of city tourism. In terms of cost, city experience type and multiple activity-seeking groups showed higher satisfaction.   Third, like previous study results, there are significant differences between level of importance of attractiveness factor and satisfaction after identifying differences between importance and satisfaction of attractiveness on city tourism. This study findings analyzed 'cost', 'entertainment', 'culture', 'tourism information' as significantly different factor and 'cost' and 'tourism information' showed lower satisfaction compared to its importance, which improvement should be made.   Fourth, after validating hypothesis that there are differences between the degree of importance and satisfaction on the attractiveness of city tourism depending on the motivation types of city tourism, motivation type groups showed differences in terms of cost and convenience factor. In case of 'cost', average differences between importance and satisfaction on the cost were bigger in city experience type, socialization-seeking type, multiple activity-seeking type among city tourism motivation type groups. Entertainment-seeking groups showed more satisfaction compared to its importances.   Finally, multiple regression analysis was conducted to identify how degree of satisfaction on the attractiveness of city tourism influence  intention on recommending city tourism. The findings showed that satisfaction on attractiveness of city tourism significantly influenced on intention on recommending city tourism, supporting preliminary study.   Based on these findings this study provide following suggestions.   First, this study focused on the attractiveness of city tourism which was not frequently researched compared to its importance amid rising influx of Chinese tourists visiting Seoul. Previous studies identified importance and satisfaction of attractiveness through demographic aspect, tourism behavior, types of tourist destination, lifestyle while this study identified attractiveness based on tourism motivation type, which is psychological variables.   Second, this study identified differences between importance and satisfaction on the attractiveness of city tourism depending on demographic factor, tourism behavior, city tourism motivation type. It closely and specifically analyzed how differences between importance and satisfaction on attractiveness occur in groups so that it can provide informative suggestions and operational method in managing city tourism attractions tailored to the needs of chinese tourists.  This study, however, has some limitations.  First, survey period on chinese tourists visited Seoul is confined to certain season, which did not apply seasonal factors in measuring attractiveness of city tourism.   Second, this study only analyzed the degree of importance and satisfaction when chinese tourists ended their trip to Seoul in measuring attractiveness of city tourism. For more accurate analysis, future research should analyze the degree of importance of city tourism before chinese tourists visit Seoul and satisfaction on the post-trip of Seoul  to produce more accurate study results.\n",
      "원문보기\n",
      "목차검색조회\n",
      "음성듣기\n",
      "Keywords: Tourist Image, Visit Intention, Risk Perceptionction of development related to Chinese tourists in Korea and provide useful information for the Korean tourism industry.ctor on visit intention was not significant, but the interaction factors between risk factors and environmental factors of tourism image, interaction factors between symbolic factors and risk perception, interaction factors between structural factors and risk perception have a statistically significant negative (-) effect on the visit intention.mage on the visit intention and the moderating effect of perceived risk on the relationship between tourist image and visit intention.\n",
      "원문보기\n",
      "목차검색조회\n",
      "음성듣기\n",
      "9지역관광브랜드와 지역애착도 및 브랜드 지지도의 관계 : 보령시 주민을 대상으로박상규순천향대학교2011국내박사RANK : 27772927원문보기목차검색조회음성듣기지방자치제가 시행되면서 지역경제 활성화 방안의 하나로 각 지방자치단체는 지역관광브랜드에 심혈을 기울이고 있지만 지금까지 관광분야에서 지역관광브랜드 연구에 대한 논의는 아직 미미한 수준에 있다. 또한 지역관광브랜드 영향요인에 대하여 주민이 인식하는 애착도와 지지도에 대한 연구가 이루어지지 않고 있다.   따라서 본 연구는 지역관광브랜드의 개념을 정립하고, 지역주민이 인지하는 애착도 및 지지도에 대한 영향을 미치는 요인을 분석하는데 그 목적이 있다. 이러한 목적을 달성하기 위해 기존연구의 고찰을 통해 지역관광브랜드 영향요인인 경제적 요인, 사회적 요인, 문화적 요인, 환경적 요인을 도출하였고, 주민이 인지하는 애착도 및 지지도의 모형을 설정하여 실증분석을 통한 결과를 검증하여 이론적 체계를 구축하고, 그 결과를 토대로 향후 지역관광브랜드에서 인지하는 지역주민의 지지도관계를 제시하고자 한다.   먼저 문헌고찰을 통해 지역관광브랜드의 영향요인의 개념을 정립 하였다.기존 연구의 결과를 살펴보면 지역관광브랜드 영향요인에 따라 애착도 및 지지도의 영향은 각각 다르게 나타난 것을 알 수 있다.  본 연구의 실증분석을 통한 결과는 다음과 같다. 지역관광브랜드 영향요인과 애착도 및 지지도와의 관계를 구조방정식 모델링(Structural Equation Modeling)을 이용한 확인요인분석을 통해 검증하였고, 문항간의 일관성 여부를 판단하기 위한 신뢰성 분석을 실시하였다. 신뢰성 분석 결과, 심리적 웰빙 수준 요인, 여행소비행동 중 정보처리 항목, 여행소비행동 중 의사결정 항목, 여행소비행동 중 구매행동 항목의 경우 RMR, GFI, AGFI와 카이자승 통계모두 적합도가 있는 것으로 확인되었으며, 신뢰도 계수는 애착도, 관광브랜드 영향, 관광브랜드 지지도에서 각각 0.6553, 0.6142, 0.6289로 일반적 기준인 0.6을 초과하여 타당도와 신뢰도가 있는 것으로 판단하였다. 각각 측정된 관측 값의 수와 추정하고자 하는 변수의 수가 같은 포화모형이거나 추정해야할 변수의 수가 더 많은 부정모형으로 각각의 항목을 그대로 모형에 포함시켰다.  인과구조모형은 애착도가 관광브랜드에 대한 영향과 지지도 등의 인과분석과 내용을 검증하고자 구성되었다. 전반적인 적합도는 x2값이 3501.823(df =892, p<.001)로 높으며, x2의 경우 표본 수에 따라 민감하기 때문에 x2/df의 값으로 모형의 적합도를 평가하여 값이 5이하이면 적합한 것으로 평가할 수 있어서, 그 값이 2.025 정도로 유효한 모형으로 판단된다. 모형의 적합도를 평가하는 RMR, GFI, AGFI, NFI, CFI 모두 기준치를 넘거나 근접하고 있어 전체적인 모형의 적합도는 양호한 것으로 판단된다.  구조모형에서 분석된 결과 지역관광브랜드에 대한 영향 인지는 지역 애착도 및 관광브랜드에 대한 지지도 모두에게 정(+)의 영향을 미치는 것으로 나타났다(p<.05). 다만, 그 정도를 살펴보면 지역관광브랜드에 대한 영향 인지가 애착에 미치는 영향이 가장 강하게 나타났고, 지역관광브랜드에 대한 영향 인지가 관광브랜드 지지도에 미치는 영향이 그 다음으로 영향을 주는 것으로 나타났으며, 지역의 애착도는 지역관광브랜드에 대한 지지도에 비교적 낮은 영향관계를 보이는 것으로 나타났다. 또한 이 세 가지 요인은 모두 통계적으로 유의한 것으로 나타났다.  이러한 결과를 통해 해석한다면, 지역관광브랜드에 대한 영향을 인지한 사람들은 지역 애착을 강하게 하는 것으로 나타났고, 또한 지역관광브랜드를 지지 하는 것으로 나타난다. 물론, 지역의 애착도 역시 지역관광브랜드 지지도에 영향을 주기는 하지만, 이는 기존 선행연구에서 알려진 것과 달리, 지역 애착도가 지역관광브랜드에 대해 지지도를 보인다기보다는 지역관광브랜드에 대한 영향 인지 수준이 오히려 더 많은 지지도에 영향을 보이는 것이라 할 수 있다.  모형의 확인적 요인분석 결과, 애착도의 경우 생활 애착도의 경로계수가 1일 경우, 거주 애착도 1.201, 친목애착도 0.900 등 애착도는 거주 애착도, 생활 애착도, 친목 애착도 순으로 애착도 요인에 영향을 미치는 것으로 나타났다. 영향에 대한 태도에서는 경제적 영향의 경로계수가 1일 경우, 사회적 영향 0.997, 문화적 영향 0.889, 환경적 영향 -0.288 등으로 나타나, 영향에 대한 지지도에 높은 관계를 지니는 요인은 경제적 영향, 사회적 영향, 문화적 영향, 환경적 영향의 순으로 나타났다. 결국, 애착도의 경우에는 사람들이 거주에 대한 애착이 보다 깊을수록, 영향의 경우에는 경제적인 영향에 대한 인식이 높을수록 영향 전체에는 보다 높은 인과관계를 지니는 것을 알 수 있다.  이러한 결과는 보았을 때 가설 1. 지역관광브랜드 영향요인은 지역애착도에 유의한 영향을 미칠 것이다, 가설 2. 지역애착도는 브랜드지지도에 유의한 영향을 미칠 것이다, 가설 3. 지역관광브랜드의 영향요인은 브랜드지지도에 유의한 영향을 미칠 것 이라는 가설은 모두 채택되었다   본 연구의 결과 지역관광브랜드에 대한 지역주민의 지지는 전반적으로 높은 것으로 나타났으나 이중 사회적 인프라 및 지역의 환경, 미관 등의 개선에는 미미한 지지도를 보였다. 이는 지역주민이 지역브랜드 개선부분은 찬성하지만 무분별한 환경파괴 등 지역의 고유한 자원 훼손을 우려한다고 해석할 수 있다. 따라서 지역관광브랜드에 대한 지역주민의 부정적 지지를 긍정적으로 바꿔 나가기 위해서는 우선적으로 지역주민의 의견을 수렴하고 주민모두가 공감하고 협조할 수 있는 여건조성이 마련되어야 하며, 중앙정부와 각 지역  자치단체별로 보완된 브랜드정책이 수반되어야 함을 의미한다.   따라서 본 연구결과를 토대로 지역관광브랜드에 대하여 주민이 인지하는 영향에 관한 후속 연구가 지속적으로 이루어져야 할 것이다. 아울러 각 지역은 지역주민의 성향에 따라 지역정책 방향이 다를 수 있지만 개선과정에서 나타나는 지역에 대한 애착과 지지는 동일함을 인지하고 이에 따른 관리방안을 마련해야 할 것이다.   이에 본 연구는 지역관광브랜드의 영향요인들에 대하여 주민이 인지하는 지역애착도 및 브랜드지지도에 미치는 영향에 대한 관계를 구조적으로 접근하여 분석했다는 점에서 연구의 의의는 가진다고 할 수 있다.\n",
      "원문보기\n",
      "목차검색조회\n",
      "음성듣기\n",
      "10중국인 관광객의 한국재방문에 관한 연구김미연경기대학교 일반대학원2014국내석사RANK : 27772927원문보기목차검색조회음성듣기한․중 두 나라는 오래전부터 교류를 시작했으며, 특히 1992년 한중 외교관계를 설립한 후 한국과 중국은 경제적, 문화적 및 기타 측면에서 광범위한 협력을 수행하고 있다. 그중 관광산업도 힘차게 발전하고 있지만 ‘2011 외래 관광객 실태조사’에 따르면 외래 관광객 만족도에서 중국인 관광객 관광지 매력 만족도와 향 후 3년 내 관광 목적지 재방문 의도는 전체 외래객 평균점수보다 낮게 나타났다. 따라서 중국관광객들이 어떤 관광자원을 선호하는지와 어떠한 선호 관광자원이 관광만족도에 영향을 미치는지에 대해 연구가 필요해 보인다. 본 연구는 한국을 방문한 중국인 관광객을 대상으로 한국관광이미지와 정서적 관광이미지가 관광동기에 미치는 영향과 관광동기가 만족도 및 재방문의도에 어떠한 영향을 미치는지를 실증분석을 토대로 향후 중국인 잠재 관광객의 유치를 위한 방안과 전략을 제시하고자 한다. 이를 위해 본 연구는 2013년 9월20일부터 10월10일까지 약 3주에 걸쳐 한국을 방문한 중국인 관광객들을 대상으로 설문조사를 실시하였다. 본 연구의 연구결과를 요약하면 다음과 같다. 첫째, 한국을 방문한 중국인 관광객의 인구통계학적 특성으로는 먼저 중국인 관광객의 연령은 20대가 52.6%로 가장 많았으며, 65.4%를 차지한 여성이 남성에 비해 한국을 방문한 비율이 높은 것으로 나타났다. 또한 52.1%가 대학졸업자인 것으로 나타났다. 학생이 39.9%로 나타났으며 월 평균 수입이 3.000위안 이하가 제일 많은 것으로 나타났다. 둘째, 관광이미지와 정서적 이미지가 관광동기에 긍정적인 영향을 미치는 것으로 나타났다. 이는 관광이미지에 속한 인지적 관광이미지의 문화적인 매력과 풍부한 관광자원, 즐길거리가 풍부하고, 휴양시설과 숙박시설이 잘 되어 있는 요인과 정서적 관광이미지의 관광지가 청결하고 안전하며 서비스 제공자들이 친절 할수록 관광 동기에 영향을 미치는 것으로 밝혀졌다. 셋째, 관광동기가 만족도에 긍정적인 영향을 미치는 것으로 나타났다. 이는 문화적 동기의 유명한 곳, 관심있는 지역 방문, 역사와 전통문화의 이해, 전통음식을 맛보기 위해, 다양한 공연을 관람하기 위한 요인이 만족도에 영향을 미치는 것을 밝혀졌다. 마지막으로 만족도가 재방문 의도에 긍정적인 영향을 미치는 것으로 나타났다. 이는 관광동기가 만족도에 미치는 영향에 따라 재방문의도에 영향을 미치는 것으로 밝혀졌다. 본 연구의 한계점과 향후 연구방향은 다음과 같다. 첫째, 본 연구의 목적에 따라 연구대상자가 한국을 방문한 중국인 관광객을 대상으로 하였지만 연령층이 다양하지 못한 점에서 한계가 있다. 둘째, 설문지는 특정지역에서 한국을 방문한 여행객을 대상으로 조사함으로써 한국을 방문한 전체 관광객의 일반화에는 제한점들이 있다. 셋째, 관광이미지의 요인들이 다른 변수들간의 다양하지 못한 한계가 있다. 향후 연구에서는 다양한 연령층을 파악하기 위하여 단체 여행객과 선박을 통해 한국을 방문하는 관광객을 파악할 수 있도록 국제여객터미널까지 범위를 넓혀 연구할 필요성이 있다고 판단된다.\n",
      "원문보기\n",
      "목차검색조회\n",
      "음성듣기\n",
      "\n",
      "요청하신 데이터 수집 작업이 정상적으로 완료되었습니다\n",
      "수집된 결과는 c:\\temp\\riss.txt 에 저장되었습니다\n"
     ]
    }
   ],
   "source": [
    "#Step 7. 표준 출력 방향을 바꾸어 txt 파일에 저장하기\n",
    "import sys \n",
    "f_name = input('결과를 저장할 파일명을 쓰세요(예: c:\\\\temp\\\\riss.txt): ')\n",
    "\n",
    "for i in content_1 :  \n",
    "    file = open(f_name , 'a' , encoding='UTF-8')\n",
    "    print(i.get_text().replace(\"\\n\",\"\"))\n",
    "    file.write('\\n'+ i.get_text())\n",
    "    file.close()    \n",
    "\n",
    "print()\n",
    "print('요청하신 데이터 수집 작업이 정상적으로 완료되었습니다')\n",
    "print('수집된 결과는 %s 에 저장되었습니다' %f_name)"
   ]
  },
  {
   "cell_type": "code",
   "execution_count": null,
   "metadata": {},
   "outputs": [],
   "source": []
  }
 ],
 "metadata": {
  "kernelspec": {
   "display_name": "Python 3 (ipykernel)",
   "language": "python",
   "name": "python3"
  },
  "language_info": {
   "codemirror_mode": {
    "name": "ipython",
    "version": 3
   },
   "file_extension": ".py",
   "mimetype": "text/x-python",
   "name": "python",
   "nbconvert_exporter": "python",
   "pygments_lexer": "ipython3",
   "version": "3.7.5"
  }
 },
 "nbformat": 4,
 "nbformat_minor": 2
}
