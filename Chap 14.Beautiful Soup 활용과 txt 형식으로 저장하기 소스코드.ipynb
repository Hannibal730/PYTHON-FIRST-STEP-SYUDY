{
 "cells": [
  {
   "cell_type": "code",
   "execution_count": null,
   "metadata": {},
   "outputs": [],
   "source": [
    "# f12로 개발자도구 열면 <태그 속성=속성값> 나옴\n",
    "# 내가 찾고자 하는 데이터가 홈페이지 상에서 무슨 태그로 존재하는지 알아야 함.\n",
    "# 태그 이름을 적을 때 그 태그가 청와대처럼 하나뿐인 태그라면 쉽게 찾아갈 수 있음.\n",
    "# 근데 역삼동처럼 흔한 이름이면 그것만으로는 못 찾아감. 이럴 때는 앞에 강남구 역삼동이라고 앞에 다른 태그를 붙여줘야 함\n",
    "# 상위하위 태그는 위 아래로 결정되는 게 아니라 들여쓰기 정도로 결정됨.\n",
    "# 상위태그만 입력해버리면 그 밑에 하위태그를 전부 다 가져와버림.\n",
    "# 그러니 하위태그를 중심으로 구체적으로 콕콕 써줘야 함.\n"
   ]
  },
  {
   "cell_type": "code",
   "execution_count": null,
   "metadata": {},
   "outputs": [],
   "source": [
    "#Beautiful Soup 예제 1\n",
    "from bs4 import BeautifulSoup\n",
    "ex1 = '''\n",
    "<html>\n",
    "    <head>\n",
    "        <title> HTML 연습 </title>\n",
    "    </head>\n",
    "    <body>\n",
    "        <p align=\"center\"> text 1 </p>\n",
    "        <img src=\"c:\\\\temp\\\\image\\\\솔개.png\">\n",
    "    </body>\n",
    "<html> '''\n",
    "\n",
    "soup = BeautifulSoup(ex1, 'html.parser')   # 뷰숲에게 데이터를 먼저 제공해주는 파싱과정이다. 뷰숩은 이 데이터 속에서 내가 주문한 거를 가져옴.\n",
    "print( soup.find('title') )    # 태그이름 타이틀을 찾아라.\n",
    "print( soup.find('p') )        # 태그이름 p를 찾아라."
   ]
  },
  {
   "cell_type": "code",
   "execution_count": null,
   "metadata": {},
   "outputs": [],
   "source": [
    "#Beautiful Soup 예제 2\n",
    "from bs4 import BeautifulSoup\n",
    "ex1 = '''\n",
    "<html>\n",
    "    <head>\n",
    "        <title> HTML 연습 </title>\n",
    "    </head>\n",
    "    <body>\n",
    "        <p align=\"center\"> text 1 </p>\n",
    "        <p align=\"right\"> text 2 </p>\n",
    "        <p align=\"left\"> text 3 </p>\n",
    "        <img src=\"c:\\\\temp\\\\image\\\\솔개.png\">\n",
    "    </body>\n",
    "<html> '''\n",
    "\n",
    "soup = BeautifulSoup(ex1, 'html.parser')  #파싱\n",
    "print( soup.find('p') )                     # find의 특징은 이처럼 p태그가 여러개일 때 첫번째 것만 가져옴.\n",
    "print( soup.find('p',align=\"right\") )       # 태그의 속성값을 같이 써서 정확하게 가져오려하는 경우."
   ]
  },
  {
   "cell_type": "code",
   "execution_count": null,
   "metadata": {},
   "outputs": [],
   "source": [
    "# find_all은 해당 태그를 전부 다 리스트로 가져옴\n",
    "# 인덱싱으로 하나씩 가져오기도 함\n",
    "\n",
    "print( soup.find_all('p') )\n",
    "print( soup.find_all('p')[0] )\n",
    "print( soup.find_all('p')[1] )\n",
    "print( soup.find_all('p')[2] )"
   ]
  },
  {
   "cell_type": "code",
   "execution_count": 5,
   "metadata": {},
   "outputs": [],
   "source": [
    "#select( ) 함수 사용하기\n",
    "# 연습용 html 만들기\n",
    "ex2='''\n",
    "<html>\n",
    "    <head>\n",
    "        <h1> 사야할 과일\n",
    "    </head>\n",
    "    <body>\n",
    "        <h1> 시장가서 사야할 과일 목록\n",
    "            <div><p id='fruit1' class='name1' title='바나나'> 바나나\n",
    "                <span class='price'> 3000원 </span>\n",
    "                <span class='count'> 10개 </span>\n",
    "                <span class='store'> 바나나가게 </span>\n",
    "                <a href='https://www.banana.com'> banana.com </a>\n",
    "                </p>\n",
    "            </div>\n",
    "             <div><p id='fruit2' class='name2' title='체리'> 체리\n",
    "                <span class='price'> 100원 </span>\n",
    "                <span class='count'> 50개 </span>\n",
    "                <span class='store'> 체리가게 </span>\n",
    "                <a href='https://www.cherry.com'> cherry.com </a>\n",
    "                </p>\n",
    "            </div>\n",
    "             <div><p id='fruit3' class='name3' title='오렌지'> 오렌지\n",
    "                <span class='price'> 500원 </span>\n",
    "                <span class='count'> 20개 </span>\n",
    "                <span class='store'> 오렌지가게 </span>\n",
    "                <a href='https://www.orange.com'> banana.com </a>\n",
    "                </p>\n",
    "            </div>\n",
    "        </body>\n",
    "    </html> '''           "
   ]
  },
  {
   "cell_type": "code",
   "execution_count": 6,
   "metadata": {},
   "outputs": [
    {
     "data": {
      "text/plain": [
       "[<p class=\"name1\" id=\"fruit1\" title=\"바나나\"> 바나나\n",
       "                 <span class=\"price\"> 3000원 </span>\n",
       " <span class=\"count\"> 10개 </span>\n",
       " <span class=\"store\"> 바나나가게 </span>\n",
       " <a href=\"https://www.banana.com\"> banana.com </a>\n",
       " </p>,\n",
       " <p class=\"name2\" id=\"fruit2\" title=\"체리\"> 체리\n",
       "                 <span class=\"price\"> 100원 </span>\n",
       " <span class=\"count\"> 50개 </span>\n",
       " <span class=\"store\"> 체리가게 </span>\n",
       " <a href=\"https://www.cherry.com\"> cherry.com </a>\n",
       " </p>,\n",
       " <p class=\"name3\" id=\"fruit3\" title=\"오렌지\"> 오렌지\n",
       "                 <span class=\"price\"> 500원 </span>\n",
       " <span class=\"count\"> 20개 </span>\n",
       " <span class=\"store\"> 오렌지가게 </span>\n",
       " <a href=\"https://www.orange.com\"> banana.com </a>\n",
       " </p>]"
      ]
     },
     "execution_count": 6,
     "metadata": {},
     "output_type": "execute_result"
    }
   ],
   "source": [
    "# select('태그이름')\n",
    "soup2 = BeautifulSoup(ex2 , 'html.parser')\n",
    "\n",
    "soup2.select('p')"
   ]
  },
  {
   "cell_type": "code",
   "execution_count": 7,
   "metadata": {},
   "outputs": [
    {
     "data": {
      "text/plain": [
       "[<p class=\"name1\" id=\"fruit1\" title=\"바나나\"> 바나나\n",
       "                 <span class=\"price\"> 3000원 </span>\n",
       " <span class=\"count\"> 10개 </span>\n",
       " <span class=\"store\"> 바나나가게 </span>\n",
       " <a href=\"https://www.banana.com\"> banana.com </a>\n",
       " </p>]"
      ]
     },
     "execution_count": 7,
     "metadata": {},
     "output_type": "execute_result"
    }
   ],
   "source": [
    "#select(''.클래스이름')\n",
    "soup2.select(' .name1 ')"
   ]
  },
  {
   "cell_type": "code",
   "execution_count": 24,
   "metadata": {},
   "outputs": [
    {
     "data": {
      "text/plain": [
       "[<span class=\"price\"> 3000원 </span>,\n",
       " <span class=\"count\"> 10개 </span>,\n",
       " <span class=\"\" store'=\"\"> 바나나가게 </span>,\n",
       " <span class=\"price\"> 100원 </span>,\n",
       " <span class=\"count\"> 50개 </span>,\n",
       " <span class=\"\" store'=\"\"> 체리가게 </span>,\n",
       " <span class=\"price\"> 500원 </span>,\n",
       " <span class=\"count\"> 20개 </span>,\n",
       " <span class=\"\" store'=\"\"> 오렌지가게 </span>]"
      ]
     },
     "execution_count": 24,
     "metadata": {},
     "output_type": "execute_result"
    }
   ],
   "source": [
    "#select(‘ 상위태그 > 하위태그 > 하위태그‘ )  #부등호 앞뒤로 공백 들어가는 게 포인트.\n",
    "soup2.select(' div > p > span')"
   ]
  },
  {
   "cell_type": "code",
   "execution_count": 25,
   "metadata": {},
   "outputs": [
    {
     "data": {
      "text/plain": [
       "<span class=\"price\"> 3000원 </span>"
      ]
     },
     "execution_count": 25,
     "metadata": {},
     "output_type": "execute_result"
    }
   ],
   "source": [
    "#select(‘ 상위태그 > 하위태그 > 하위태그‘ )\n",
    "soup2.select(' div > p > span')[0]"
   ]
  },
  {
   "cell_type": "code",
   "execution_count": 26,
   "metadata": {},
   "outputs": [
    {
     "data": {
      "text/plain": [
       "<span class=\"count\"> 10개 </span>"
      ]
     },
     "execution_count": 26,
     "metadata": {},
     "output_type": "execute_result"
    }
   ],
   "source": [
    "#select(‘ 상위태그 > 하위태그 > 하위태그‘ )\n",
    "soup2.select(' div > p > span')[1]"
   ]
  },
  {
   "cell_type": "code",
   "execution_count": 27,
   "metadata": {},
   "outputs": [
    {
     "data": {
      "text/plain": [
       "<span class=\"\" store'=\"\"> 바나나가게 </span>"
      ]
     },
     "execution_count": 27,
     "metadata": {},
     "output_type": "execute_result"
    }
   ],
   "source": [
    "#select(‘ 상위태그 > 하위태그 > 하위태그‘ )\n",
    "soup2.select(' div > p > span')[2]"
   ]
  },
  {
   "cell_type": "code",
   "execution_count": 32,
   "metadata": {},
   "outputs": [
    {
     "data": {
      "text/plain": [
       "[<span class=\"store\"> 바나나가게 </span>]"
      ]
     },
     "execution_count": 32,
     "metadata": {},
     "output_type": "execute_result"
    }
   ],
   "source": [
    "# select(‘상위태그.클래스이름 > 하위태그.클래스이름’)\n",
    "soup2.select(' p.name1 > span.store ')"
   ]
  },
  {
   "cell_type": "code",
   "execution_count": 34,
   "metadata": {},
   "outputs": [
    {
     "data": {
      "text/plain": [
       "[<p class=\"name1\" id=\"fruit1\" title=\"바나나\"> 바나나\n",
       "                 <span class=\"price\"> 3000원 </span>\n",
       " <span class=\"count\"> 10개 </span>\n",
       " <span class=\"store\"> 바나나가게 </span>\n",
       " <a href=\"https://www.banana.com\"> banana.com </a>\n",
       " </p>]"
      ]
     },
     "execution_count": 34,
     "metadata": {},
     "output_type": "execute_result"
    }
   ],
   "source": [
    "# select(‘#아이디명”)\n",
    "soup2.select(' #fruit1')"
   ]
  },
  {
   "cell_type": "code",
   "execution_count": 37,
   "metadata": {},
   "outputs": [
    {
     "data": {
      "text/plain": [
       "[<span class=\"store\"> 바나나가게 </span>]"
      ]
     },
     "execution_count": 37,
     "metadata": {},
     "output_type": "execute_result"
    }
   ],
   "source": [
    "# select(‘#아이디명 > 태그명.클래스명)\n",
    "soup2.select(' #fruit1 > span.store')"
   ]
  },
  {
   "cell_type": "code",
   "execution_count": 38,
   "metadata": {},
   "outputs": [
    {
     "data": {
      "text/plain": [
       "[<a href=\"https://www.banana.com\"> banana.com </a>,\n",
       " <a href=\"https://www.cherry.com\"> cherry.com </a>,\n",
       " <a href=\"https://www.orange.com\"> banana.com </a>]"
      ]
     },
     "execution_count": 38,
     "metadata": {},
     "output_type": "execute_result"
    }
   ],
   "source": [
    "# select(‘태그명[속성1=값1]’)\n",
    "soup2.select('a[href]')"
   ]
  },
  {
   "cell_type": "code",
   "execution_count": 39,
   "metadata": {},
   "outputs": [
    {
     "data": {
      "text/plain": [
       "<a href=\"https://www.banana.com\"> banana.com </a>"
      ]
     },
     "execution_count": 39,
     "metadata": {},
     "output_type": "execute_result"
    }
   ],
   "source": [
    "# select(‘태그명[속성1=값1]’)\n",
    "soup2.select('a[href]')[0]"
   ]
  },
  {
   "cell_type": "code",
   "execution_count": 8,
   "metadata": {},
   "outputs": [
    {
     "name": "stdout",
     "output_type": "stream",
     "text": [
      " 바나나                 3000원  10개  바나나가게  banana.com \n",
      " 체리                 100원  50개  체리가게  cherry.com \n",
      " 오렌지                 500원  20개  오렌지가게  banana.com \n"
     ]
    }
   ],
   "source": [
    "# 태그 뒤의 텍스트만 추출하기 \n",
    "txt3 = soup2.find_all('p')\n",
    "for i in txt3 :\n",
    "    print(i.get_text().replace('\\n','') )   #get_text()는 태그말고 뒤에 택스트만 가져오는데, 많이 쓰는 기능"
   ]
  },
  {
   "cell_type": "code",
   "execution_count": null,
   "metadata": {},
   "outputs": [],
   "source": []
  },
  {
   "cell_type": "code",
   "execution_count": 10,
   "metadata": {},
   "outputs": [
    {
     "name": "stdout",
     "output_type": "stream",
     "text": [
      "====================================================================================================\n",
      " 이 크롤러는 RISS 사이트의 논문 및 학술자료 수집용 웹크롤러입니다.\n",
      "====================================================================================================\n",
      "\n",
      "\n"
     ]
    }
   ],
   "source": [
    "# Step 1. 필요한 모듈을 로딩합니다\n",
    "from selenium import webdriver\n",
    "from selenium.webdriver.common.by import By\n",
    "from selenium.webdriver.chrome.service import Service\n",
    "import time\n",
    "\n",
    "# 사용자에게 검색 관련 정보들을 입력 받습니다.\n",
    "print(\"=\" * 100)\n",
    "print(\" 이 크롤러는 RISS 사이트의 논문 및 학술자료 수집용 웹크롤러입니다.\")\n",
    "print(\"=\" * 100)\n",
    "query_txt = input('1.수집할 자료의 키워드는 무엇입니까?(여러개일 경우 , 로 구분하여 입력): ')\n",
    "print(\"\\n\")\n",
    "\n",
    "# 크롬 드라이버 설정 및 웹 페이지 열기\n",
    "chrome_path = \"C:/temp/chromedriver.exe\"\n",
    "service = Service(chrome_path)\n",
    "driver = webdriver.Chrome(service=service)\n",
    "\n",
    "url = 'http://www.riss.kr/'\n",
    "driver.get(url)  # 사이트에 접속하라는 의미\n",
    "time.sleep(5)    # 5초 동안 기다리라는 의미. 페이지가 열리는 5초 동안 기다리라는 의미.\n",
    "\n",
    "\n",
    "\n",
    "#Step 4. 자동으로 검색어 입력 후 조회하기\n",
    "\n",
    "#웹드라이버로 들어간다음, F12, 좌측상단 파란 화살표로 '검색창'을 눌러서 id, name, xpath 셋 중 하나를 찾아야 함.\n",
    "#riss.kr에서 위 과정을 해본 결과, 검색창의 id와 name은 'query'였다.\n",
    "\n",
    "element = driver.find_element(By.ID, \"query\")  \n",
    "element.click()  # .click()은 검색창을 한 번 눌러서 활성화시키라는 의미이다.\n",
    "element.send_keys(query_txt)  # send_keys()는 타자치라는 의미이다.\n",
    "element.send_keys(\"\\n\")  # \\n는 엔터를 치라는 의미이다.\n"
   ]
  },
  {
   "cell_type": "code",
   "execution_count": 12,
   "metadata": {},
   "outputs": [
    {
     "name": "stdout",
     "output_type": "stream",
     "text": [
      " As a result, the scenarios proposed in this study were found to be representative of autonomous control transition situations, and the results of the simulator experiments were consistent with previous studies. The significance of this study is that it provides the possibility of comparing the results of various studies utilizing safety factors and scenarios of autonomous driving control transition. However, since this study was conducted using a driving simulator, it is necessary to verify the validity of the results by comparing them with real-world experiments in the future. 미국 자동차공학회(SAE; Society of Automotive Engineers)에 따르면 자율주행 레벨 3은 운전자가 부분적으로 전방 주시 의무에서 벗어날 수 있는 차량으로, 주행 중 자율주행 모드와 운전자 직접 운행 모드로 전환 할 수 있는 안전 메커니즘을 갖추고 있다. 이러한 자율주행 레벨 3단계에 서는 갑작스러운 위험 상황에서 제어권 모드가 전환될 때 운전자의 상태 에 따라 사고가 발생할 수 있으므로, 안정적인 제어권 전환이 중요한 요 소로 간주된다. 이런 점에서, 운전자의 상황인지(SA; Situation Awareness) 와 제어권 전환에 따른 운전 능력에 관한 연구가 필요하다. 자율주행 제어권 전환에서 나타나는 문제점으로 인해 제어권 전환의 안전성 평가에 대한 연구가 진행되어 왔지만, 아직은 관련 기준과 연구 결과가 부족한 상황이다. 특히, 운전자의 특성을 반영한 평가 방법과 일 반화 가능한 기준 시나리오의 부재가 제어권 전환 안전성 연구의 한계로 지적되고 있다. 이를 고려해, 본 연구에서는 자율주행 레벨 3의 제어권 전환 상황을 대표하는 기준 시나리오를 제안하고, 성별과 연령 등의 인적 요인을 고려하여 시나리오 기반 제어권 전환 안전성 요인을 도출하였다. 이를 위해 먼저 자율주행 자동차의 정의, 가이드라인 및 선행 연구를 분석하여 시나리오를 도출하였으며, 이 과정에서 긴급성, 예측가능성, 위 험도, 운전자 반응의 측면을 고려한 기준 시나리오 5종을 제안하였다. 제 안된 시나리오에는 1건의 계획된 시나리오(planned scenario)와 4건의 계 획되지 않은 시나리오(unplanned scenario), 즉 차선 인식 불량, 전방의 사 고 구간 발생 등이 포함되어 있으며, 이를 바탕으로 시뮬레이터 실험을 설계하여 제어권 전환의 안전성 평가를 진행하였다. 총 32명이 참여한 시뮬레이터 실험 결과, 본 연구에서 제시한 자율주 행 제어권 전환 안전성 평가 시나리오는 긴급성(Urgency), 위험성 (Criticality), 시간 적절성(Time budget), 정신적 부담(Mental workload), 신 체적 부담(Physical workload) 측면에서 상, 중, 하의 난이도를 대표할 수 있는 시나리오인 것으로 확인되었다. 또한 자율주행 제어권 전환과 인적 요인(연령, 성별)이 운전자의 수행 도에 미치는 영향을 분석한 결과, 연령과 상황별 시나리오가 브레이크 반 응시간(BRT; Brake Reaction Time)과 차선유지 능력(SDLP; S.D. of Lateral Position)에 유의한 영향을 미치는 것으로 나타났다. 운전자의 스트레스나 긴장감을 나타내는 지표인 심박수 표준편차(SDHR; S.D. of Heart Rate)에 서는 연령과 성별 간의 교호작용이 유의한 것으로 드러났으며, 특히 여성 고령 운전자의 경우 돌발 상황에서 더 높은 스트레스와 긴장감을 보이며 부정적인 사용자 경험을 갖게 될 수 있음이 확인되었다. 결과적으로, 이러한 연구를 통해 제안된 시나리오는 자율주행 제어권 전환 상황에 대한 대표성을 가지고, 시뮬레이터 실험 결과는 이전 연구 결과와 부합하는 것으로 밝혀졌다. 본 연구는 자율주행 제어권 전환의 안 전성 요소 및 시나리오를 활용하여 다양한 연구 결과를 상호 비교할 수 있는 가능성을 제시하였다는 점에서 의의가 있다. 다만 이는 운전 시뮬레 이터를 이용한 연구 결과이므로, 향후 실도로 실험 결과와 비교하여 타당 성을 검증할 필요가 있음을 밝힌다.\n",
      "\n",
      "\n",
      "원문보기\n",
      "\n",
      "\n",
      "목차검색조회\n",
      "\n",
      "\n",
      "음성듣기\n",
      "\n",
      "\n",
      " 본 논문은 지금까지의 자율주행자동차에 관한 사회과학과 자연과학의 기술적 지식을 통합하여 혁신에 대한 시장의 수용이라는 문제에 대해 하나의 해결책에 관한 통찰을 제공했다는 측면에서 의의가 있다.서, 사고가 예방된다는 여지가 적다고 인식하기 때문일 것이다. 자율주행자동차의 교통사고는 인재가 아닌 악천후처럼 천재로 인한 사고로 인식할지도 모른다는 가능성을 엿보게 한다. 이러한 결과는 향후 교통정책과 보험정책 등에 통찰력을 제공해 줄 수 있다. 자율주행자동차 관련 사고는 피하기 어렵다고 인식하는 것으로 여겨진다.t prevention. Autonomous driving car traffic accidents are not talented people, such as bad weather, such as a genius may be aware of the possibility of an accident to see. These results can provide insights into future traffic and insurance policies. When we consider the nature of engineering as a problem solving through scientific knowledge, this paper integrates the scientific and technical knowledge on autonomous vehicles so far and provides an insight into one solution to the problem of market acceptance of innovation It is believed that there is engineering significance in terms of making. 스스로 생각하고 판단하여 움직이는 자율주행자동차는 공상과학영화의 단골 소재였지만, 4차 산업혁명시대의 오늘날에는 더 이상 허구나 상상이 아닌 현실이 되어 다가왔다. 인터넷 기업인 구글(Google)이 선보인 자율주행자동차는 자동차 업계는 물론 산업전반에 걸쳐 적잖은 영향과 변화를 불러일으키고 있다. 매일 수백만 명이 교통사고로 다치고 3,500명 이상이 사망한다는 세계보건기구(WTO)의 발표는, 자율주행자동차라는 혁신적인 상품의 수용과 상용화를 더욱 앞당기고 있다.  \n",
      "\n",
      "\n",
      "원문보기\n",
      "\n",
      "\n",
      "목차검색조회\n",
      "\n",
      "\n",
      "음성듣기\n",
      "\n",
      "\n",
      "  This thesis consists of the following chapters: Chapter 1: Introduction, Chapter 2: Understanding autonomous driving car, Chapter 3: A prototype for autonomous driving, Chapter 4: Experiments and Results, Chapter 5: Summary and Future plan. secondary school education. autonomous driving car industry is one of the key sectors to determine the success of the innovative growth. Now the government is encouraging the car industries to do research and development for the autonomous driving car. Also, the institutions related with the car industries are training experts and professionals for education in schools and auto manufacturing industries. However, high cost of the equipment for the education is a big burden for educational institutions. Thus, a remote-controlled (RC) car employed with a Raspberry Pie camera was alternatively used as a prototype for the autonomous driving car test in this thesis. For the test, the RC car was put on a treadmill. Three key parameters controlling the performance of the RC car such as a forward viewing distance, critical threshold value, and proportional gain value (K) were individually varied to find optimum values and their influence on the driving performance by manual adjustment. The forward viewing distance was set to a range of value j from 120 to 240 by 20. The critical threshold values was varied from 10 to 13 by 1. The proportional gain value (K) was varied from 5 to 25 by 5. \n",
      "\n",
      "\n",
      "원문보기\n",
      "\n",
      "\n",
      "목차검색조회\n",
      "\n",
      "\n",
      "음성듣기\n",
      "\n",
      "\n",
      " The results of this study can be used as research data for introducing AVELs. AVEL operation is one of the traffic strategy options for ensuring traffic safety and improving road productivity when AVs and CVs coexist. Conclusively, it is expected to contribute to making policy decision for introducing AVELs in the future using the proposed criteria for ELs on the basis of road conditions, traffic volumes, MPRs, and other standards., and the standard traffic volumes for installation of ELs increased as the number of ELs increased. Although the number of ELs may vary depending on traffic conditions(traffic volume), one or two ELs need to be installed at LOS D in 2013 Highway Capacity Manual (2013 HCM). Additionally, it was concluded that three ELs were required for LOS E in 2013 HCM.ach MPR, the number of conflicts per 10,000 vehicles increased as throughput increased at the main lane and merging section as well as traffic volume at merging and diverging sections. The number of conflicts per 10,000 vehicles tended to increase at 20% MPR as the throughput on the ramp increased owing to vehicles attempting to enter the EL. However, at 80% MPR and a traffic volume of 8,000 vehicles, the number of conflicts per 10,000 vehicles decreased, as most vehicles were using the EL. The result of the EL efficiency analysis by MPRs showed that the throughput increased as MPRs increased from 20% to 40% when the EL was introduced. However, the throughput decreased at traffic volumes of around 8,000 vehicles or at 80% MPR as the traffic volume was concentrated in one EL.\n",
      "\n",
      "\n",
      "원문보기\n",
      "\n",
      "\n",
      "목차검색조회\n",
      "\n",
      "\n",
      "음성듣기\n",
      "\n",
      "\n",
      "    The hypothesis of this study is that “the introduction of self-driving cars and C-ITS will improve the mobility aspect, which will change the preference for existing residential locations.” To identify this, the AHP survey of 50 residents in the Seoul metropolitan area and 20 transportation experts will be conducted to determine the importance of residential preference factors for each situation. This study first identifies the importance of residential preference in the current situation before the introduction of autonomous vehicles, second, the residential preference when autonomous vehicles are introduced in the same questionnaire, and third, self-driving cars and C-ITS are introduced, residential preferences are re-examined to compare and analyze the importance of residential preferences in three situations. The results of this study are presented as a reference for changes in residential preferences as a result of the introduction of self-driving cars and C-ITS, which will contribute to identifying the factors that should be preferentially introduced in new towns or urban redevelopment.mobility aspects of autonomous vehicles. Accessibility, commuting time and commuting distance have a direct impact on residential location selection. Although residential location trends have been analyzed in various aspects in analyzing existing residential preferences, there has been a lack of research on changes in residential preferences due to improvement of autonomous driving and C-ITS. Autonomous driving and the introduction of C-ITS are expected to change the preference for residential locations, which valued existing accessibility, commuting time and commuting distance, as they are accompanied by improved mobility and convenience.\n",
      "\n",
      "\n",
      "원문보기\n",
      "\n",
      "\n",
      "목차검색조회\n",
      "\n",
      "\n",
      "음성듣기\n",
      "\n",
      "\n",
      "   이에 따라 본 논문에서는 자율주행자동차에 관한 문제들을 현행제도와 연계하여 검토하고 각국의 입법례를 살펴보며, 검토 하는 과정에서 나타나는 기술적𐄁법적 문제들에 대한 해결 방안을 제시하였다. 또한, 본 논문은 자율주행자동차를 둘러싼 법적 쟁점과 관련하여 법제도적 측면에서의 대안을 제시하고 미래의 과학 기술을 인류가 주도하여 안전하게 사용할 수 있도록 그 방향성을 제시하였다. 이는 레벨4𐄁5의 완전 자율주행자동차의 상용화를 대비해야하는 현재의 시점에서 자율주행자동차 산업에서 기술 개발하고 있는 기업들을 대상으로 도움이 될 수 있을 것이다.술들의 유기적인 연구가 필요하며 자율주행자동차 산업 및 차량에 관한 책임법제와 규제법제가 제정 및 개정되어야 한다.\n",
      "\n",
      "\n",
      "원문보기\n",
      "\n",
      "\n",
      "목차검색조회\n",
      "\n",
      "\n",
      "음성듣기\n",
      "\n",
      "\n",
      " 제안한 파이프라인과 플랫폼은 도커 컨테이너를 사용해 구축하였으며, BDD 100K 오픈 데이터 세트와 센서가 탑재된 실제 차량 주행 데이터로 실험을 수행한다. 이에 따른 데이터 송수신 지연 시간을 측정하고, 플랫폼을 활용할 수 있는 방안을 제시한다.저장 및 분석할 수 있는 플랫폼을 하둡 에코시스템의 하둡, 스파크, 카프카, 제플린과 마리아DB를 사용하여 설계하였다.sion and receipt and presents a plan to utilize the platform. 센서 기술의 한계에 따른 자율주행 자동차 탑승자의 위험성을 감소하기 위해 주변 차량 및 인프라로부터 데이터를 전달받아 주행에 활용하는 커넥티드 자율주행 자동차에 대한 연구가 활발하다. 인프라와 커넥티드 자율주행 자동차가 연결된 환경을 C-ITS라 하며 탑승자의 편안함과 안전성을 보장할 수 있다.em.ehicles are connected is called C-ITS and can guarantee the comfort and safety of passengers.\n",
      "\n",
      "\n",
      "원문보기\n",
      "\n",
      "\n",
      "목차검색조회\n",
      "\n",
      "\n",
      "음성듣기\n",
      "\n",
      "\n",
      " 최첨단 시대를 살아감에도 불구하고 한국사회는 IT업종을 제외한 많은 기업들과 사회시스템은 여전히 기존 방식에서 변화하지 못하고 있다. 변화하지 않는 기업은 살아남을 수 없다는 사실과 작은 실천이 변화의 시작이기 때문에 본 논문에서는 그 작은 변화를 목표로 고안되었다.트를 통해 그 안전성과 편리성은 입증되었지만 아직 한국은 뒤쳐지고 있는 실정이다. 이에 본 논문은 해외 여러 성공적인 사례들과 실제 적용할 수 있는 아이디어들을 고찰을 통해 실험하고 정리하였다. g of change, this paper is devised with the aim of that small change. 현대 사회는 하드웨어와 소프트웨어가 결합한 플랫폼 비즈니스를 적용한 거대 기업들이 주를 이루고 있다. 구글, 애플, 삼성 등의 글로벌 IT기업들이 전세계 소비자들에게 편의를 제공하며 동시에 큰 경제적 이익을 취하고 있다. 이러한 기업들은 시장을 점유하고 있음에도 이에 안주하지 않고 IT를 자동차에 접목시켜 새로운 산업을 만들고 이끌어 가고 있다. m abroad and ideas that can be applied in practice.\n",
      "\n",
      "\n",
      "원문보기\n",
      "\n",
      "\n",
      "목차검색조회\n",
      "\n",
      "\n",
      "음성듣기\n",
      "\n",
      "\n",
      "9   도심자율주행을 위한 도로정보모델기반 통합운전계획 시스템에 관한 연구  김준수 한양대학교 대학원 2015 국내박사  RANK : 13880191    원문보기 목차검색조회 음성듣기             최근 자동차 연구분야에 있어서 차량 안전도 및 탑승자 편의향상을 위해 자율주행 자동차관련 기술실현이 핵심 이슈로 자리잡고 있다. 이와 같은 목적을 달성하기 위한 자율주행 자동차는 주행환경을 인지하고 운전자의 개입 없이 스스로 주행할 수 있어야 한다. 이러한 자율주행 자동차의 개발에 있어서 위치추정, 환경인지, 운전계획, 차량제어 및 시스템 운영관련 등의 최신 기술들은 필수적인 요소이다. 이 최신 기술 중에서 운전계획은 자율주행 자동차의 안전한 주행을 위한 전반적인 거동 및 주행전략을 결정짓는 핵심이라 말할 수 있다.  이 논문은 도심주행환경에서 자율주행자동차의 안정적인 주행전략을 제공하기 위한 운전계획 알고리즘에 대해 제안한다. 제안한 알고리즘은 복잡한 도심도로환경을 분석하고 상황에 맞는 운전경로를 제공하기 위한 도로정보모델기반 통합운전계획 시스템으로써 총 3가지 서브 시스템(전역경로 계획시스템, 행동 계획시스템, 지역경로 계획시스템)으로 구성된다. 첫째로, 전역경로 계획시스템은 출발지에서 목적지까지의 경로를 검색할 뿐만 아니라 Open Street Map (OSM) 데이터 모델을 사용하여 구축한 지도 데이터베이스로부터 도로정보모델을 생성한다. 생성된 도로정보모델을 바탕으로 행동 계획시스템은 주행상황판단 및 규칙기반 결정 프로세스를 통해 자율주행차량의 전반적인 거동을 결정한다. 최종적으로 지역경로 계획시스템은 안정적인 자율주행을 위한 장애물 회피 경로를 탐색한다.  제안한 통합운전계획 시스템을 구현 및 검증하기 위해, A1 및 H-CAB의 두 자율주행 자동차를 개발하였다. 이 두 자율주행차량의 구현을 위해, 네트워크기반 분산시스템 플랫폼 및 AUTOSAR 방법론 기반 개발 프로세스가 적용되었다. 이를 통해 연구개발한 자율주행자동차 및 운전계획 알고리즘에 대한 평가를 다양한 실험을 통해 수행할 수 있었다. 결과적으로 제안한 통합운전계획 시스템이 자율주행차량의 최적경로를 검색할 뿐만 아니라 연산효율측면에 있어서도 우수한 성능을 보임을 확인할 수 있었다. Realization of autonomous vehicle is one of key issues in automotive research areas for improving vehicle safety and passenger comfort. For achieving these objectives, autonomous vehicles should perceive road environments and drive by itself without human intervention. The development of autonomous vehicle requires the state-of-the-art technologies in localization, perception, planning, control, and system management. Among these core technologies, the planning is the key element which determines the behavior and motion of the autonomous vehicle for safe vehicle navigation. This dissertation presents the planning algorithms that provide reliable navigation capability to the autonomous vehicle under urban environments. In order to analyze the complex urban road situations and decide appropriate vehicle motion, a road information model-based integrated motion planning system is proposed in this dissertation. The proposed integrated motion planning system is composed of three subcomponents: global path planning system, behavior planning system, and local trajectory planning system. The global path planning system finds a global route from a start point to a destination, and it derives a road information model from a developed road map database using Open Street Map (OSM) data model. Based on the road information model, the behavior planning system determines overall maneuvers of the autonomous vehicle through situation assessment and rule-based decision process. Finally, the local trajectory planning system finds a collision-free and smooth trajectory for safe and reliable autonomous driving.  In order to implement and validate the proposed integrated motion planning system, the two autonomous vehicles were developed: A1 and H-CAB. For the implementation of both autonomous vehicles, in-vehicle network (IVN)-based distributed system platform and AUTOSAR methodology-based development process were applied. Using the system platform and development process, intensive experimental studies were performed for evaluation of the developed autonomous vehicles and planning algorithms. From the experimental results, the proposed integrated motion planning system was validated to find an optimal motion of vehicle as well as to show excellent computational efficiency for urban autonomous driving.\n",
      "\n",
      "\n",
      "원문보기\n",
      "\n",
      "\n",
      "목차검색조회\n",
      "\n",
      "\n",
      "음성듣기\n",
      "\n",
      "\n",
      " It is expected that pedestrian safety will be greatly improved by preventing pedestrian accidents if it is applied to the traffic ICT field of Autonomous driving vehicles demonstration complexes and smart cities.the occurrence of undetection. In addition, the accuracy of the aggregation would be improved by matching each event detected through a Lidar sensor and intelligent CCTV.tion of overlapping events and the improvement of accuracy of the same time, place, and object was presented.\n",
      "\n",
      "\n",
      "원문보기\n",
      "\n",
      "\n",
      "목차검색조회\n",
      "\n",
      "\n",
      "음성듣기\n",
      "\n",
      "\n"
     ]
    }
   ],
   "source": [
    "time.sleep(2)  # 페이지가 로드될 때까지 기다립니다.\n",
    "driver.find_element(By.LINK_TEXT, '학위논문').click()\n",
    "time.sleep(2)\n",
    "\n",
    "# Step 6. Beautiful Soup 로 본문 내용만 추출하기\n",
    "html_1 = driver.page_source  # 현재 페이지의 전체 소스코드를 가져옵니다.\n",
    "soup_1 = BeautifulSoup(html_1, 'html.parser')  # 파싱\n",
    "\n",
    "content_1 = soup_1.find('div', class_='srchResultListW').find_all('li')  # 찾기\n",
    "for i in content_1:\n",
    "    print(i.get_text().replace(\"\\n\", \" \").strip())\n",
    "    print(\"\\n\")\n"
   ]
  },
  {
   "cell_type": "code",
   "execution_count": 14,
   "metadata": {},
   "outputs": [
    {
     "name": "stdout",
     "output_type": "stream",
     "text": [
      "As a result, the scenarios proposed in this study were found to be representative of autonomous control transition situations, and the results of the simulator experiments were consistent with previous studies. The significance of this study is that it provides the possibility of comparing the results of various studies utilizing safety factors and scenarios of autonomous driving control transition. However, since this study was conducted using a driving simulator, it is necessary to verify the validity of the results by comparing them with real-world experiments in the future. 미국 자동차공학회(SAE; Society of Automotive Engineers)에 따르면 자율주행 레벨 3은 운전자가 부분적으로 전방 주시 의무에서 벗어날 수 있는 차량으로, 주행 중 자율주행 모드와 운전자 직접 운행 모드로 전환 할 수 있는 안전 메커니즘을 갖추고 있다. 이러한 자율주행 레벨 3단계에 서는 갑작스러운 위험 상황에서 제어권 모드가 전환될 때 운전자의 상태 에 따라 사고가 발생할 수 있으므로, 안정적인 제어권 전환이 중요한 요 소로 간주된다. 이런 점에서, 운전자의 상황인지(SA; Situation Awareness) 와 제어권 전환에 따른 운전 능력에 관한 연구가 필요하다. 자율주행 제어권 전환에서 나타나는 문제점으로 인해 제어권 전환의 안전성 평가에 대한 연구가 진행되어 왔지만, 아직은 관련 기준과 연구 결과가 부족한 상황이다. 특히, 운전자의 특성을 반영한 평가 방법과 일 반화 가능한 기준 시나리오의 부재가 제어권 전환 안전성 연구의 한계로 지적되고 있다. 이를 고려해, 본 연구에서는 자율주행 레벨 3의 제어권 전환 상황을 대표하는 기준 시나리오를 제안하고, 성별과 연령 등의 인적 요인을 고려하여 시나리오 기반 제어권 전환 안전성 요인을 도출하였다. 이를 위해 먼저 자율주행 자동차의 정의, 가이드라인 및 선행 연구를 분석하여 시나리오를 도출하였으며, 이 과정에서 긴급성, 예측가능성, 위 험도, 운전자 반응의 측면을 고려한 기준 시나리오 5종을 제안하였다. 제 안된 시나리오에는 1건의 계획된 시나리오(planned scenario)와 4건의 계 획되지 않은 시나리오(unplanned scenario), 즉 차선 인식 불량, 전방의 사 고 구간 발생 등이 포함되어 있으며, 이를 바탕으로 시뮬레이터 실험을 설계하여 제어권 전환의 안전성 평가를 진행하였다. 총 32명이 참여한 시뮬레이터 실험 결과, 본 연구에서 제시한 자율주 행 제어권 전환 안전성 평가 시나리오는 긴급성(Urgency), 위험성 (Criticality), 시간 적절성(Time budget), 정신적 부담(Mental workload), 신 체적 부담(Physical workload) 측면에서 상, 중, 하의 난이도를 대표할 수 있는 시나리오인 것으로 확인되었다. 또한 자율주행 제어권 전환과 인적 요인(연령, 성별)이 운전자의 수행 도에 미치는 영향을 분석한 결과, 연령과 상황별 시나리오가 브레이크 반 응시간(BRT; Brake Reaction Time)과 차선유지 능력(SDLP; S.D. of Lateral Position)에 유의한 영향을 미치는 것으로 나타났다. 운전자의 스트레스나 긴장감을 나타내는 지표인 심박수 표준편차(SDHR; S.D. of Heart Rate)에 서는 연령과 성별 간의 교호작용이 유의한 것으로 드러났으며, 특히 여성 고령 운전자의 경우 돌발 상황에서 더 높은 스트레스와 긴장감을 보이며 부정적인 사용자 경험을 갖게 될 수 있음이 확인되었다. 결과적으로, 이러한 연구를 통해 제안된 시나리오는 자율주행 제어권 전환 상황에 대한 대표성을 가지고, 시뮬레이터 실험 결과는 이전 연구 결과와 부합하는 것으로 밝혀졌다. 본 연구는 자율주행 제어권 전환의 안 전성 요소 및 시나리오를 활용하여 다양한 연구 결과를 상호 비교할 수 있는 가능성을 제시하였다는 점에서 의의가 있다. 다만 이는 운전 시뮬레 이터를 이용한 연구 결과이므로, 향후 실도로 실험 결과와 비교하여 타당 성을 검증할 필요가 있음을 밝힌다.\n",
      "원문보기\n",
      "목차검색조회\n",
      "음성듣기\n",
      "본 논문은 지금까지의 자율주행자동차에 관한 사회과학과 자연과학의 기술적 지식을 통합하여 혁신에 대한 시장의 수용이라는 문제에 대해 하나의 해결책에 관한 통찰을 제공했다는 측면에서 의의가 있다. , 사고가 예방된다는 여지가 적다고 인식하기 때문일 것이다. 자율주행자동차의 교통사고는 인재가 아닌 악천후처럼 천재로 인한 사고로 인식할지도 모른다는 가능성을 엿보게 한다. 이러한 결과는 향후 교통정책과 보험정책 등에 통찰력을 제공해 줄 수 있다. 자율주행자동차 관련 사고는 피하기 어렵다고 인식하는 것으로 여겨진다.t prevention. Autonomous driving car traffic accidents are not talented people, such as bad weather, such as a genius may be aware of the possibility of an accident to see. These results can provide insights into future traffic and insurance policies. When we consider the nature of engineering as a problem solving through scientific knowledge, this paper integrates the scientific and technical knowledge on autonomous vehicles so far and provides an insight into one solution to the problem of market acceptance of innovation It is believed that there is engineering significance in terms of making. 스스로 생각하고 판단하여 움직이는 자율주행자동차는 공상과학영화의 단골 소재였지만, 4차 산업혁명시대의 오늘날에는 더 이상 허구나 상상이 아닌 현실이 되어 다가왔다. 인터넷 기업인 구글(Google)이 선보인 자율주행자동차는 자동차 업계는 물론 산업전반에 걸쳐 적잖은 영향과 변화를 불러일으키고 있다. 매일 수백만 명이 교통사고로 다치고 3,500명 이상이 사망한다는 세계보건기구(WTO)의 발표는, 자율주행자동차라는 혁신적인 상품의 수용과 상용화를 더욱 앞당기고 있다.  \n",
      "원문보기\n",
      "목차검색조회\n",
      "음성듣기\n",
      " This thesis consists of the following chapters: Chapter 1: Introduction, Chapter 2: Understanding autonomous driving car, Chapter 3: A prototype for autonomous driving, Chapter 4: Experiments and Results, Chapter 5: Summary and Future plan. secondary school education. autonomous driving car industry is one of the key sectors to determine the success of the innovative growth. Now the government is encouraging the car industries to do research and development for the autonomous driving car. Also, the institutions related with the car industries are training experts and professionals for education in schools and auto manufacturing industries. However, high cost of the equipment for the education is a big burden for educational institutions. Thus, a remote-controlled (RC) car employed with a Raspberry Pie camera was alternatively used as a prototype for the autonomous driving car test in this thesis. For the test, the RC car was put on a treadmill. Three key parameters controlling the performance of the RC car such as a forward viewing distance, critical threshold value, and proportional gain value (K) were individually varied to find optimum values and their influence on the driving performance by manual adjustment. The forward viewing distance was set to a range of value j from 120 to 240 by 20. The critical threshold values was varied from 10 to 13 by 1. The proportional gain value (K) was varied from 5 to 25 by 5. \n",
      "원문보기\n",
      "목차검색조회\n",
      "음성듣기\n",
      "The results of this study can be used as research data for introducing AVELs. AVEL operation is one of the traffic strategy options for ensuring traffic safety and improving road productivity when AVs and CVs coexist. Conclusively, it is expected to contribute to making policy decision for introducing AVELs in the future using the proposed criteria for ELs on the basis of road conditions, traffic volumes, MPRs, and other standards., and the standard traffic volumes for installation of ELs increased as the number of ELs increased. Although the number of ELs may vary depending on traffic conditions(traffic volume), one or two ELs need to be installed at LOS D in 2013 Highway Capacity Manual (2013 HCM). Additionally, it was concluded that three ELs were required for LOS E in 2013 HCM.ach MPR, the number of conflicts per 10,000 vehicles increased as throughput increased at the main lane and merging section as well as traffic volume at merging and diverging sections. The number of conflicts per 10,000 vehicles tended to increase at 20% MPR as the throughput on the ramp increased owing to vehicles attempting to enter the EL. However, at 80% MPR and a traffic volume of 8,000 vehicles, the number of conflicts per 10,000 vehicles decreased, as most vehicles were using the EL. The result of the EL efficiency analysis by MPRs showed that the throughput increased as MPRs increased from 20% to 40% when the EL was introduced. However, the throughput decreased at traffic volumes of around 8,000 vehicles or at 80% MPR as the traffic volume was concentrated in one EL.\n",
      "원문보기\n",
      "목차검색조회\n",
      "음성듣기\n",
      "   The hypothesis of this study is that “the introduction of self-driving cars and C-ITS will improve the mobility aspect, which will change the preference for existing residential locations.” To identify this, the AHP survey of 50 residents in the Seoul metropolitan area and 20 transportation experts will be conducted to determine the importance of residential preference factors for each situation. This study first identifies the importance of residential preference in the current situation before the introduction of autonomous vehicles, second, the residential preference when autonomous vehicles are introduced in the same questionnaire, and third, self-driving cars and C-ITS are introduced, residential preferences are re-examined to compare and analyze the importance of residential preferences in three situations. The results of this study are presented as a reference for changes in residential preferences as a result of the introduction of self-driving cars and C-ITS, which will contribute to identifying the factors that should be preferentially introduced in new towns or urban redevelopment.mobility aspects of autonomous vehicles. Accessibility, commuting time and commuting distance have a direct impact on residential location selection. Although residential location trends have been analyzed in various aspects in analyzing existing residential preferences, there has been a lack of research on changes in residential preferences due to improvement of autonomous driving and C-ITS. Autonomous driving and the introduction of C-ITS are expected to change the preference for residential locations, which valued existing accessibility, commuting time and commuting distance, as they are accompanied by improved mobility and convenience.\n",
      "원문보기\n",
      "목차검색조회\n",
      "음성듣기\n",
      "  이에 따라 본 논문에서는 자율주행자동차에 관한 문제들을 현행제도와 연계하여 검토하고 각국의 입법례를 살펴보며, 검토 하는 과정에서 나타나는 기술적𐄁법적 문제들에 대한 해결 방안을 제시하였다. 또한, 본 논문은 자율주행자동차를 둘러싼 법적 쟁점과 관련하여 법제도적 측면에서의 대안을 제시하고 미래의 과학 기술을 인류가 주도하여 안전하게 사용할 수 있도록 그 방향성을 제시하였다. 이는 레벨4𐄁5의 완전 자율주행자동차의 상용화를 대비해야하는 현재의 시점에서 자율주행자동차 산업에서 기술 개발하고 있는 기업들을 대상으로 도움이 될 수 있을 것이다.술들의 유기적인 연구가 필요하며 자율주행자동차 산업 및 차량에 관한 책임법제와 규제법제가 제정 및 개정되어야 한다.\n",
      "원문보기\n",
      "목차검색조회\n",
      "음성듣기\n",
      "제안한 파이프라인과 플랫폼은 도커 컨테이너를 사용해 구축하였으며, BDD 100K 오픈 데이터 세트와 센서가 탑재된 실제 차량 주행 데이터로 실험을 수행한다. 이에 따른 데이터 송수신 지연 시간을 측정하고, 플랫폼을 활용할 수 있는 방안을 제시한다. 장 및 분석할 수 있는 플랫폼을 하둡 에코시스템의 하둡, 스파크, 카프카, 제플린과 마리아DB를 사용하여 설계하였다.sion and receipt and presents a plan to utilize the platform. 센서 기술의 한계에 따른 자율주행 자동차 탑승자의 위험성을 감소하기 위해 주변 차량 및 인프라로부터 데이터를 전달받아 주행에 활용하는 커넥티드 자율주행 자동차에 대한 연구가 활발하다. 인프라와 커넥티드 자율주행 자동차가 연결된 환경을 C-ITS라 하며 탑승자의 편안함과 안전성을 보장할 수 있다.em.led C-ITS and can guarantee the comfort and safety of passengers.\n",
      "원문보기\n",
      "목차검색조회\n",
      "음성듣기\n",
      "최첨단 시대를 살아감에도 불구하고 한국사회는 IT업종을 제외한 많은 기업들과 사회시스템은 여전히 기존 방식에서 변화하지 못하고 있다. 변화하지 않는 기업은 살아남을 수 없다는 사실과 작은 실천이 변화의 시작이기 때문에 본 논문에서는 그 작은 변화를 목표로 고안되었다.트를 통해 그 안전성과 편리성은 입증되었지만 아직 한국은 뒤쳐지고 있는 실정이다. 이에 본 논문은 해외 여러 성공적인 사례들과 실제 적용할 수 있는 아이디어들을 고찰을 통해 실험하고 정리하였다. g of change, this paper is devised with the aim of that small change. 현대 사회는 하드웨어와 소프트웨어가 결합한 플랫폼 비즈니스를 적용한 거대 기업들이 주를 이루고 있다. 구글, 애플, 삼성 등의 글로벌 IT기업들이 전세계 소비자들에게 편의를 제공하며 동시에 큰 경제적 이익을 취하고 있다. 이러한 기업들은 시장을 점유하고 있음에도 이에 안주하지 않고 IT를 자동차에 접목시켜 새로운 산업을 만들고 이끌어 가고 있다. m abroad and ideas that can be applied in practice.\n",
      "원문보기\n",
      "목차검색조회\n",
      "음성듣기\n",
      "9도심자율주행을 위한 도로정보모델기반 통합운전계획 시스템에 관한 연구김준수한양대학교 대학원2015국내박사RANK : 13880191원문보기목차검색조회음성듣기최근 자동차 연구분야에 있어서 차량 안전도 및 탑승자 편의향상을 위해 자율주행 자동차관련 기술실현이 핵심 이슈로 자리잡고 있다. 이와 같은 목적을 달성하기 위한 자율주행 자동차는 주행환경을 인지하고 운전자의 개입 없이 스스로 주행할 수 있어야 한다. 이러한 자율주행 자동차의 개발에 있어서 위치추정, 환경인지, 운전계획, 차량제어 및 시스템 운영관련 등의 최신 기술들은 필수적인 요소이다. 이 최신 기술 중에서 운전계획은 자율주행 자동차의 안전한 주행을 위한 전반적인 거동 및 주행전략을 결정짓는 핵심이라 말할 수 있다. 이 논문은 도심주행환경에서 자율주행자동차의 안정적인 주행전략을 제공하기 위한 운전계획 알고리즘에 대해 제안한다. 제안한 알고리즘은 복잡한 도심도로환경을 분석하고 상황에 맞는 운전경로를 제공하기 위한 도로정보모델기반 통합운전계획 시스템으로써 총 3가지 서브 시스템(전역경로 계획시스템, 행동 계획시스템, 지역경로 계획시스템)으로 구성된다. 첫째로, 전역경로 계획시스템은 출발지에서 목적지까지의 경로를 검색할 뿐만 아니라 Open Street Map (OSM) 데이터 모델을 사용하여 구축한 지도 데이터베이스로부터 도로정보모델을 생성한다. 생성된 도로정보모델을 바탕으로 행동 계획시스템은 주행상황판단 및 규칙기반 결정 프로세스를 통해 자율주행차량의 전반적인 거동을 결정한다. 최종적으로 지역경로 계획시스템은 안정적인 자율주행을 위한 장애물 회피 경로를 탐색한다. 제안한 통합운전계획 시스템을 구현 및 검증하기 위해, A1 및 H-CAB의 두 자율주행 자동차를 개발하였다. 이 두 자율주행차량의 구현을 위해, 네트워크기반 분산시스템 플랫폼 및 AUTOSAR 방법론 기반 개발 프로세스가 적용되었다. 이를 통해 연구개발한 자율주행자동차 및 운전계획 알고리즘에 대한 평가를 다양한 실험을 통해 수행할 수 있었다. 결과적으로 제안한 통합운전계획 시스템이 자율주행차량의 최적경로를 검색할 뿐만 아니라 연산효율측면에 있어서도 우수한 성능을 보임을 확인할 수 있었다. Realization of autonomous vehicle is one of key issues in automotive research areas for improving vehicle safety and passenger comfort. For achieving these objectives, autonomous vehicles should perceive road environments and drive by itself without human intervention. The development of autonomous vehicle requires the state-of-the-art technologies in localization, perception, planning, control, and system management. Among these core technologies, the planning is the key element which determines the behavior and motion of the autonomous vehicle for safe vehicle navigation.This dissertation presents the planning algorithms that provide reliable navigation capability to the autonomous vehicle under urban environments. In order to analyze the complex urban road situations and decide appropriate vehicle motion, a road information model-based integrated motion planning system is proposed in this dissertation. The proposed integrated motion planning system is composed of three subcomponents: global path planning system, behavior planning system, and local trajectory planning system. The global path planning system finds a global route from a start point to a destination, and it derives a road information model from a developed road map database using Open Street Map (OSM) data model. Based on the road information model, the behavior planning system determines overall maneuvers of the autonomous vehicle through situation assessment and rule-based decision process. Finally, the local trajectory planning system finds a collision-free and smooth trajectory for safe and reliable autonomous driving. In order to implement and validate the proposed integrated motion planning system, the two autonomous vehicles were developed: A1 and H-CAB. For the implementation of both autonomous vehicles, in-vehicle network (IVN)-based distributed system platform and AUTOSAR methodology-based development process were applied. Using the system platform and development process, intensive experimental studies were performed for evaluation of the developed autonomous vehicles and planning algorithms. From the experimental results, the proposed integrated motion planning system was validated to find an optimal motion of vehicle as well as to show excellent computational efficiency for urban autonomous driving.\n",
      "원문보기\n",
      "목차검색조회\n",
      "음성듣기\n",
      "It is expected that pedestrian safety will be greatly improved by preventing pedestrian accidents if it is applied to the traffic ICT field of Autonomous driving vehicles demonstration complexes and smart cities.the occurrence of undetection. In addition, the accuracy of the aggregation would be improved by matching each event detected through a Lidar sensor and intelligent CCTV.tion of overlapping events and the improvement of accuracy of the same time, place, and object was presented.\n",
      "원문보기\n",
      "목차검색조회\n",
      "음성듣기\n",
      "\n",
      "요청하신 데이터 수집 작업이 정상적으로 완료되었습니다\n",
      "수집된 결과는 c:\\temp\\riss.txt 에 저장되었습니다\n"
     ]
    }
   ],
   "source": [
    "#Step 7. 표준 출력 방향을 바꾸어 txt 파일에 저장하기\n",
    "import sys \n",
    "f_name = 'c:\\\\temp\\\\riss.txt'\n",
    "\n",
    "for i in content_1 :  \n",
    "    file = open(f_name , 'a' , encoding='UTF-8')\n",
    "    print(i.get_text().replace(\"\\n\",\"\"))\n",
    "    file.write('\\n'+ i.get_text())\n",
    "    file.close()    \n",
    "\n",
    "print()\n",
    "print('요청하신 데이터 수집 작업이 정상적으로 완료되었습니다')\n",
    "print('수집된 결과는 %s 에 저장되었습니다' %f_name)"
   ]
  },
  {
   "cell_type": "code",
   "execution_count": null,
   "metadata": {},
   "outputs": [],
   "source": []
  }
 ],
 "metadata": {
  "kernelspec": {
   "display_name": "Python 3 (ipykernel)",
   "language": "python",
   "name": "python3"
  },
  "language_info": {
   "codemirror_mode": {
    "name": "ipython",
    "version": 3
   },
   "file_extension": ".py",
   "mimetype": "text/x-python",
   "name": "python",
   "nbconvert_exporter": "python",
   "pygments_lexer": "ipython3",
   "version": "3.11.7"
  }
 },
 "nbformat": 4,
 "nbformat_minor": 2
}
